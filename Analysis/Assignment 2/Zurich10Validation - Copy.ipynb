{
 "cells": [
  {
   "cell_type": "code",
   "execution_count": null,
   "id": "1e078770-cf6a-43d2-8ad4-15a3d758c701",
   "metadata": {},
   "outputs": [],
   "source": [
    "import gzip\n",
    "import xml.etree.ElementTree as ET\n",
    "\n",
    "# Replace 'your_file_path.xml.gz' with the path to your file\n",
    "file_path_10pct = \"C:/Users/muaa/Documents/3_MIEI/2023_ABMT_Data/Zurich/10pct/zurich_population_10pct.xml.gz\"\n",
    "file_path_25pct = \"C:/Users/muaa/Documents/3_MIEI/2023_ABMT_Data/Zurich/25pct/zurich_population_25pct.xml.gz\"\n",
    "file_path_100pct = \"C:/Users/muaa/Documents/3_MIEI/2023_ABMT_Data/Zurich/100pct/imputed_population_converted_100pct.xml.gz\"\n",
    "\n",
    "def count_unique_persons(file_path):\n",
    "    with gzip.open(file_path, 'r') as file:\n",
    "        tree = ET.parse(file)\n",
    "        root = tree.getroot()\n",
    "        person_ids = set(person.get(\"id\") for person in root.iter('person'))\n",
    "        return len(person_ids)\n",
    "\n",
    "# Count the unique person IDs\n",
    "num_persons_10pct = count_unique_persons(file_path_10pct)\n",
    "num_persons_25pct = count_unique_persons(file_path_25pct)\n",
    "num_persons_100pct = count_unique_persons(file_path_100pct)\n",
    "\n",
    "print(f\"Number of unique persons: {num_persons_10pct}, {num_persons_25pct},{num_persons_100pct} \")\n"
   ]
  },
  {
   "cell_type": "code",
   "execution_count": null,
   "metadata": {},
   "outputs": [],
   "source": []
  }
 ],
 "metadata": {
  "kernelspec": {
   "display_name": "Python 3 (ipykernel)",
   "language": "python",
   "name": "python3"
  },
  "language_info": {
   "codemirror_mode": {
    "name": "ipython",
    "version": 3
   },
   "file_extension": ".py",
   "mimetype": "text/x-python",
   "name": "python",
   "nbconvert_exporter": "python",
   "pygments_lexer": "ipython3",
   "version": "3.12.0"
  }
 },
 "nbformat": 4,
 "nbformat_minor": 5
}
