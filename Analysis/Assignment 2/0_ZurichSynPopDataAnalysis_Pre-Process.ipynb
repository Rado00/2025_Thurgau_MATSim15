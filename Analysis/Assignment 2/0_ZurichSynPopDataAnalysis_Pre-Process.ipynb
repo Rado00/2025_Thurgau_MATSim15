{
 "cells": [
  {
   "cell_type": "markdown",
   "metadata": {
    "tags": []
   },
   "source": [
    "# <font color=\"silver\"> Zurich SynPop Data Analysis - <font color=\"gold\"> Pre-Process"
   ]
  },
  {
   "cell_type": "code",
   "execution_count": null,
   "metadata": {},
   "outputs": [],
   "source": [
    "# pip install seaborn"
   ]
  },
  {
   "cell_type": "code",
   "execution_count": null,
   "metadata": {},
   "outputs": [],
   "source": [
    "# Import necessary Libraries\n",
    "import os\n",
    "import matsim\n",
    "import pandas as pd\n",
    "import seaborn as sns\n",
    "import geopandas as gpd\n",
    "import contextily as ctx\n",
    "import matplotlib.pyplot as plt\n",
    "from collections import defaultdict\n",
    "%matplotlib inline"
   ]
  },
  {
   "cell_type": "code",
   "execution_count": 82,
   "metadata": {},
   "outputs": [],
   "source": [
    "# Path of the .gz file\n",
    "populationPath10pct = r\"C:\\Users\\muaa\\Documents\\3_MIEI\\2023_ABMT_Data\\Zurich\\10pct\\zurich_population_10pct.xml.gz\"\n",
    "populationPath100pct = r\"C:\\Users\\muaa\\Documents\\3_MIEI\\2023_ABMT_Data\\Zurich\\100pct\\zurich_population_100pct.xml.gz\""
   ]
  },
  {
   "cell_type": "code",
   "execution_count": 83,
   "metadata": {},
   "outputs": [],
   "source": [
    "# Read the data\n",
    "plan_df = matsim.plan_reader_dataframe(populationPath10pct)"
   ]
  },
  {
   "cell_type": "markdown",
   "metadata": {},
   "source": [
    "## <font color=\"green\"> Activities Dataframe"
   ]
  },
  {
   "cell_type": "code",
   "execution_count": 84,
   "metadata": {},
   "outputs": [
    {
     "data": {
      "text/plain": [
       "(1052661, 13)"
      ]
     },
     "execution_count": 84,
     "metadata": {},
     "output_type": "execute_result"
    }
   ],
   "source": [
    "# Shape of activities dataframe\n",
    "plan_df.activities.shape"
   ]
  },
  {
   "cell_type": "code",
   "execution_count": 85,
   "metadata": {},
   "outputs": [
    {
     "data": {
      "text/html": [
       "<div>\n",
       "<style scoped>\n",
       "    .dataframe tbody tr th:only-of-type {\n",
       "        vertical-align: middle;\n",
       "    }\n",
       "\n",
       "    .dataframe tbody tr th {\n",
       "        vertical-align: top;\n",
       "    }\n",
       "\n",
       "    .dataframe thead th {\n",
       "        text-align: right;\n",
       "    }\n",
       "</style>\n",
       "<table border=\"1\" class=\"dataframe\">\n",
       "  <thead>\n",
       "    <tr style=\"text-align: right;\">\n",
       "      <th></th>\n",
       "      <th>id</th>\n",
       "      <th>plan_id</th>\n",
       "      <th>type</th>\n",
       "      <th>link</th>\n",
       "      <th>facility</th>\n",
       "      <th>x</th>\n",
       "      <th>y</th>\n",
       "      <th>end_time</th>\n",
       "      <th>headway_min</th>\n",
       "      <th>max_dur</th>\n",
       "      <th>start_time</th>\n",
       "      <th>city</th>\n",
       "      <th>typeBeforeCutting</th>\n",
       "    </tr>\n",
       "  </thead>\n",
       "  <tbody>\n",
       "    <tr>\n",
       "      <th>0</th>\n",
       "      <td>1</td>\n",
       "      <td>1</td>\n",
       "      <td>home</td>\n",
       "      <td>270549</td>\n",
       "      <td>home4</td>\n",
       "      <td>2679482.0</td>\n",
       "      <td>1237545.0</td>\n",
       "      <td>07:50:56</td>\n",
       "      <td>30.0</td>\n",
       "      <td>NaN</td>\n",
       "      <td>NaN</td>\n",
       "      <td>NaN</td>\n",
       "      <td>NaN</td>\n",
       "    </tr>\n",
       "    <tr>\n",
       "      <th>1</th>\n",
       "      <td>2</td>\n",
       "      <td>1</td>\n",
       "      <td>pt interaction</td>\n",
       "      <td>617713</td>\n",
       "      <td>NaN</td>\n",
       "      <td>2679299.97008475</td>\n",
       "      <td>1237575.0077440983</td>\n",
       "      <td>NaN</td>\n",
       "      <td>NaN</td>\n",
       "      <td>00:00:00</td>\n",
       "      <td>NaN</td>\n",
       "      <td>NaN</td>\n",
       "      <td>NaN</td>\n",
       "    </tr>\n",
       "    <tr>\n",
       "      <th>2</th>\n",
       "      <td>3</td>\n",
       "      <td>1</td>\n",
       "      <td>pt interaction</td>\n",
       "      <td>586404</td>\n",
       "      <td>NaN</td>\n",
       "      <td>2681990.0107938214</td>\n",
       "      <td>1247298.9705903793</td>\n",
       "      <td>NaN</td>\n",
       "      <td>NaN</td>\n",
       "      <td>00:00:00</td>\n",
       "      <td>NaN</td>\n",
       "      <td>NaN</td>\n",
       "      <td>NaN</td>\n",
       "    </tr>\n",
       "    <tr>\n",
       "      <th>3</th>\n",
       "      <td>4</td>\n",
       "      <td>1</td>\n",
       "      <td>pt interaction</td>\n",
       "      <td>4222</td>\n",
       "      <td>NaN</td>\n",
       "      <td>2681934.8161827456</td>\n",
       "      <td>1247302.7661533705</td>\n",
       "      <td>NaN</td>\n",
       "      <td>NaN</td>\n",
       "      <td>00:00:00</td>\n",
       "      <td>NaN</td>\n",
       "      <td>NaN</td>\n",
       "      <td>NaN</td>\n",
       "    </tr>\n",
       "    <tr>\n",
       "      <th>4</th>\n",
       "      <td>5</td>\n",
       "      <td>1</td>\n",
       "      <td>pt interaction</td>\n",
       "      <td>955504</td>\n",
       "      <td>NaN</td>\n",
       "      <td>2683187.8521402166</td>\n",
       "      <td>1248065.21559948</td>\n",
       "      <td>NaN</td>\n",
       "      <td>NaN</td>\n",
       "      <td>00:00:00</td>\n",
       "      <td>NaN</td>\n",
       "      <td>NaN</td>\n",
       "      <td>NaN</td>\n",
       "    </tr>\n",
       "  </tbody>\n",
       "</table>\n",
       "</div>"
      ],
      "text/plain": [
       "   id  plan_id            type    link facility                   x                   y  end_time headway_min   max_dur start_time city typeBeforeCutting\n",
       "0   1        1            home  270549    home4           2679482.0           1237545.0  07:50:56        30.0       NaN        NaN  NaN               NaN\n",
       "1   2        1  pt interaction  617713      NaN    2679299.97008475  1237575.0077440983       NaN         NaN  00:00:00        NaN  NaN               NaN\n",
       "2   3        1  pt interaction  586404      NaN  2681990.0107938214  1247298.9705903793       NaN         NaN  00:00:00        NaN  NaN               NaN\n",
       "3   4        1  pt interaction    4222      NaN  2681934.8161827456  1247302.7661533705       NaN         NaN  00:00:00        NaN  NaN               NaN\n",
       "4   5        1  pt interaction  955504      NaN  2683187.8521402166    1248065.21559948       NaN         NaN  00:00:00        NaN  NaN               NaN"
      ]
     },
     "execution_count": 85,
     "metadata": {},
     "output_type": "execute_result"
    }
   ],
   "source": [
    "# Head of activities dataframe\n",
    "plan_df.activities.head()"
   ]
  },
  {
   "cell_type": "code",
   "execution_count": 86,
   "metadata": {},
   "outputs": [],
   "source": [
    "# Replacement dictionary\n",
    "replacements = {\n",
    "    'home': 'H',\n",
    "    'education': 'E',\n",
    "    'pt interaction': 'PT',\n",
    "    'outside': 'OU',\n",
    "    'leisure': 'L',\n",
    "    'other': 'O',\n",
    "    'shop': 'S',\n",
    "    'work': 'W',\n",
    "    'freight_loading': 'FL',\n",
    "    'freight_unloading': 'FU'\n",
    "}"
   ]
  },
  {
   "cell_type": "code",
   "execution_count": 87,
   "metadata": {},
   "outputs": [],
   "source": [
    "# Create a new column with short form of activity types\n",
    "plan_df.activities['short_type'] = plan_df.activities['type'].replace(replacements)"
   ]
  },
  {
   "cell_type": "code",
   "execution_count": 88,
   "metadata": {},
   "outputs": [],
   "source": [
    "# Eliminate PT Interaction from activities dataframe\n",
    "plan_df.activities = plan_df.activities[plan_df.activities['short_type'] != 'PT']"
   ]
  },
  {
   "cell_type": "code",
   "execution_count": 89,
   "metadata": {},
   "outputs": [],
   "source": [
    "# plan_df.activities[plan_df.activities['plan_id'] == 1]"
   ]
  },
  {
   "cell_type": "code",
   "execution_count": 90,
   "metadata": {},
   "outputs": [
    {
     "data": {
      "text/plain": [
       "id                        0\n",
       "plan_id                   0\n",
       "type                      0\n",
       "link                      0\n",
       "facility                  0\n",
       "x                         0\n",
       "y                         0\n",
       "end_time              79616\n",
       "headway_min          133778\n",
       "max_dur              667594\n",
       "start_time           327400\n",
       "city                 425582\n",
       "typeBeforeCutting    666343\n",
       "short_type                0\n",
       "dtype: int64"
      ]
     },
     "execution_count": 90,
     "metadata": {},
     "output_type": "execute_result"
    }
   ],
   "source": [
    "plan_df.activities.isnull().sum()"
   ]
  },
  {
   "cell_type": "code",
   "execution_count": 91,
   "metadata": {},
   "outputs": [
    {
     "data": {
      "text/plain": [
       "type\n",
       "outside              247934\n",
       "home                 206399\n",
       "work                  77309\n",
       "leisure               52304\n",
       "shop                  34409\n",
       "other                 28114\n",
       "education             16500\n",
       "freight_loading        2326\n",
       "freight_unloading      2299\n",
       "Name: count, dtype: int64"
      ]
     },
     "execution_count": 91,
     "metadata": {},
     "output_type": "execute_result"
    }
   ],
   "source": [
    "plan_df.activities['type'].value_counts()"
   ]
  },
  {
   "cell_type": "code",
   "execution_count": null,
   "metadata": {},
   "outputs": [],
   "source": []
  },
  {
   "cell_type": "code",
   "execution_count": 92,
   "metadata": {},
   "outputs": [
    {
     "name": "stderr",
     "output_type": "stream",
     "text": [
      "C:\\Users\\muaa\\AppData\\Local\\Temp\\ipykernel_22128\\1408306275.py:9: FutureWarning: \n",
      "\n",
      "Passing `palette` without assigning `hue` is deprecated and will be removed in v0.14.0. Assign the `x` variable to `hue` and set `legend=False` for the same effect.\n",
      "\n",
      "  sns.barplot(x=missing_counts_activities.index, y=missing_counts_activities.values, palette=\"pastel\")\n"
     ]
    },
    {
     "data": {
      "image/png": "[encoded data removed]",
      "text/plain": [
       "<Figure size 2000x500 with 1 Axes>"
      ]
     },
     "metadata": {},
     "output_type": "display_data"
    }
   ],
   "source": [
    "# Plot of missing values of activities dataframe\n",
    "missing_counts_activities = plan_df.activities.isnull().sum()\n",
    "\n",
    "# Set the style\n",
    "sns.set(style=\"darkgrid\")\n",
    "\n",
    "# Create a countplot to visualize missing value counts\n",
    "plt.figure(figsize=(20, 5))\n",
    "sns.barplot(x=missing_counts_activities.index, y=missing_counts_activities.values, palette=\"pastel\")\n",
    "plt.xlabel(\"Columns\")\n",
    "plt.ylabel(\"Missing Value Count\")\n",
    "plt.title(\"Missing Value Count by Column of activities dataframe\")\n",
    "plt.show()"
   ]
  },
  {
   "cell_type": "code",
   "execution_count": 93,
   "metadata": {},
   "outputs": [
    {
     "data": {
      "text/plain": [
       "133778"
      ]
     },
     "execution_count": 93,
     "metadata": {},
     "output_type": "execute_result"
    }
   ],
   "source": [
    "# Unique plan_id of tyhe activities dataframe (before Dropping PT interaction and outside plans)\n",
    "plan_df.activities['plan_id'].nunique()"
   ]
  },
  {
   "cell_type": "markdown",
   "metadata": {},
   "source": [
    "## <font color=\"green\"> Legs Dataframe"
   ]
  },
  {
   "cell_type": "code",
   "execution_count": 94,
   "metadata": {
    "tags": []
   },
   "outputs": [],
   "source": [
    "# WE DON'T NEED IT BEFORE THE SIMULATION\n",
    "# Shape of the legs dataframe\n",
    "#plan_df.legs.shape"
   ]
  },
  {
   "cell_type": "code",
   "execution_count": 95,
   "metadata": {},
   "outputs": [],
   "source": [
    "# Head of the legs dataframe\n",
    "#plan_df.legs.head()"
   ]
  },
  {
   "cell_type": "markdown",
   "metadata": {},
   "source": [
    "## <font color=\"green\"> Persons Dataframe"
   ]
  },
  {
   "cell_type": "code",
   "execution_count": 96,
   "metadata": {},
   "outputs": [
    {
     "data": {
      "text/plain": [
       "(133778, 22)"
      ]
     },
     "execution_count": 96,
     "metadata": {},
     "output_type": "execute_result"
    }
   ],
   "source": [
    "# Shape of persons dataframe\n",
    "plan_df.persons.shape"
   ]
  },
  {
   "cell_type": "code",
   "execution_count": 99,
   "metadata": {},
   "outputs": [
    {
     "name": "stderr",
     "output_type": "stream",
     "text": [
      "C:\\Users\\muaa\\AppData\\Local\\Temp\\ipykernel_22128\\1571534594.py:9: FutureWarning: \n",
      "\n",
      "Passing `palette` without assigning `hue` is deprecated and will be removed in v0.14.0. Assign the `x` variable to `hue` and set `legend=False` for the same effect.\n",
      "\n",
      "  sns.barplot(x=missing_counts_persons.index, y=missing_counts_persons.values, palette=\"pastel\")\n"
     ]
    },
    {
     "data": {
      "image/png": "[encoded data removed]",
      "text/plain": [
       "<Figure size 3700x500 with 1 Axes>"
      ]
     },
     "metadata": {},
     "output_type": "display_data"
    }
   ],
   "source": [
    "# Plot of missing values of persons dataframe\n",
    "missing_counts_persons = plan_df.persons.isnull().sum()\n",
    "\n",
    "# Set the style\n",
    "sns.set(style=\"ticks\")\n",
    "\n",
    "# Create a countplot to visualize missing value counts\n",
    "plt.figure(figsize=(37, 5))\n",
    "sns.barplot(x=missing_counts_persons.index, y=missing_counts_persons.values, palette=\"pastel\")\n",
    "plt.xlabel(\"Columns\")\n",
    "plt.ylabel(\"Missing Value Count\")\n",
    "plt.title(\"Missing Value Count by Column of persons dataframe\")\n",
    "plt.show()"
   ]
  },
  {
   "cell_type": "code",
   "execution_count": 100,
   "metadata": {},
   "outputs": [],
   "source": [
    "# Drop rows with missin values of age columns in persons dataframe\n",
    "plan_df.persons.dropna(subset=['age'], inplace=True)"
   ]
  },
  {
   "cell_type": "code",
   "execution_count": 120,
   "metadata": {},
   "outputs": [],
   "source": [
    "# Drop persons with lower than 6 years old from persons dataframe and plot again age distribution\n",
    "plan_df.persons['age'] = plan_df.persons['age'].astype(int)\n",
    "plan_df.persons = plan_df.persons[plan_df.persons['age'] >= 6]"
   ]
  },
  {
   "cell_type": "code",
   "execution_count": 121,
   "metadata": {},
   "outputs": [
    {
     "data": {
      "text/plain": [
       "(123838, 22)"
      ]
     },
     "execution_count": 121,
     "metadata": {},
     "output_type": "execute_result"
    }
   ],
   "source": [
    "# Shape of dropped datafarme\n",
    "plan_df.persons.shape"
   ]
  },
  {
   "cell_type": "code",
   "execution_count": 122,
   "metadata": {},
   "outputs": [
    {
     "data": {
      "text/html": [
       "<div>\n",
       "<style scoped>\n",
       "    .dataframe tbody tr th:only-of-type {\n",
       "        vertical-align: middle;\n",
       "    }\n",
       "\n",
       "    .dataframe tbody tr th {\n",
       "        vertical-align: top;\n",
       "    }\n",
       "\n",
       "    .dataframe thead th {\n",
       "        text-align: right;\n",
       "    }\n",
       "</style>\n",
       "<table border=\"1\" class=\"dataframe\">\n",
       "  <thead>\n",
       "    <tr style=\"text-align: right;\">\n",
       "      <th></th>\n",
       "      <th>id</th>\n",
       "      <th>age</th>\n",
       "      <th>bikeAvailability</th>\n",
       "      <th>carAvail</th>\n",
       "      <th>employed</th>\n",
       "      <th>hasLicense</th>\n",
       "      <th>home_x</th>\n",
       "      <th>home_y</th>\n",
       "      <th>isCarPassenger</th>\n",
       "      <th>isOutside</th>\n",
       "      <th>mzHeadId</th>\n",
       "      <th>mzPersonId</th>\n",
       "      <th>ptHasGA</th>\n",
       "      <th>ptHasHalbtax</th>\n",
       "      <th>ptHasStrecke</th>\n",
       "      <th>ptHasVerbund</th>\n",
       "      <th>sex</th>\n",
       "      <th>spRegion</th>\n",
       "      <th>statpopHouseholdId</th>\n",
       "      <th>statpopPersonId</th>\n",
       "      <th>isFreight</th>\n",
       "      <th>type</th>\n",
       "    </tr>\n",
       "  </thead>\n",
       "  <tbody>\n",
       "    <tr>\n",
       "      <th>0</th>\n",
       "      <td>10</td>\n",
       "      <td>30</td>\n",
       "      <td>FOR_SOME</td>\n",
       "      <td>never</td>\n",
       "      <td>true</td>\n",
       "      <td>no</td>\n",
       "      <td>2679482.0</td>\n",
       "      <td>1237545.0</td>\n",
       "      <td>false</td>\n",
       "      <td>true</td>\n",
       "      <td>374775</td>\n",
       "      <td>281604</td>\n",
       "      <td>true</td>\n",
       "      <td>false</td>\n",
       "      <td>false</td>\n",
       "      <td>false</td>\n",
       "      <td>f</td>\n",
       "      <td>1</td>\n",
       "      <td>201200010000137</td>\n",
       "      <td>201240012081086</td>\n",
       "      <td>NaN</td>\n",
       "      <td>NaN</td>\n",
       "    </tr>\n",
       "    <tr>\n",
       "      <th>2</th>\n",
       "      <td>1000</td>\n",
       "      <td>48</td>\n",
       "      <td>FOR_SOME</td>\n",
       "      <td>never</td>\n",
       "      <td>true</td>\n",
       "      <td>yes</td>\n",
       "      <td>2678966.0</td>\n",
       "      <td>1235785.0</td>\n",
       "      <td>false</td>\n",
       "      <td>true</td>\n",
       "      <td>137604</td>\n",
       "      <td>496052</td>\n",
       "      <td>false</td>\n",
       "      <td>false</td>\n",
       "      <td>false</td>\n",
       "      <td>false</td>\n",
       "      <td>f</td>\n",
       "      <td>1</td>\n",
       "      <td>201200010000745</td>\n",
       "      <td>201240009138483</td>\n",
       "      <td>NaN</td>\n",
       "      <td>NaN</td>\n",
       "    </tr>\n",
       "    <tr>\n",
       "      <th>3</th>\n",
       "      <td>1000157</td>\n",
       "      <td>52</td>\n",
       "      <td>FOR_ALL</td>\n",
       "      <td>always</td>\n",
       "      <td>true</td>\n",
       "      <td>yes</td>\n",
       "      <td>2695732.0</td>\n",
       "      <td>1259962.0</td>\n",
       "      <td>false</td>\n",
       "      <td>true</td>\n",
       "      <td>275258</td>\n",
       "      <td>212563</td>\n",
       "      <td>false</td>\n",
       "      <td>false</td>\n",
       "      <td>false</td>\n",
       "      <td>true</td>\n",
       "      <td>f</td>\n",
       "      <td>1</td>\n",
       "      <td>201202300043212</td>\n",
       "      <td>201240010759877</td>\n",
       "      <td>NaN</td>\n",
       "      <td>NaN</td>\n",
       "    </tr>\n",
       "    <tr>\n",
       "      <th>4</th>\n",
       "      <td>1000183</td>\n",
       "      <td>32</td>\n",
       "      <td>FOR_ALL</td>\n",
       "      <td>always</td>\n",
       "      <td>true</td>\n",
       "      <td>yes</td>\n",
       "      <td>2696352.0</td>\n",
       "      <td>1261689.0</td>\n",
       "      <td>false</td>\n",
       "      <td>true</td>\n",
       "      <td>410086</td>\n",
       "      <td>130607</td>\n",
       "      <td>false</td>\n",
       "      <td>true</td>\n",
       "      <td>false</td>\n",
       "      <td>false</td>\n",
       "      <td>f</td>\n",
       "      <td>1</td>\n",
       "      <td>201202300041144</td>\n",
       "      <td>201240010762942</td>\n",
       "      <td>NaN</td>\n",
       "      <td>NaN</td>\n",
       "    </tr>\n",
       "    <tr>\n",
       "      <th>5</th>\n",
       "      <td>1000184</td>\n",
       "      <td>32</td>\n",
       "      <td>FOR_ALL</td>\n",
       "      <td>never</td>\n",
       "      <td>true</td>\n",
       "      <td>yes</td>\n",
       "      <td>2696352.0</td>\n",
       "      <td>1261689.0</td>\n",
       "      <td>true</td>\n",
       "      <td>true</td>\n",
       "      <td>410086</td>\n",
       "      <td>328565</td>\n",
       "      <td>true</td>\n",
       "      <td>false</td>\n",
       "      <td>false</td>\n",
       "      <td>false</td>\n",
       "      <td>m</td>\n",
       "      <td>1</td>\n",
       "      <td>201202300041144</td>\n",
       "      <td>201240014545573</td>\n",
       "      <td>NaN</td>\n",
       "      <td>NaN</td>\n",
       "    </tr>\n",
       "  </tbody>\n",
       "</table>\n",
       "</div>"
      ],
      "text/plain": [
       "        id  age bikeAvailability carAvail employed hasLicense     home_x     home_y isCarPassenger isOutside mzHeadId mzPersonId ptHasGA ptHasHalbtax ptHasStrecke ptHasVerbund sex spRegion statpopHouseholdId  statpopPersonId isFreight type\n",
       "0       10   30         FOR_SOME    never     true         no  2679482.0  1237545.0          false      true   374775     281604    true        false        false        false   f        1    201200010000137  201240012081086       NaN  NaN\n",
       "2     1000   48         FOR_SOME    never     true        yes  2678966.0  1235785.0          false      true   137604     496052   false        false        false        false   f        1    201200010000745  201240009138483       NaN  NaN\n",
       "3  1000157   52          FOR_ALL   always     true        yes  2695732.0  1259962.0          false      true   275258     212563   false        false        false         true   f        1    201202300043212  201240010759877       NaN  NaN\n",
       "4  1000183   32          FOR_ALL   always     true        yes  2696352.0  1261689.0          false      true   410086     130607   false         true        false        false   f        1    201202300041144  201240010762942       NaN  NaN\n",
       "5  1000184   32          FOR_ALL    never     true        yes  2696352.0  1261689.0           true      true   410086     328565    true        false        false        false   m        1    201202300041144  201240014545573       NaN  NaN"
      ]
     },
     "execution_count": 122,
     "metadata": {},
     "output_type": "execute_result"
    }
   ],
   "source": [
    "# Head of dropped persons dataframe\n",
    "plan_df.persons.head()"
   ]
  },
  {
   "cell_type": "code",
   "execution_count": 123,
   "metadata": {},
   "outputs": [
    {
     "data": {
      "text/plain": [
       "spRegion\n",
       "1    102115\n",
       "3     17925\n",
       "2      3798\n",
       "Name: count, dtype: int64"
      ]
     },
     "execution_count": 123,
     "metadata": {},
     "output_type": "execute_result"
    }
   ],
   "source": [
    "# Value counts of spRegion of persons dataframe\n",
    "plan_df.persons['spRegion'].value_counts()"
   ]
  },
  {
   "cell_type": "code",
   "execution_count": 124,
   "metadata": {},
   "outputs": [
    {
     "data": {
      "text/plain": [
       "id                         0\n",
       "age                        0\n",
       "bikeAvailability           0\n",
       "carAvail                   0\n",
       "employed                   0\n",
       "hasLicense                 0\n",
       "home_x                  4988\n",
       "home_y                  4988\n",
       "isCarPassenger             0\n",
       "isOutside                  0\n",
       "mzHeadId                   0\n",
       "mzPersonId                 0\n",
       "ptHasGA                    0\n",
       "ptHasHalbtax               0\n",
       "ptHasStrecke               0\n",
       "ptHasVerbund               0\n",
       "sex                        0\n",
       "spRegion                   0\n",
       "statpopHouseholdId         0\n",
       "statpopPersonId            0\n",
       "isFreight             123838\n",
       "type                  123838\n",
       "dtype: int64"
      ]
     },
     "execution_count": 124,
     "metadata": {},
     "output_type": "execute_result"
    }
   ],
   "source": [
    "plan_df.persons.isnull().sum()"
   ]
  },
  {
   "cell_type": "code",
   "execution_count": 125,
   "metadata": {},
   "outputs": [
    {
     "data": {
      "text/plain": [
       "(123838, 22)"
      ]
     },
     "execution_count": 125,
     "metadata": {},
     "output_type": "execute_result"
    }
   ],
   "source": [
    "plan_df.persons.shape"
   ]
  },
  {
   "cell_type": "markdown",
   "metadata": {},
   "source": [
    "## <font color=\"green\"> Plan Dataframe"
   ]
  },
  {
   "cell_type": "code",
   "execution_count": 107,
   "metadata": {},
   "outputs": [
    {
     "data": {
      "text/plain": [
       "(133778, 3)"
      ]
     },
     "execution_count": 107,
     "metadata": {},
     "output_type": "execute_result"
    }
   ],
   "source": [
    "# Shape of plans dataframe\n",
    "plan_df.plans.shape"
   ]
  },
  {
   "cell_type": "code",
   "execution_count": 108,
   "metadata": {},
   "outputs": [
    {
     "data": {
      "text/html": [
       "<div>\n",
       "<style scoped>\n",
       "    .dataframe tbody tr th:only-of-type {\n",
       "        vertical-align: middle;\n",
       "    }\n",
       "\n",
       "    .dataframe tbody tr th {\n",
       "        vertical-align: top;\n",
       "    }\n",
       "\n",
       "    .dataframe thead th {\n",
       "        text-align: right;\n",
       "    }\n",
       "</style>\n",
       "<table border=\"1\" class=\"dataframe\">\n",
       "  <thead>\n",
       "    <tr style=\"text-align: right;\">\n",
       "      <th></th>\n",
       "      <th>id</th>\n",
       "      <th>person_id</th>\n",
       "      <th>selected</th>\n",
       "    </tr>\n",
       "  </thead>\n",
       "  <tbody>\n",
       "    <tr>\n",
       "      <th>0</th>\n",
       "      <td>1</td>\n",
       "      <td>10</td>\n",
       "      <td>yes</td>\n",
       "    </tr>\n",
       "    <tr>\n",
       "      <th>1</th>\n",
       "      <td>2</td>\n",
       "      <td>100</td>\n",
       "      <td>yes</td>\n",
       "    </tr>\n",
       "    <tr>\n",
       "      <th>2</th>\n",
       "      <td>3</td>\n",
       "      <td>1000</td>\n",
       "      <td>yes</td>\n",
       "    </tr>\n",
       "    <tr>\n",
       "      <th>3</th>\n",
       "      <td>4</td>\n",
       "      <td>1000157</td>\n",
       "      <td>yes</td>\n",
       "    </tr>\n",
       "    <tr>\n",
       "      <th>4</th>\n",
       "      <td>5</td>\n",
       "      <td>1000183</td>\n",
       "      <td>yes</td>\n",
       "    </tr>\n",
       "  </tbody>\n",
       "</table>\n",
       "</div>"
      ],
      "text/plain": [
       "   id person_id selected\n",
       "0   1        10      yes\n",
       "1   2       100      yes\n",
       "2   3      1000      yes\n",
       "3   4   1000157      yes\n",
       "4   5   1000183      yes"
      ]
     },
     "execution_count": 108,
     "metadata": {},
     "output_type": "execute_result"
    }
   ],
   "source": [
    "# Head of plans dataframe\n",
    "plan_df.plans.head()"
   ]
  },
  {
   "cell_type": "code",
   "execution_count": 109,
   "metadata": {},
   "outputs": [
    {
     "data": {
      "text/plain": [
       "id           0\n",
       "person_id    0\n",
       "selected     0\n",
       "dtype: int64"
      ]
     },
     "execution_count": 109,
     "metadata": {},
     "output_type": "execute_result"
    }
   ],
   "source": [
    "# Missing values of plans dataframe\n",
    "plan_df.plans.isnull().sum()"
   ]
  },
  {
   "cell_type": "code",
   "execution_count": 110,
   "metadata": {},
   "outputs": [
    {
     "data": {
      "text/plain": [
       "selected\n",
       "yes    133778\n",
       "Name: count, dtype: int64"
      ]
     },
     "execution_count": 110,
     "metadata": {},
     "output_type": "execute_result"
    }
   ],
   "source": [
    "# Unique value of selected column of plans dataframe\n",
    "plan_df.plans['selected'].value_counts()"
   ]
  },
  {
   "cell_type": "markdown",
   "metadata": {},
   "source": [
    "## <font color=\"green\"> Routes Dataframe"
   ]
  },
  {
   "cell_type": "code",
   "execution_count": 111,
   "metadata": {},
   "outputs": [
    {
     "data": {
      "text/plain": [
       "(722610, 9)"
      ]
     },
     "execution_count": 111,
     "metadata": {},
     "output_type": "execute_result"
    }
   ],
   "source": [
    "# Shape of the routes dataframe\n",
    "plan_df.routes.shape"
   ]
  },
  {
   "cell_type": "code",
   "execution_count": 112,
   "metadata": {},
   "outputs": [
    {
     "data": {
      "text/html": [
       "<div>\n",
       "<style scoped>\n",
       "    .dataframe tbody tr th:only-of-type {\n",
       "        vertical-align: middle;\n",
       "    }\n",
       "\n",
       "    .dataframe tbody tr th {\n",
       "        vertical-align: top;\n",
       "    }\n",
       "\n",
       "    .dataframe thead th {\n",
       "        text-align: right;\n",
       "    }\n",
       "</style>\n",
       "<table border=\"1\" class=\"dataframe\">\n",
       "  <thead>\n",
       "    <tr style=\"text-align: right;\">\n",
       "      <th></th>\n",
       "      <th>id</th>\n",
       "      <th>leg_id</th>\n",
       "      <th>value</th>\n",
       "      <th>type</th>\n",
       "      <th>start_link</th>\n",
       "      <th>end_link</th>\n",
       "      <th>trav_time</th>\n",
       "      <th>distance</th>\n",
       "      <th>vehicleRefId</th>\n",
       "    </tr>\n",
       "  </thead>\n",
       "  <tbody>\n",
       "    <tr>\n",
       "      <th>0</th>\n",
       "      <td>1</td>\n",
       "      <td>1</td>\n",
       "      <td>None</td>\n",
       "      <td>generic</td>\n",
       "      <td>270549</td>\n",
       "      <td>617713</td>\n",
       "      <td>00:03:20</td>\n",
       "      <td>239.83275324790645</td>\n",
       "      <td>NaN</td>\n",
       "    </tr>\n",
       "    <tr>\n",
       "      <th>1</th>\n",
       "      <td>2</td>\n",
       "      <td>3</td>\n",
       "      <td>None</td>\n",
       "      <td>generic</td>\n",
       "      <td>586404</td>\n",
       "      <td>4222</td>\n",
       "      <td>00:00:59</td>\n",
       "      <td>71.92245024668337</td>\n",
       "      <td>NaN</td>\n",
       "    </tr>\n",
       "    <tr>\n",
       "      <th>2</th>\n",
       "      <td>3</td>\n",
       "      <td>5</td>\n",
       "      <td>None</td>\n",
       "      <td>generic</td>\n",
       "      <td>955504</td>\n",
       "      <td>955475</td>\n",
       "      <td>00:00:00</td>\n",
       "      <td>0.0</td>\n",
       "      <td>NaN</td>\n",
       "    </tr>\n",
       "    <tr>\n",
       "      <th>3</th>\n",
       "      <td>4</td>\n",
       "      <td>7</td>\n",
       "      <td>None</td>\n",
       "      <td>generic</td>\n",
       "      <td>771011</td>\n",
       "      <td>166874</td>\n",
       "      <td>00:00:26</td>\n",
       "      <td>30.317917906969893</td>\n",
       "      <td>NaN</td>\n",
       "    </tr>\n",
       "    <tr>\n",
       "      <th>4</th>\n",
       "      <td>5</td>\n",
       "      <td>8</td>\n",
       "      <td>None</td>\n",
       "      <td>generic</td>\n",
       "      <td>166874</td>\n",
       "      <td>166874</td>\n",
       "      <td>00:00:00</td>\n",
       "      <td>0.0</td>\n",
       "      <td>NaN</td>\n",
       "    </tr>\n",
       "  </tbody>\n",
       "</table>\n",
       "</div>"
      ],
      "text/plain": [
       "   id  leg_id value     type start_link end_link trav_time            distance vehicleRefId\n",
       "0   1       1  None  generic     270549   617713  00:03:20  239.83275324790645          NaN\n",
       "1   2       3  None  generic     586404     4222  00:00:59   71.92245024668337          NaN\n",
       "2   3       5  None  generic     955504   955475  00:00:00                 0.0          NaN\n",
       "3   4       7  None  generic     771011   166874  00:00:26  30.317917906969893          NaN\n",
       "4   5       8  None  generic     166874   166874  00:00:00                 0.0          NaN"
      ]
     },
     "execution_count": 112,
     "metadata": {},
     "output_type": "execute_result"
    }
   ],
   "source": [
    "# Head of the routes dataframe\n",
    "plan_df.routes.head()"
   ]
  },
  {
   "cell_type": "code",
   "execution_count": 113,
   "metadata": {},
   "outputs": [],
   "source": [
    "# # Plot of missing values of routes dataframe\n",
    "# missing_counts_routes = plan_df.routes.isnull().sum()\n",
    "\n",
    "# # Set the style\n",
    "# sns.set(style=\"darkgrid\")\n",
    "\n",
    "# # Create a countplot to visualize missing value counts\n",
    "# plt.figure(figsize=(10, 4))\n",
    "# sns.barplot(x=missing_counts_routes.index, y=missing_counts_routes.values, palette=\"pastel\")\n",
    "# plt.xlabel(\"Columns\")\n",
    "# plt.ylabel(\"Missing Value Count\")\n",
    "# plt.title(\"Missing Value Count by Column of routes dataframe\")\n",
    "# plt.show()"
   ]
  },
  {
   "cell_type": "code",
   "execution_count": 114,
   "metadata": {},
   "outputs": [],
   "source": [
    "## <font color=\"green\"> SAVE CSV FILES"
   ]
  },
  {
   "cell_type": "code",
   "execution_count": 126,
   "metadata": {},
   "outputs": [],
   "source": [
    "plan_df.activities.to_csv(\"./processedCSVs/SynPop_activities.csv\", index=False)\n",
    "plan_df.persons.to_csv(\"./processedCSVs/SynPop_persons.csv\", index=False)"
   ]
  }
 ],
 "metadata": {
  "kernelspec": {
   "display_name": "Python 3 (ipykernel)",
   "language": "python",
   "name": "python3"
  },
  "language_info": {
   "codemirror_mode": {
    "name": "ipython",
    "version": 3
   },
   "file_extension": ".py",
   "mimetype": "text/x-python",
   "name": "python",
   "nbconvert_exporter": "python",
   "pygments_lexer": "ipython3",
   "version": "3.12.0"
  }
 },
 "nbformat": 4,
 "nbformat_minor": 4
}
