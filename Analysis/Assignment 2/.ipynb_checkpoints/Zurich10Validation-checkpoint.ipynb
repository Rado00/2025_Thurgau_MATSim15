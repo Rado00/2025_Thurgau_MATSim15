{
 "cells": [
  {
   "cell_type": "code",
   "execution_count": 1,
   "id": "f64682b1-19bd-4113-9f8f-95c8d6e8189b",
   "metadata": {
    "tags": []
   },
   "outputs": [
    {
     "name": "stdout",
     "output_type": "stream",
     "text": [
      "GGG\n"
     ]
    }
   ],
   "source": [
    "print(\"GGG\")"
   ]
  },
  {
   "cell_type": "code",
   "execution_count": null,
   "id": "d0c5dc5d-7bfb-4391-b483-466a09646e96",
   "metadata": {},
   "outputs": [],
   "source": [
    "DataPath = \"C:\\Users\\muaa\\Documents\\3_MIEI\\2023_ABMT_Data\\Zurich\\10pct\""
   ]
  }
 ],
 "metadata": {
  "kernelspec": {
   "display_name": "Python 3 (ipykernel)",
   "language": "python",
   "name": "python3"
  },
  "language_info": {
   "codemirror_mode": {
    "name": "ipython",
    "version": 3
   },
   "file_extension": ".py",
   "mimetype": "text/x-python",
   "name": "python",
   "nbconvert_exporter": "python",
   "pygments_lexer": "ipython3",
   "version": "3.11.5"
  }
 },
 "nbformat": 4,
 "nbformat_minor": 5
}
