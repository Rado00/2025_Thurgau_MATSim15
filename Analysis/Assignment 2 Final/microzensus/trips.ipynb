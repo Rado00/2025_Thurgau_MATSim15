{
 "cells": [
  {
   "cell_type": "code",
   "execution_count": 18,
   "metadata": {},
   "outputs": [],
   "source": [
    "import numpy as np\n",
    "import pandas as pd\n",
    "import pyproj\n",
    "import data.constants as c\n",
    "import plotly.express as px\n",
    "import geopandas as gpd\n",
    "from shapely.geometry import Point"
   ]
  },
  {
   "cell_type": "markdown",
   "metadata": {},
   "source": [
    "### Data Processing"
   ]
  },
  {
   "cell_type": "code",
   "execution_count": 19,
   "metadata": {},
   "outputs": [],
   "source": [
    "import os\n",
    "import platform\n",
    "\n",
    "def get_data_folder_path():\n",
    "    # Get the current operating system\n",
    "    os_type = platform.system()\n",
    "    user_name = os.getlogin()\n",
    "\n",
    "    # Define data folder paths for different systems\n",
    "    if os_type == 'Windows' and user_name == 'Alice':\n",
    "        data_folder_path = f\"C:\\\\Users\\\\{user_name}\\\\Documents\\\\Data\"\n",
    "    elif os_type == 'Linux' and user_name == 'salathem':\n",
    "        data_folder_path = '/cluster/home/salathem/Programming/data/'\n",
    "    elif os_type == 'Darwin':\n",
    "        data_folder_path = '/Users/Marco/Library/CloudStorage/OneDrive-Persönlich/ETHZ/Agent Based Modeling/data/'\n",
    "    else:\n",
    "        raise Exception(\"Unsupported system configuration\")\n",
    "\n",
    "    return data_folder_path\n",
    "data_path = get_data_folder_path()"
   ]
  },
  {
   "cell_type": "code",
   "execution_count": 20,
   "metadata": {},
   "outputs": [],
   "source": [
    "def execute(path):\n",
    "    data_path = path\n",
    "\n",
    "    df_mz_trips = pd.read_csv(\"%s/microzensus/wege.csv\" % data_path, encoding = \"latin1\")\n",
    "    df_mz_stages = pd.read_csv(\"%s/microzensus/etappen.csv\" % data_path, encoding = \"latin1\")\n",
    "\n",
    "    df_mz_trips = df_mz_trips[[\n",
    "        \"HHNR\", \"WEGNR\", \"f51100\", \"f51400\", \"wzweck1\", \"wzweck2\", \"wmittel\",\n",
    "        \"S_X_CH1903\", \"S_Y_CH1903\", \"Z_X_CH1903\", \"Z_Y_CH1903\", \"W_X_CH1903\", \"W_Y_CH1903\",\n",
    "        \"w_rdist\", 'dauer2'\n",
    "    ]]\n",
    "\n",
    "    df_mz_stages = df_mz_stages[[\n",
    "        \"HHNR\", \"WEGNR\", \"ETNR\", \"f51300\"\n",
    "    ]]\n",
    "\n",
    "    # First, adjust the modes\n",
    "    df_mz_trips.loc[df_mz_trips[\"wmittel\"] == -99, \"mode\"] = \"unknown\" # Pseudo stage\n",
    "    df_mz_trips.loc[df_mz_trips[\"wmittel\"] == 1, \"mode\"] = \"pt\" # Plane\n",
    "    df_mz_trips.loc[df_mz_trips[\"wmittel\"] == 2, \"mode\"] = \"pt\" # Train\n",
    "    df_mz_trips.loc[df_mz_trips[\"wmittel\"] == 3, \"mode\"] = \"pt\" # Postauto\n",
    "    df_mz_trips.loc[df_mz_trips[\"wmittel\"] == 4, \"mode\"] = \"pt\" # Ship\n",
    "    df_mz_trips.loc[df_mz_trips[\"wmittel\"] == 5, \"mode\"] = \"pt\" # Tram\n",
    "    df_mz_trips.loc[df_mz_trips[\"wmittel\"] == 6, \"mode\"] = \"pt\" # Bus\n",
    "    df_mz_trips.loc[df_mz_trips[\"wmittel\"] == 7, \"mode\"] = \"pt\" # other PT\n",
    "    df_mz_trips.loc[df_mz_trips[\"wmittel\"] == 8, \"mode\"] = \"pt\" # Reisecar -> I think this is a coach in Swiss German?\n",
    "    df_mz_trips.loc[df_mz_trips[\"wmittel\"] == 9, \"mode\"] = \"car\" # Car\n",
    "    df_mz_trips.loc[df_mz_trips[\"wmittel\"] == 10, \"mode\"] = \"car\" # Truck\n",
    "    df_mz_trips.loc[df_mz_trips[\"wmittel\"] == 11, \"mode\"] = \"pt\" # Taxi\n",
    "    df_mz_trips.loc[df_mz_trips[\"wmittel\"] == 12, \"mode\"] = \"car\" # Motorbike\n",
    "    df_mz_trips.loc[df_mz_trips[\"wmittel\"] == 13, \"mode\"] = \"car\" # Mofa\n",
    "    df_mz_trips.loc[df_mz_trips[\"wmittel\"] == 14, \"mode\"] = \"bike\" # Biciycle / E-bike\n",
    "    df_mz_trips.loc[df_mz_trips[\"wmittel\"] == 15, \"mode\"] = \"walk\" # Walking\n",
    "    df_mz_trips.loc[df_mz_trips[\"wmittel\"] == 16, \"mode\"] = \"car\" # \"Machines similar to a vehicle\"\n",
    "    df_mz_trips.loc[df_mz_trips[\"wmittel\"] == 17, \"mode\"] = \"unknown\" # Other / don't know\n",
    "\n",
    "    df_mz_trips[\"mode_detailed\"] = df_mz_trips[\"mode\"]\n",
    "    df_mz_trips.loc[df_mz_trips[\"wmittel\"] == 1, \"mode_detailed\"] = \"plane\"\n",
    "    df_mz_trips.loc[df_mz_trips[\"wmittel\"] == 11, \"mode_detailed\"] = \"taxi\"\n",
    "\n",
    "    # Find passenger trips\n",
    "    df_mz_stages[\"is_car_passenger\"] = df_mz_stages[\"f51300\"] == 8\n",
    "    df_passengers = df_mz_stages[[\"HHNR\", \"WEGNR\", \"is_car_passenger\"]].groupby([\"HHNR\", \"WEGNR\"]).sum().reset_index()\n",
    "    df_mz_trips = pd.merge(df_mz_trips, df_passengers, on = [\"HHNR\", \"WEGNR\"], how = \"left\")\n",
    "    df_mz_trips.loc[df_mz_trips[\"is_car_passenger\"] > 0, \"mode_detailed\"] = \"car_passenger\"\n",
    "    df_mz_trips.loc[df_mz_trips[\"is_car_passenger\"] > 0, \"mode\"] = \"car_passenger\"\n",
    "    del df_mz_trips[\"is_car_passenger\"]\n",
    "\n",
    "    # Second, adjust the purposes\n",
    "    df_mz_trips.loc[df_mz_trips[\"wzweck1\"] == -99, \"purpose\"] = \"unknown\" # Pseudo stage\n",
    "    df_mz_trips.loc[df_mz_trips[\"wzweck1\"] == -98, \"purpose\"] = \"unknown\" # No answer\n",
    "    df_mz_trips.loc[df_mz_trips[\"wzweck1\"] == -97, \"purpose\"] = \"unknown\" # Don't know\n",
    "    df_mz_trips.loc[df_mz_trips[\"wzweck1\"] == 1, \"purpose\"] = \"interaction\" # Transfer, change of mode, park car\n",
    "    df_mz_trips.loc[df_mz_trips[\"wzweck1\"] == 2, \"purpose\"] = \"work\" # Work\n",
    "    df_mz_trips.loc[df_mz_trips[\"wzweck1\"] == 3, \"purpose\"] = \"education\" # Education\n",
    "    df_mz_trips.loc[df_mz_trips[\"wzweck1\"] == 4, \"purpose\"] = \"shop\" # Shopping\n",
    "    df_mz_trips.loc[df_mz_trips[\"wzweck1\"] == 5, \"purpose\"] = \"other\" # Chores, use of public services\n",
    "    df_mz_trips.loc[df_mz_trips[\"wzweck1\"] == 6, \"purpose\"] = \"work\" # Business activity\n",
    "    df_mz_trips.loc[df_mz_trips[\"wzweck1\"] == 7, \"purpose\"] = \"work\" # Business trip\n",
    "    df_mz_trips.loc[df_mz_trips[\"wzweck1\"] == 8, \"purpose\"] = \"leisure\" # Leisure\n",
    "    df_mz_trips.loc[df_mz_trips[\"wzweck1\"] == 9, \"purpose\"] = \"other\" # Bring children\n",
    "    df_mz_trips.loc[df_mz_trips[\"wzweck1\"] == 10, \"purpose\"] = \"other\" # Bring others (disabled, ...)\n",
    "    df_mz_trips.loc[df_mz_trips[\"wzweck1\"] == 11, \"purpose\"] = \"home\" # Return home\n",
    "    df_mz_trips.loc[df_mz_trips[\"wzweck1\"] == 12, \"purpose\"] = \"unknown\" # Other\n",
    "    df_mz_trips.loc[df_mz_trips[\"wzweck1\"] == 13, \"purpose\"] = \"border\" # Going out of country\n",
    "\n",
    "    # Adjust trips back home\n",
    "    df_mz_trips.loc[df_mz_trips[\"wzweck2\"] > 1, \"purpose\"] = \"home\"\n",
    "\n",
    "    # Adjust times\n",
    "    df_mz_trips.loc[:, \"departure_time\"] = df_mz_trips[\"f51100\"] * 60\n",
    "    df_mz_trips.loc[:, \"arrival_time\"] = df_mz_trips[\"f51400\"] * 60\n",
    "\n",
    "    # Adjust id\n",
    "    df_mz_trips.loc[:, \"person_id\"] = df_mz_trips[\"HHNR\"]\n",
    "    df_mz_trips.loc[:, \"trip_id\"] = df_mz_trips[\"WEGNR\"]\n",
    "\n",
    "    # Adjust coordinates\n",
    "    for mz_attribute, df_attribute in [(\"Z\", \"destination\"), (\"S\", \"origin\"), (\"W\", \"home\")]:\n",
    "        coords = df_mz_trips[[\"%s_X_CH1903\" % mz_attribute, \"%s_Y_CH1903\" % mz_attribute]].values\n",
    "        transformer = pyproj.Transformer.from_crs(c.CH1903, c.CH1903_PLUS)\n",
    "        x, y = transformer.transform(coords[:, 0], coords[:, 1])\n",
    "        df_mz_trips.loc[:, \"%s_x\" % df_attribute] = x\n",
    "        df_mz_trips.loc[:, \"%s_y\" % df_attribute] = y\n",
    "\n",
    "    # Add crowfly distance\n",
    "    df_mz_trips.loc[:, \"crowfly_distance\"] = np.sqrt(\n",
    "        (df_mz_trips[\"origin_x\"] - df_mz_trips[\"destination_x\"])**2 +\n",
    "        (df_mz_trips[\"origin_y\"] - df_mz_trips[\"destination_y\"])**2)\n",
    "\n",
    "    # Add activity durations by joining the trips with themselves\n",
    "    df_mz_trips.loc[:, \"previous_trip_id\"] = df_mz_trips[\"trip_id\"] -1\n",
    "\n",
    "    df_durations = pd.merge(\n",
    "        df_mz_trips[[\"person_id\", \"trip_id\", \"departure_time\"]],\n",
    "        df_mz_trips[[\"person_id\", \"previous_trip_id\", \"arrival_time\"]],\n",
    "        left_on = [\"person_id\", \"trip_id\"], right_on = [\"person_id\", \"previous_trip_id\"])\n",
    "\n",
    "    df_durations.loc[:, \"activity_duration\"] = df_durations[\"arrival_time\"] - df_durations[\"departure_time\"]\n",
    "\n",
    "    df_mz_trips = pd.merge(\n",
    "        df_mz_trips, df_durations[[\"person_id\", \"trip_id\", \"activity_duration\"]],\n",
    "        on = [\"person_id\", \"trip_id\"], how = \"left\"\n",
    "    )\n",
    "\n",
    "    # Filter persons for which we do not have sufficient information\n",
    "    unknown_ids = set(df_mz_trips[\n",
    "        (df_mz_trips[\"mode\"] == \"unknown\") | (df_mz_trips[\"purpose\"] == \"unknown\")\n",
    "    ][\"person_id\"])\n",
    "\n",
    "    print(\"  Removed %d persons with trips with unknown mode or unknown purpose\" % len(unknown_ids))\n",
    "    df_mz_trips = df_mz_trips[~df_mz_trips[\"person_id\"].isin(unknown_ids)]\n",
    "\n",
    "    # Filter persons which do not start or end with \"home\"\n",
    "    df_end = df_mz_trips[[\"person_id\", \"trip_id\", \"purpose\"]].sort_values(\"trip_id\", ascending = False).drop_duplicates(\"person_id\")\n",
    "    df_end = df_end[df_end[\"purpose\"] != \"home\"]\n",
    "\n",
    "    before_length = len(np.unique(df_mz_trips[\"person_id\"]))\n",
    "    df_mz_trips = df_mz_trips[~df_mz_trips[\"person_id\"].isin(df_end[\"person_id\"])]\n",
    "    after_length = len(np.unique(df_mz_trips[\"person_id\"]))\n",
    "    print(\"  Removed %d persons with trips not ending with 'home'\" % (before_length - after_length,))\n",
    "\n",
    "    df_start = df_mz_trips[[\"person_id\", \"trip_id\", \"origin_x\", \"origin_y\", \"home_x\", \"home_y\"]]\n",
    "    df_start = df_start[\n",
    "        (df_start[\"trip_id\"] == 1) & ((df_start[\"origin_x\"] != df_start[\"home_x\"]) |\n",
    "        (df_start[\"origin_y\"] != df_start[\"home_y\"]))\n",
    "    ]\n",
    "\n",
    "    before_length = len(np.unique(df_mz_trips[\"person_id\"]))\n",
    "    df_mz_trips = df_mz_trips[~df_mz_trips[\"person_id\"].isin(df_start[\"person_id\"])]\n",
    "    after_length = len(np.unique(df_mz_trips[\"person_id\"]))\n",
    "    print(\"  Removed %d persons with trips not starting at home location\" % (before_length - after_length,))\n",
    "\n",
    "    # Parking cost\n",
    "    df_mz_stages = pd.read_csv(\"%s/microzensus/etappen.csv\" % data_path, encoding = \"latin1\")\n",
    "\n",
    "    df_cost = pd.DataFrame(df_mz_stages[[\"HHNR\", \"WEGNR\", \"f51330\"]], copy = True)\n",
    "    df_cost.columns = [\"person_id\", \"trip_id\", \"parking_cost\"]\n",
    "    df_cost[\"parking_cost\"] = np.maximum(0, df_cost[\"parking_cost\"])\n",
    "    df_cost = df_cost.groupby([\"person_id\", \"trip_id\"]).sum().reset_index()\n",
    "\n",
    "    df_mz_trips = pd.merge(df_mz_trips, df_cost, on = [\"person_id\", \"trip_id\"], how = \"left\")\n",
    "    assert(not np.any(np.isnan(df_mz_trips[\"parking_cost\"])))\n",
    "\n",
    "    # Network distance\n",
    "    df_mz_trips[\"network_distance\"] = df_mz_trips[\"w_rdist\"] * 1000.0\n",
    "\n",
    "    return df_mz_trips"
   ]
  },
  {
   "cell_type": "code",
   "execution_count": 21,
   "metadata": {},
   "outputs": [
    {
     "name": "stdout",
     "output_type": "stream",
     "text": [
      "  Removed 1217 persons with trips with unknown mode or unknown purpose\n",
      "  Removed 1136 persons with trips not ending with 'home'\n",
      "  Removed 4161 persons with trips not starting at home location\n"
     ]
    }
   ],
   "source": [
    "trips = execute(data_path)"
   ]
  },
  {
   "cell_type": "code",
   "execution_count": 23,
   "metadata": {},
   "outputs": [],
   "source": [
    "# Load geographic data from a shapefile\n",
    "shapefile_path = data_path + '/scenarios/Zurich/ScenarioBoundary/zurich_city_5km.shp'  # please replace with your shapefile path\n",
    "gdf = gpd.read_file(shapefile_path)\n",
    "\n",
    "zurich_polygon = gdf[gdf['scenario'] == 'zurich_city'].iloc[0]['geometry']\n",
    "\n",
    "# Create Point geometries for origin and destination\n",
    "trips['origin_point'] = trips.apply(lambda row: Point(row['origin_x'], row['origin_y']), axis=1)\n",
    "trips['destination_point'] = trips.apply(lambda row: Point(row['destination_x'], row['destination_y']), axis=1)\n",
    "\n",
    "# Filter trips where both origin and destination are within the Zurich city polygon\n",
    "filtered_trips = trips[\n",
    "    trips['origin_point'].apply(lambda point: point.within(zurich_polygon)) &\n",
    "    trips['destination_point'].apply(lambda point: point.within(zurich_polygon))\n",
    "]\n"
   ]
  },
  {
   "cell_type": "code",
   "execution_count": 24,
   "metadata": {},
   "outputs": [],
   "source": [
    "# Function to create activity chains\n",
    "def create_activity_chain(group):\n",
    "    chain = '-'.join(['h'] + [purpose[0] for purpose in group['purpose'].tolist()])  # Add 'H' at the start of each chain\n",
    "    return pd.Series({'activity_chain': chain})\n",
    "\n",
    "# Create activity chains\n",
    "df_activity_chains =  filtered_trips.groupby(['person_id']).apply(create_activity_chain).reset_index()\n"
   ]
  },
  {
   "cell_type": "code",
   "execution_count": 25,
   "metadata": {},
   "outputs": [],
   "source": [
    "filtered_trips.to_csv(data_path + '/microzensus/trips.csv')\n",
    "df_mz_trips = filtered_trips"
   ]
  },
  {
   "cell_type": "markdown",
   "metadata": {},
   "source": [
    "### Display Data"
   ]
  },
  {
   "cell_type": "code",
   "execution_count": 26,
   "metadata": {},
   "outputs": [
    {
     "name": "stderr",
     "output_type": "stream",
     "text": [
      "/var/folders/98/gxtbd5491mqcr_24yrkq85zm0000gp/T/ipykernel_74753/1889188044.py:2: SettingWithCopyWarning:\n",
      "\n",
      "\n",
      "A value is trying to be set on a copy of a slice from a DataFrame.\n",
      "Try using .loc[row_indexer,col_indexer] = value instead\n",
      "\n",
      "See the caveats in the documentation: https://pandas.pydata.org/pandas-docs/stable/user_guide/indexing.html#returning-a-view-versus-a-copy\n",
      "\n"
     ]
    },
    {
     "data": {
      "application/vnd.plotly.v1+json": {
       "config": {
        "plotlyServerURL": "https://plot.ly"
       },
       "data": [
        {
         "alignmentgroup": "True",
         "hovertemplate": "Mode of Transportation=%{x}<br>Total Count=%{y}<extra></extra>",
         "legendgroup": "",
         "marker": {
          "color": "#636efa",
          "pattern": {
           "shape": ""
          }
         },
         "name": "",
         "offsetgroup": "",
         "orientation": "v",
         "showlegend": false,
         "textposition": "auto",
         "type": "bar",
         "x": [
          "WALK",
          "PT",
          "CAR",
          "BIKE",
          "CAR PASSENGER"
         ],
         "xaxis": "x",
         "y": [
          2888,
          1763,
          1675,
          610,
          487
         ],
         "yaxis": "y"
        }
       ],
       "layout": {
        "barmode": "relative",
        "height": 600,
        "legend": {
         "tracegroupgap": 0
        },
        "template": {
         "data": {
          "bar": [
           {
            "error_x": {
             "color": "#2a3f5f"
            },
            "error_y": {
             "color": "#2a3f5f"
            },
            "marker": {
             "line": {
              "color": "#E5ECF6",
              "width": 0.5
             },
             "pattern": {
              "fillmode": "overlay",
              "size": 10,
              "solidity": 0.2
             }
            },
            "type": "bar"
           }
          ],
          "barpolar": [
           {
            "marker": {
             "line": {
              "color": "#E5ECF6",
              "width": 0.5
             },
             "pattern": {
              "fillmode": "overlay",
              "size": 10,
              "solidity": 0.2
             }
            },
            "type": "barpolar"
           }
          ],
          "carpet": [
           {
            "aaxis": {
             "endlinecolor": "#2a3f5f",
             "gridcolor": "white",
             "linecolor": "white",
             "minorgridcolor": "white",
             "startlinecolor": "#2a3f5f"
            },
            "baxis": {
             "endlinecolor": "#2a3f5f",
             "gridcolor": "white",
             "linecolor": "white",
             "minorgridcolor": "white",
             "startlinecolor": "#2a3f5f"
            },
            "type": "carpet"
           }
          ],
          "choropleth": [
           {
            "colorbar": {
             "outlinewidth": 0,
             "ticks": ""
            },
            "type": "choropleth"
           }
          ],
          "contour": [
           {
            "colorbar": {
             "outlinewidth": 0,
             "ticks": ""
            },
            "colorscale": [
             [
              0,
              "#0d0887"
             ],
             [
              0.1111111111111111,
              "#46039f"
             ],
             [
              0.2222222222222222,
              "#7201a8"
             ],
             [
              0.3333333333333333,
              "#9c179e"
             ],
             [
              0.4444444444444444,
              "#bd3786"
             ],
             [
              0.5555555555555556,
              "#d8576b"
             ],
             [
              0.6666666666666666,
              "#ed7953"
             ],
             [
              0.7777777777777778,
              "#fb9f3a"
             ],
             [
              0.8888888888888888,
              "#fdca26"
             ],
             [
              1,
              "#f0f921"
             ]
            ],
            "type": "contour"
           }
          ],
          "contourcarpet": [
           {
            "colorbar": {
             "outlinewidth": 0,
             "ticks": ""
            },
            "type": "contourcarpet"
           }
          ],
          "heatmap": [
           {
            "colorbar": {
             "outlinewidth": 0,
             "ticks": ""
            },
            "colorscale": [
             [
              0,
              "#0d0887"
             ],
             [
              0.1111111111111111,
              "#46039f"
             ],
             [
              0.2222222222222222,
              "#7201a8"
             ],
             [
              0.3333333333333333,
              "#9c179e"
             ],
             [
              0.4444444444444444,
              "#bd3786"
             ],
             [
              0.5555555555555556,
              "#d8576b"
             ],
             [
              0.6666666666666666,
              "#ed7953"
             ],
             [
              0.7777777777777778,
              "#fb9f3a"
             ],
             [
              0.8888888888888888,
              "#fdca26"
             ],
             [
              1,
              "#f0f921"
             ]
            ],
            "type": "heatmap"
           }
          ],
          "heatmapgl": [
           {
            "colorbar": {
             "outlinewidth": 0,
             "ticks": ""
            },
            "colorscale": [
             [
              0,
              "#0d0887"
             ],
             [
              0.1111111111111111,
              "#46039f"
             ],
             [
              0.2222222222222222,
              "#7201a8"
             ],
             [
              0.3333333333333333,
              "#9c179e"
             ],
             [
              0.4444444444444444,
              "#bd3786"
             ],
             [
              0.5555555555555556,
              "#d8576b"
             ],
             [
              0.6666666666666666,
              "#ed7953"
             ],
             [
              0.7777777777777778,
              "#fb9f3a"
             ],
             [
              0.8888888888888888,
              "#fdca26"
             ],
             [
              1,
              "#f0f921"
             ]
            ],
            "type": "heatmapgl"
           }
          ],
          "histogram": [
           {
            "marker": {
             "pattern": {
              "fillmode": "overlay",
              "size": 10,
              "solidity": 0.2
             }
            },
            "type": "histogram"
           }
          ],
          "histogram2d": [
           {
            "colorbar": {
             "outlinewidth": 0,
             "ticks": ""
            },
            "colorscale": [
             [
              0,
              "#0d0887"
             ],
             [
              0.1111111111111111,
              "#46039f"
             ],
             [
              0.2222222222222222,
              "#7201a8"
             ],
             [
              0.3333333333333333,
              "#9c179e"
             ],
             [
              0.4444444444444444,
              "#bd3786"
             ],
             [
              0.5555555555555556,
              "#d8576b"
             ],
             [
              0.6666666666666666,
              "#ed7953"
             ],
             [
              0.7777777777777778,
              "#fb9f3a"
             ],
             [
              0.8888888888888888,
              "#fdca26"
             ],
             [
              1,
              "#f0f921"
             ]
            ],
            "type": "histogram2d"
           }
          ],
          "histogram2dcontour": [
           {
            "colorbar": {
             "outlinewidth": 0,
             "ticks": ""
            },
            "colorscale": [
             [
              0,
              "#0d0887"
             ],
             [
              0.1111111111111111,
              "#46039f"
             ],
             [
              0.2222222222222222,
              "#7201a8"
             ],
             [
              0.3333333333333333,
              "#9c179e"
             ],
             [
              0.4444444444444444,
              "#bd3786"
             ],
             [
              0.5555555555555556,
              "#d8576b"
             ],
             [
              0.6666666666666666,
              "#ed7953"
             ],
             [
              0.7777777777777778,
              "#fb9f3a"
             ],
             [
              0.8888888888888888,
              "#fdca26"
             ],
             [
              1,
              "#f0f921"
             ]
            ],
            "type": "histogram2dcontour"
           }
          ],
          "mesh3d": [
           {
            "colorbar": {
             "outlinewidth": 0,
             "ticks": ""
            },
            "type": "mesh3d"
           }
          ],
          "parcoords": [
           {
            "line": {
             "colorbar": {
              "outlinewidth": 0,
              "ticks": ""
             }
            },
            "type": "parcoords"
           }
          ],
          "pie": [
           {
            "automargin": true,
            "type": "pie"
           }
          ],
          "scatter": [
           {
            "fillpattern": {
             "fillmode": "overlay",
             "size": 10,
             "solidity": 0.2
            },
            "type": "scatter"
           }
          ],
          "scatter3d": [
           {
            "line": {
             "colorbar": {
              "outlinewidth": 0,
              "ticks": ""
             }
            },
            "marker": {
             "colorbar": {
              "outlinewidth": 0,
              "ticks": ""
             }
            },
            "type": "scatter3d"
           }
          ],
          "scattercarpet": [
           {
            "marker": {
             "colorbar": {
              "outlinewidth": 0,
              "ticks": ""
             }
            },
            "type": "scattercarpet"
           }
          ],
          "scattergeo": [
           {
            "marker": {
             "colorbar": {
              "outlinewidth": 0,
              "ticks": ""
             }
            },
            "type": "scattergeo"
           }
          ],
          "scattergl": [
           {
            "marker": {
             "colorbar": {
              "outlinewidth": 0,
              "ticks": ""
             }
            },
            "type": "scattergl"
           }
          ],
          "scattermapbox": [
           {
            "marker": {
             "colorbar": {
              "outlinewidth": 0,
              "ticks": ""
             }
            },
            "type": "scattermapbox"
           }
          ],
          "scatterpolar": [
           {
            "marker": {
             "colorbar": {
              "outlinewidth": 0,
              "ticks": ""
             }
            },
            "type": "scatterpolar"
           }
          ],
          "scatterpolargl": [
           {
            "marker": {
             "colorbar": {
              "outlinewidth": 0,
              "ticks": ""
             }
            },
            "type": "scatterpolargl"
           }
          ],
          "scatterternary": [
           {
            "marker": {
             "colorbar": {
              "outlinewidth": 0,
              "ticks": ""
             }
            },
            "type": "scatterternary"
           }
          ],
          "surface": [
           {
            "colorbar": {
             "outlinewidth": 0,
             "ticks": ""
            },
            "colorscale": [
             [
              0,
              "#0d0887"
             ],
             [
              0.1111111111111111,
              "#46039f"
             ],
             [
              0.2222222222222222,
              "#7201a8"
             ],
             [
              0.3333333333333333,
              "#9c179e"
             ],
             [
              0.4444444444444444,
              "#bd3786"
             ],
             [
              0.5555555555555556,
              "#d8576b"
             ],
             [
              0.6666666666666666,
              "#ed7953"
             ],
             [
              0.7777777777777778,
              "#fb9f3a"
             ],
             [
              0.8888888888888888,
              "#fdca26"
             ],
             [
              1,
              "#f0f921"
             ]
            ],
            "type": "surface"
           }
          ],
          "table": [
           {
            "cells": {
             "fill": {
              "color": "#EBF0F8"
             },
             "line": {
              "color": "white"
             }
            },
            "header": {
             "fill": {
              "color": "#C8D4E3"
             },
             "line": {
              "color": "white"
             }
            },
            "type": "table"
           }
          ]
         },
         "layout": {
          "annotationdefaults": {
           "arrowcolor": "#2a3f5f",
           "arrowhead": 0,
           "arrowwidth": 1
          },
          "autotypenumbers": "strict",
          "coloraxis": {
           "colorbar": {
            "outlinewidth": 0,
            "ticks": ""
           }
          },
          "colorscale": {
           "diverging": [
            [
             0,
             "#8e0152"
            ],
            [
             0.1,
             "#c51b7d"
            ],
            [
             0.2,
             "#de77ae"
            ],
            [
             0.3,
             "#f1b6da"
            ],
            [
             0.4,
             "#fde0ef"
            ],
            [
             0.5,
             "#f7f7f7"
            ],
            [
             0.6,
             "#e6f5d0"
            ],
            [
             0.7,
             "#b8e186"
            ],
            [
             0.8,
             "#7fbc41"
            ],
            [
             0.9,
             "#4d9221"
            ],
            [
             1,
             "#276419"
            ]
           ],
           "sequential": [
            [
             0,
             "#0d0887"
            ],
            [
             0.1111111111111111,
             "#46039f"
            ],
            [
             0.2222222222222222,
             "#7201a8"
            ],
            [
             0.3333333333333333,
             "#9c179e"
            ],
            [
             0.4444444444444444,
             "#bd3786"
            ],
            [
             0.5555555555555556,
             "#d8576b"
            ],
            [
             0.6666666666666666,
             "#ed7953"
            ],
            [
             0.7777777777777778,
             "#fb9f3a"
            ],
            [
             0.8888888888888888,
             "#fdca26"
            ],
            [
             1,
             "#f0f921"
            ]
           ],
           "sequentialminus": [
            [
             0,
             "#0d0887"
            ],
            [
             0.1111111111111111,
             "#46039f"
            ],
            [
             0.2222222222222222,
             "#7201a8"
            ],
            [
             0.3333333333333333,
             "#9c179e"
            ],
            [
             0.4444444444444444,
             "#bd3786"
            ],
            [
             0.5555555555555556,
             "#d8576b"
            ],
            [
             0.6666666666666666,
             "#ed7953"
            ],
            [
             0.7777777777777778,
             "#fb9f3a"
            ],
            [
             0.8888888888888888,
             "#fdca26"
            ],
            [
             1,
             "#f0f921"
            ]
           ]
          },
          "colorway": [
           "#636efa",
           "#EF553B",
           "#00cc96",
           "#ab63fa",
           "#FFA15A",
           "#19d3f3",
           "#FF6692",
           "#B6E880",
           "#FF97FF",
           "#FECB52"
          ],
          "font": {
           "color": "#2a3f5f"
          },
          "geo": {
           "bgcolor": "white",
           "lakecolor": "white",
           "landcolor": "#E5ECF6",
           "showlakes": true,
           "showland": true,
           "subunitcolor": "white"
          },
          "hoverlabel": {
           "align": "left"
          },
          "hovermode": "closest",
          "mapbox": {
           "style": "light"
          },
          "paper_bgcolor": "white",
          "plot_bgcolor": "#E5ECF6",
          "polar": {
           "angularaxis": {
            "gridcolor": "white",
            "linecolor": "white",
            "ticks": ""
           },
           "bgcolor": "#E5ECF6",
           "radialaxis": {
            "gridcolor": "white",
            "linecolor": "white",
            "ticks": ""
           }
          },
          "scene": {
           "xaxis": {
            "backgroundcolor": "#E5ECF6",
            "gridcolor": "white",
            "gridwidth": 2,
            "linecolor": "white",
            "showbackground": true,
            "ticks": "",
            "zerolinecolor": "white"
           },
           "yaxis": {
            "backgroundcolor": "#E5ECF6",
            "gridcolor": "white",
            "gridwidth": 2,
            "linecolor": "white",
            "showbackground": true,
            "ticks": "",
            "zerolinecolor": "white"
           },
           "zaxis": {
            "backgroundcolor": "#E5ECF6",
            "gridcolor": "white",
            "gridwidth": 2,
            "linecolor": "white",
            "showbackground": true,
            "ticks": "",
            "zerolinecolor": "white"
           }
          },
          "shapedefaults": {
           "line": {
            "color": "#2a3f5f"
           }
          },
          "ternary": {
           "aaxis": {
            "gridcolor": "white",
            "linecolor": "white",
            "ticks": ""
           },
           "baxis": {
            "gridcolor": "white",
            "linecolor": "white",
            "ticks": ""
           },
           "bgcolor": "#E5ECF6",
           "caxis": {
            "gridcolor": "white",
            "linecolor": "white",
            "ticks": ""
           }
          },
          "title": {
           "x": 0.05
          },
          "xaxis": {
           "automargin": true,
           "gridcolor": "white",
           "linecolor": "white",
           "ticks": "",
           "title": {
            "standoff": 15
           },
           "zerolinecolor": "white",
           "zerolinewidth": 2
          },
          "yaxis": {
           "automargin": true,
           "gridcolor": "white",
           "linecolor": "white",
           "ticks": "",
           "title": {
            "standoff": 15
           },
           "zerolinecolor": "white",
           "zerolinewidth": 2
          }
         }
        },
        "title": {
         "text": "Mode Share Distribution - Total Counts"
        },
        "width": 600,
        "xaxis": {
         "anchor": "y",
         "domain": [
          0,
          1
         ],
         "title": {
          "text": "Mode of Transportation"
         }
        },
        "yaxis": {
         "anchor": "x",
         "domain": [
          0,
          1
         ],
         "title": {
          "text": "Total Count"
         }
        }
       }
      }
     },
     "metadata": {},
     "output_type": "display_data"
    },
    {
     "data": {
      "application/vnd.plotly.v1+json": {
       "config": {
        "plotlyServerURL": "https://plot.ly"
       },
       "data": [
        {
         "alignmentgroup": "True",
         "hovertemplate": "Mode of Transportation=%{x}<br>Percentage (%)=%{y}<extra></extra>",
         "legendgroup": "",
         "marker": {
          "color": "#636efa",
          "pattern": {
           "shape": ""
          }
         },
         "name": "",
         "offsetgroup": "",
         "orientation": "v",
         "showlegend": false,
         "textposition": "auto",
         "type": "bar",
         "x": [
          "WALK",
          "PT",
          "CAR",
          "BIKE",
          "CAR PASSENGER"
         ],
         "xaxis": "x",
         "y": [
          38.90610265391351,
          23.750505186582245,
          22.56500067358211,
          8.217701737841843,
          6.560689748080291
         ],
         "yaxis": "y"
        }
       ],
       "layout": {
        "barmode": "relative",
        "height": 600,
        "legend": {
         "tracegroupgap": 0
        },
        "template": {
         "data": {
          "bar": [
           {
            "error_x": {
             "color": "#2a3f5f"
            },
            "error_y": {
             "color": "#2a3f5f"
            },
            "marker": {
             "line": {
              "color": "#E5ECF6",
              "width": 0.5
             },
             "pattern": {
              "fillmode": "overlay",
              "size": 10,
              "solidity": 0.2
             }
            },
            "type": "bar"
           }
          ],
          "barpolar": [
           {
            "marker": {
             "line": {
              "color": "#E5ECF6",
              "width": 0.5
             },
             "pattern": {
              "fillmode": "overlay",
              "size": 10,
              "solidity": 0.2
             }
            },
            "type": "barpolar"
           }
          ],
          "carpet": [
           {
            "aaxis": {
             "endlinecolor": "#2a3f5f",
             "gridcolor": "white",
             "linecolor": "white",
             "minorgridcolor": "white",
             "startlinecolor": "#2a3f5f"
            },
            "baxis": {
             "endlinecolor": "#2a3f5f",
             "gridcolor": "white",
             "linecolor": "white",
             "minorgridcolor": "white",
             "startlinecolor": "#2a3f5f"
            },
            "type": "carpet"
           }
          ],
          "choropleth": [
           {
            "colorbar": {
             "outlinewidth": 0,
             "ticks": ""
            },
            "type": "choropleth"
           }
          ],
          "contour": [
           {
            "colorbar": {
             "outlinewidth": 0,
             "ticks": ""
            },
            "colorscale": [
             [
              0,
              "#0d0887"
             ],
             [
              0.1111111111111111,
              "#46039f"
             ],
             [
              0.2222222222222222,
              "#7201a8"
             ],
             [
              0.3333333333333333,
              "#9c179e"
             ],
             [
              0.4444444444444444,
              "#bd3786"
             ],
             [
              0.5555555555555556,
              "#d8576b"
             ],
             [
              0.6666666666666666,
              "#ed7953"
             ],
             [
              0.7777777777777778,
              "#fb9f3a"
             ],
             [
              0.8888888888888888,
              "#fdca26"
             ],
             [
              1,
              "#f0f921"
             ]
            ],
            "type": "contour"
           }
          ],
          "contourcarpet": [
           {
            "colorbar": {
             "outlinewidth": 0,
             "ticks": ""
            },
            "type": "contourcarpet"
           }
          ],
          "heatmap": [
           {
            "colorbar": {
             "outlinewidth": 0,
             "ticks": ""
            },
            "colorscale": [
             [
              0,
              "#0d0887"
             ],
             [
              0.1111111111111111,
              "#46039f"
             ],
             [
              0.2222222222222222,
              "#7201a8"
             ],
             [
              0.3333333333333333,
              "#9c179e"
             ],
             [
              0.4444444444444444,
              "#bd3786"
             ],
             [
              0.5555555555555556,
              "#d8576b"
             ],
             [
              0.6666666666666666,
              "#ed7953"
             ],
             [
              0.7777777777777778,
              "#fb9f3a"
             ],
             [
              0.8888888888888888,
              "#fdca26"
             ],
             [
              1,
              "#f0f921"
             ]
            ],
            "type": "heatmap"
           }
          ],
          "heatmapgl": [
           {
            "colorbar": {
             "outlinewidth": 0,
             "ticks": ""
            },
            "colorscale": [
             [
              0,
              "#0d0887"
             ],
             [
              0.1111111111111111,
              "#46039f"
             ],
             [
              0.2222222222222222,
              "#7201a8"
             ],
             [
              0.3333333333333333,
              "#9c179e"
             ],
             [
              0.4444444444444444,
              "#bd3786"
             ],
             [
              0.5555555555555556,
              "#d8576b"
             ],
             [
              0.6666666666666666,
              "#ed7953"
             ],
             [
              0.7777777777777778,
              "#fb9f3a"
             ],
             [
              0.8888888888888888,
              "#fdca26"
             ],
             [
              1,
              "#f0f921"
             ]
            ],
            "type": "heatmapgl"
           }
          ],
          "histogram": [
           {
            "marker": {
             "pattern": {
              "fillmode": "overlay",
              "size": 10,
              "solidity": 0.2
             }
            },
            "type": "histogram"
           }
          ],
          "histogram2d": [
           {
            "colorbar": {
             "outlinewidth": 0,
             "ticks": ""
            },
            "colorscale": [
             [
              0,
              "#0d0887"
             ],
             [
              0.1111111111111111,
              "#46039f"
             ],
             [
              0.2222222222222222,
              "#7201a8"
             ],
             [
              0.3333333333333333,
              "#9c179e"
             ],
             [
              0.4444444444444444,
              "#bd3786"
             ],
             [
              0.5555555555555556,
              "#d8576b"
             ],
             [
              0.6666666666666666,
              "#ed7953"
             ],
             [
              0.7777777777777778,
              "#fb9f3a"
             ],
             [
              0.8888888888888888,
              "#fdca26"
             ],
             [
              1,
              "#f0f921"
             ]
            ],
            "type": "histogram2d"
           }
          ],
          "histogram2dcontour": [
           {
            "colorbar": {
             "outlinewidth": 0,
             "ticks": ""
            },
            "colorscale": [
             [
              0,
              "#0d0887"
             ],
             [
              0.1111111111111111,
              "#46039f"
             ],
             [
              0.2222222222222222,
              "#7201a8"
             ],
             [
              0.3333333333333333,
              "#9c179e"
             ],
             [
              0.4444444444444444,
              "#bd3786"
             ],
             [
              0.5555555555555556,
              "#d8576b"
             ],
             [
              0.6666666666666666,
              "#ed7953"
             ],
             [
              0.7777777777777778,
              "#fb9f3a"
             ],
             [
              0.8888888888888888,
              "#fdca26"
             ],
             [
              1,
              "#f0f921"
             ]
            ],
            "type": "histogram2dcontour"
           }
          ],
          "mesh3d": [
           {
            "colorbar": {
             "outlinewidth": 0,
             "ticks": ""
            },
            "type": "mesh3d"
           }
          ],
          "parcoords": [
           {
            "line": {
             "colorbar": {
              "outlinewidth": 0,
              "ticks": ""
             }
            },
            "type": "parcoords"
           }
          ],
          "pie": [
           {
            "automargin": true,
            "type": "pie"
           }
          ],
          "scatter": [
           {
            "fillpattern": {
             "fillmode": "overlay",
             "size": 10,
             "solidity": 0.2
            },
            "type": "scatter"
           }
          ],
          "scatter3d": [
           {
            "line": {
             "colorbar": {
              "outlinewidth": 0,
              "ticks": ""
             }
            },
            "marker": {
             "colorbar": {
              "outlinewidth": 0,
              "ticks": ""
             }
            },
            "type": "scatter3d"
           }
          ],
          "scattercarpet": [
           {
            "marker": {
             "colorbar": {
              "outlinewidth": 0,
              "ticks": ""
             }
            },
            "type": "scattercarpet"
           }
          ],
          "scattergeo": [
           {
            "marker": {
             "colorbar": {
              "outlinewidth": 0,
              "ticks": ""
             }
            },
            "type": "scattergeo"
           }
          ],
          "scattergl": [
           {
            "marker": {
             "colorbar": {
              "outlinewidth": 0,
              "ticks": ""
             }
            },
            "type": "scattergl"
           }
          ],
          "scattermapbox": [
           {
            "marker": {
             "colorbar": {
              "outlinewidth": 0,
              "ticks": ""
             }
            },
            "type": "scattermapbox"
           }
          ],
          "scatterpolar": [
           {
            "marker": {
             "colorbar": {
              "outlinewidth": 0,
              "ticks": ""
             }
            },
            "type": "scatterpolar"
           }
          ],
          "scatterpolargl": [
           {
            "marker": {
             "colorbar": {
              "outlinewidth": 0,
              "ticks": ""
             }
            },
            "type": "scatterpolargl"
           }
          ],
          "scatterternary": [
           {
            "marker": {
             "colorbar": {
              "outlinewidth": 0,
              "ticks": ""
             }
            },
            "type": "scatterternary"
           }
          ],
          "surface": [
           {
            "colorbar": {
             "outlinewidth": 0,
             "ticks": ""
            },
            "colorscale": [
             [
              0,
              "#0d0887"
             ],
             [
              0.1111111111111111,
              "#46039f"
             ],
             [
              0.2222222222222222,
              "#7201a8"
             ],
             [
              0.3333333333333333,
              "#9c179e"
             ],
             [
              0.4444444444444444,
              "#bd3786"
             ],
             [
              0.5555555555555556,
              "#d8576b"
             ],
             [
              0.6666666666666666,
              "#ed7953"
             ],
             [
              0.7777777777777778,
              "#fb9f3a"
             ],
             [
              0.8888888888888888,
              "#fdca26"
             ],
             [
              1,
              "#f0f921"
             ]
            ],
            "type": "surface"
           }
          ],
          "table": [
           {
            "cells": {
             "fill": {
              "color": "#EBF0F8"
             },
             "line": {
              "color": "white"
             }
            },
            "header": {
             "fill": {
              "color": "#C8D4E3"
             },
             "line": {
              "color": "white"
             }
            },
            "type": "table"
           }
          ]
         },
         "layout": {
          "annotationdefaults": {
           "arrowcolor": "#2a3f5f",
           "arrowhead": 0,
           "arrowwidth": 1
          },
          "autotypenumbers": "strict",
          "coloraxis": {
           "colorbar": {
            "outlinewidth": 0,
            "ticks": ""
           }
          },
          "colorscale": {
           "diverging": [
            [
             0,
             "#8e0152"
            ],
            [
             0.1,
             "#c51b7d"
            ],
            [
             0.2,
             "#de77ae"
            ],
            [
             0.3,
             "#f1b6da"
            ],
            [
             0.4,
             "#fde0ef"
            ],
            [
             0.5,
             "#f7f7f7"
            ],
            [
             0.6,
             "#e6f5d0"
            ],
            [
             0.7,
             "#b8e186"
            ],
            [
             0.8,
             "#7fbc41"
            ],
            [
             0.9,
             "#4d9221"
            ],
            [
             1,
             "#276419"
            ]
           ],
           "sequential": [
            [
             0,
             "#0d0887"
            ],
            [
             0.1111111111111111,
             "#46039f"
            ],
            [
             0.2222222222222222,
             "#7201a8"
            ],
            [
             0.3333333333333333,
             "#9c179e"
            ],
            [
             0.4444444444444444,
             "#bd3786"
            ],
            [
             0.5555555555555556,
             "#d8576b"
            ],
            [
             0.6666666666666666,
             "#ed7953"
            ],
            [
             0.7777777777777778,
             "#fb9f3a"
            ],
            [
             0.8888888888888888,
             "#fdca26"
            ],
            [
             1,
             "#f0f921"
            ]
           ],
           "sequentialminus": [
            [
             0,
             "#0d0887"
            ],
            [
             0.1111111111111111,
             "#46039f"
            ],
            [
             0.2222222222222222,
             "#7201a8"
            ],
            [
             0.3333333333333333,
             "#9c179e"
            ],
            [
             0.4444444444444444,
             "#bd3786"
            ],
            [
             0.5555555555555556,
             "#d8576b"
            ],
            [
             0.6666666666666666,
             "#ed7953"
            ],
            [
             0.7777777777777778,
             "#fb9f3a"
            ],
            [
             0.8888888888888888,
             "#fdca26"
            ],
            [
             1,
             "#f0f921"
            ]
           ]
          },
          "colorway": [
           "#636efa",
           "#EF553B",
           "#00cc96",
           "#ab63fa",
           "#FFA15A",
           "#19d3f3",
           "#FF6692",
           "#B6E880",
           "#FF97FF",
           "#FECB52"
          ],
          "font": {
           "color": "#2a3f5f"
          },
          "geo": {
           "bgcolor": "white",
           "lakecolor": "white",
           "landcolor": "#E5ECF6",
           "showlakes": true,
           "showland": true,
           "subunitcolor": "white"
          },
          "hoverlabel": {
           "align": "left"
          },
          "hovermode": "closest",
          "mapbox": {
           "style": "light"
          },
          "paper_bgcolor": "white",
          "plot_bgcolor": "#E5ECF6",
          "polar": {
           "angularaxis": {
            "gridcolor": "white",
            "linecolor": "white",
            "ticks": ""
           },
           "bgcolor": "#E5ECF6",
           "radialaxis": {
            "gridcolor": "white",
            "linecolor": "white",
            "ticks": ""
           }
          },
          "scene": {
           "xaxis": {
            "backgroundcolor": "#E5ECF6",
            "gridcolor": "white",
            "gridwidth": 2,
            "linecolor": "white",
            "showbackground": true,
            "ticks": "",
            "zerolinecolor": "white"
           },
           "yaxis": {
            "backgroundcolor": "#E5ECF6",
            "gridcolor": "white",
            "gridwidth": 2,
            "linecolor": "white",
            "showbackground": true,
            "ticks": "",
            "zerolinecolor": "white"
           },
           "zaxis": {
            "backgroundcolor": "#E5ECF6",
            "gridcolor": "white",
            "gridwidth": 2,
            "linecolor": "white",
            "showbackground": true,
            "ticks": "",
            "zerolinecolor": "white"
           }
          },
          "shapedefaults": {
           "line": {
            "color": "#2a3f5f"
           }
          },
          "ternary": {
           "aaxis": {
            "gridcolor": "white",
            "linecolor": "white",
            "ticks": ""
           },
           "baxis": {
            "gridcolor": "white",
            "linecolor": "white",
            "ticks": ""
           },
           "bgcolor": "#E5ECF6",
           "caxis": {
            "gridcolor": "white",
            "linecolor": "white",
            "ticks": ""
           }
          },
          "title": {
           "x": 0.05
          },
          "xaxis": {
           "automargin": true,
           "gridcolor": "white",
           "linecolor": "white",
           "ticks": "",
           "title": {
            "standoff": 15
           },
           "zerolinecolor": "white",
           "zerolinewidth": 2
          },
          "yaxis": {
           "automargin": true,
           "gridcolor": "white",
           "linecolor": "white",
           "ticks": "",
           "title": {
            "standoff": 15
           },
           "zerolinecolor": "white",
           "zerolinewidth": 2
          }
         }
        },
        "title": {
         "text": "Mode Share Distribution - Percentage"
        },
        "width": 600,
        "xaxis": {
         "anchor": "y",
         "domain": [
          0,
          1
         ],
         "title": {
          "text": "Mode of Transportation"
         }
        },
        "yaxis": {
         "anchor": "x",
         "domain": [
          0,
          1
         ],
         "title": {
          "text": "Percentage (%)"
         }
        }
       }
      }
     },
     "metadata": {},
     "output_type": "display_data"
    }
   ],
   "source": [
    "# Capitalize and remove underscores from mode names\n",
    "df_mz_trips['mode'] = df_mz_trips['mode'].str.replace('_', ' ').str.upper()\n",
    "\n",
    "# Calculate total counts for each mode\n",
    "mode_counts = df_mz_trips['mode'].value_counts().reset_index()\n",
    "mode_counts.columns = ['Mode', 'Count']\n",
    "\n",
    "# Plot total counts\n",
    "fig1 = px.bar(mode_counts, x='Mode', y='Count', title='Mode Share Distribution - Total Counts',\n",
    "              labels={'Count': 'Total Count', 'Mode': 'Mode of Transportation'})\n",
    "fig1.update_layout(width=600, height=600)\n",
    "fig1.show()\n",
    "\n",
    "# Calculate percentage distribution for each mode\n",
    "mode_counts['Percentage'] = (mode_counts['Count'] / mode_counts['Count'].sum()) * 100\n",
    "\n",
    "# Plot percentage distribution\n",
    "fig2 = px.bar(mode_counts, x='Mode', y='Percentage', title='Mode Share Distribution - Percentage',\n",
    "              labels={'Percentage': 'Percentage (%)', 'Mode': 'Mode of Transportation'})\n",
    "fig2.update_layout(width=600, height=600)\n",
    "fig2.show()"
   ]
  },
  {
   "cell_type": "code",
   "execution_count": 27,
   "metadata": {},
   "outputs": [
    {
     "name": "stderr",
     "output_type": "stream",
     "text": [
      "/var/folders/98/gxtbd5491mqcr_24yrkq85zm0000gp/T/ipykernel_74753/2773760578.py:2: SettingWithCopyWarning:\n",
      "\n",
      "\n",
      "A value is trying to be set on a copy of a slice from a DataFrame.\n",
      "Try using .loc[row_indexer,col_indexer] = value instead\n",
      "\n",
      "See the caveats in the documentation: https://pandas.pydata.org/pandas-docs/stable/user_guide/indexing.html#returning-a-view-versus-a-copy\n",
      "\n",
      "/var/folders/98/gxtbd5491mqcr_24yrkq85zm0000gp/T/ipykernel_74753/2773760578.py:3: SettingWithCopyWarning:\n",
      "\n",
      "\n",
      "A value is trying to be set on a copy of a slice from a DataFrame.\n",
      "Try using .loc[row_indexer,col_indexer] = value instead\n",
      "\n",
      "See the caveats in the documentation: https://pandas.pydata.org/pandas-docs/stable/user_guide/indexing.html#returning-a-view-versus-a-copy\n",
      "\n"
     ]
    },
    {
     "data": {
      "application/vnd.plotly.v1+json": {
       "config": {
        "plotlyServerURL": "https://plot.ly"
       },
       "data": [
        {
         "alignmentgroup": "True",
         "hovertemplate": "Type=Departures<br>Time of Day=%{x}<br>Count=%{y}<extra></extra>",
         "legendgroup": "Departures",
         "marker": {
          "color": "#636efa",
          "pattern": {
           "shape": ""
          }
         },
         "name": "Departures",
         "offsetgroup": "Departures",
         "orientation": "v",
         "showlegend": true,
         "textposition": "auto",
         "type": "bar",
         "x": [
          "00:00:00",
          "00:30:00",
          "01:00:00",
          "01:30:00",
          "02:00:00",
          "02:30:00",
          "03:00:00",
          "03:30:00",
          "04:00:00",
          "04:30:00",
          "05:00:00",
          "05:30:00",
          "06:00:00",
          "06:30:00",
          "07:00:00",
          "07:30:00",
          "08:00:00",
          "08:30:00",
          "09:00:00",
          "09:30:00",
          "10:00:00",
          "10:30:00",
          "11:00:00",
          "11:30:00",
          "12:00:00",
          "12:30:00",
          "13:00:00",
          "13:30:00",
          "14:00:00",
          "14:30:00",
          "15:00:00",
          "15:30:00",
          "16:00:00",
          "16:30:00",
          "17:00:00",
          "17:30:00",
          "18:00:00",
          "18:30:00",
          "19:00:00",
          "19:30:00",
          "20:00:00",
          "20:30:00",
          "21:00:00",
          "21:30:00",
          "22:00:00",
          "22:30:00",
          "23:00:00",
          "23:30:00"
         ],
         "xaxis": "x",
         "y": [
          21,
          10,
          9,
          5,
          2,
          1,
          6,
          3,
          4,
          3,
          17,
          45,
          77,
          118,
          179,
          204,
          265,
          146,
          193,
          157,
          273,
          188,
          221,
          297,
          469,
          272,
          367,
          233,
          274,
          171,
          283,
          208,
          284,
          238,
          388,
          285,
          361,
          201,
          220,
          141,
          134,
          102,
          83,
          68,
          79,
          44,
          43,
          31
         ],
         "yaxis": "y"
        },
        {
         "alignmentgroup": "True",
         "hovertemplate": "Type=Arrivals<br>Time of Day=%{x}<br>Count=%{y}<extra></extra>",
         "legendgroup": "Arrivals",
         "marker": {
          "color": "#EF553B",
          "pattern": {
           "shape": ""
          }
         },
         "name": "Arrivals",
         "offsetgroup": "Arrivals",
         "orientation": "v",
         "showlegend": true,
         "textposition": "auto",
         "type": "bar",
         "x": [
          "00:00:00",
          "00:30:00",
          "01:00:00",
          "01:30:00",
          "02:00:00",
          "02:30:00",
          "03:00:00",
          "03:30:00",
          "04:00:00",
          "04:30:00",
          "05:00:00",
          "05:30:00",
          "06:00:00",
          "06:30:00",
          "07:00:00",
          "07:30:00",
          "08:00:00",
          "08:30:00",
          "09:00:00",
          "09:30:00",
          "10:00:00",
          "10:30:00",
          "11:00:00",
          "11:30:00",
          "12:00:00",
          "12:30:00",
          "13:00:00",
          "13:30:00",
          "14:00:00",
          "14:30:00",
          "15:00:00",
          "15:30:00",
          "16:00:00",
          "16:30:00",
          "17:00:00",
          "17:30:00",
          "18:00:00",
          "18:30:00",
          "19:00:00",
          "19:30:00",
          "20:00:00",
          "20:30:00",
          "21:00:00",
          "21:30:00",
          "22:00:00",
          "22:30:00",
          "23:00:00",
          "23:30:00"
         ],
         "xaxis": "x",
         "y": [
          26,
          22,
          7,
          5,
          7,
          2,
          1,
          5,
          3,
          3,
          6,
          23,
          58,
          88,
          140,
          186,
          304,
          174,
          177,
          154,
          222,
          200,
          208,
          271,
          471,
          304,
          346,
          237,
          255,
          176,
          243,
          237,
          262,
          261,
          343,
          335,
          368,
          246,
          242,
          179,
          141,
          104,
          88,
          71,
          80,
          57,
          51,
          34
         ],
         "yaxis": "y"
        }
       ],
       "layout": {
        "barmode": "group",
        "height": 600,
        "legend": {
         "title": {
          "text": "Type"
         },
         "tracegroupgap": 0
        },
        "template": {
         "data": {
          "bar": [
           {
            "error_x": {
             "color": "#2a3f5f"
            },
            "error_y": {
             "color": "#2a3f5f"
            },
            "marker": {
             "line": {
              "color": "#E5ECF6",
              "width": 0.5
             },
             "pattern": {
              "fillmode": "overlay",
              "size": 10,
              "solidity": 0.2
             }
            },
            "type": "bar"
           }
          ],
          "barpolar": [
           {
            "marker": {
             "line": {
              "color": "#E5ECF6",
              "width": 0.5
             },
             "pattern": {
              "fillmode": "overlay",
              "size": 10,
              "solidity": 0.2
             }
            },
            "type": "barpolar"
           }
          ],
          "carpet": [
           {
            "aaxis": {
             "endlinecolor": "#2a3f5f",
             "gridcolor": "white",
             "linecolor": "white",
             "minorgridcolor": "white",
             "startlinecolor": "#2a3f5f"
            },
            "baxis": {
             "endlinecolor": "#2a3f5f",
             "gridcolor": "white",
             "linecolor": "white",
             "minorgridcolor": "white",
             "startlinecolor": "#2a3f5f"
            },
            "type": "carpet"
           }
          ],
          "choropleth": [
           {
            "colorbar": {
             "outlinewidth": 0,
             "ticks": ""
            },
            "type": "choropleth"
           }
          ],
          "contour": [
           {
            "colorbar": {
             "outlinewidth": 0,
             "ticks": ""
            },
            "colorscale": [
             [
              0,
              "#0d0887"
             ],
             [
              0.1111111111111111,
              "#46039f"
             ],
             [
              0.2222222222222222,
              "#7201a8"
             ],
             [
              0.3333333333333333,
              "#9c179e"
             ],
             [
              0.4444444444444444,
              "#bd3786"
             ],
             [
              0.5555555555555556,
              "#d8576b"
             ],
             [
              0.6666666666666666,
              "#ed7953"
             ],
             [
              0.7777777777777778,
              "#fb9f3a"
             ],
             [
              0.8888888888888888,
              "#fdca26"
             ],
             [
              1,
              "#f0f921"
             ]
            ],
            "type": "contour"
           }
          ],
          "contourcarpet": [
           {
            "colorbar": {
             "outlinewidth": 0,
             "ticks": ""
            },
            "type": "contourcarpet"
           }
          ],
          "heatmap": [
           {
            "colorbar": {
             "outlinewidth": 0,
             "ticks": ""
            },
            "colorscale": [
             [
              0,
              "#0d0887"
             ],
             [
              0.1111111111111111,
              "#46039f"
             ],
             [
              0.2222222222222222,
              "#7201a8"
             ],
             [
              0.3333333333333333,
              "#9c179e"
             ],
             [
              0.4444444444444444,
              "#bd3786"
             ],
             [
              0.5555555555555556,
              "#d8576b"
             ],
             [
              0.6666666666666666,
              "#ed7953"
             ],
             [
              0.7777777777777778,
              "#fb9f3a"
             ],
             [
              0.8888888888888888,
              "#fdca26"
             ],
             [
              1,
              "#f0f921"
             ]
            ],
            "type": "heatmap"
           }
          ],
          "heatmapgl": [
           {
            "colorbar": {
             "outlinewidth": 0,
             "ticks": ""
            },
            "colorscale": [
             [
              0,
              "#0d0887"
             ],
             [
              0.1111111111111111,
              "#46039f"
             ],
             [
              0.2222222222222222,
              "#7201a8"
             ],
             [
              0.3333333333333333,
              "#9c179e"
             ],
             [
              0.4444444444444444,
              "#bd3786"
             ],
             [
              0.5555555555555556,
              "#d8576b"
             ],
             [
              0.6666666666666666,
              "#ed7953"
             ],
             [
              0.7777777777777778,
              "#fb9f3a"
             ],
             [
              0.8888888888888888,
              "#fdca26"
             ],
             [
              1,
              "#f0f921"
             ]
            ],
            "type": "heatmapgl"
           }
          ],
          "histogram": [
           {
            "marker": {
             "pattern": {
              "fillmode": "overlay",
              "size": 10,
              "solidity": 0.2
             }
            },
            "type": "histogram"
           }
          ],
          "histogram2d": [
           {
            "colorbar": {
             "outlinewidth": 0,
             "ticks": ""
            },
            "colorscale": [
             [
              0,
              "#0d0887"
             ],
             [
              0.1111111111111111,
              "#46039f"
             ],
             [
              0.2222222222222222,
              "#7201a8"
             ],
             [
              0.3333333333333333,
              "#9c179e"
             ],
             [
              0.4444444444444444,
              "#bd3786"
             ],
             [
              0.5555555555555556,
              "#d8576b"
             ],
             [
              0.6666666666666666,
              "#ed7953"
             ],
             [
              0.7777777777777778,
              "#fb9f3a"
             ],
             [
              0.8888888888888888,
              "#fdca26"
             ],
             [
              1,
              "#f0f921"
             ]
            ],
            "type": "histogram2d"
           }
          ],
          "histogram2dcontour": [
           {
            "colorbar": {
             "outlinewidth": 0,
             "ticks": ""
            },
            "colorscale": [
             [
              0,
              "#0d0887"
             ],
             [
              0.1111111111111111,
              "#46039f"
             ],
             [
              0.2222222222222222,
              "#7201a8"
             ],
             [
              0.3333333333333333,
              "#9c179e"
             ],
             [
              0.4444444444444444,
              "#bd3786"
             ],
             [
              0.5555555555555556,
              "#d8576b"
             ],
             [
              0.6666666666666666,
              "#ed7953"
             ],
             [
              0.7777777777777778,
              "#fb9f3a"
             ],
             [
              0.8888888888888888,
              "#fdca26"
             ],
             [
              1,
              "#f0f921"
             ]
            ],
            "type": "histogram2dcontour"
           }
          ],
          "mesh3d": [
           {
            "colorbar": {
             "outlinewidth": 0,
             "ticks": ""
            },
            "type": "mesh3d"
           }
          ],
          "parcoords": [
           {
            "line": {
             "colorbar": {
              "outlinewidth": 0,
              "ticks": ""
             }
            },
            "type": "parcoords"
           }
          ],
          "pie": [
           {
            "automargin": true,
            "type": "pie"
           }
          ],
          "scatter": [
           {
            "fillpattern": {
             "fillmode": "overlay",
             "size": 10,
             "solidity": 0.2
            },
            "type": "scatter"
           }
          ],
          "scatter3d": [
           {
            "line": {
             "colorbar": {
              "outlinewidth": 0,
              "ticks": ""
             }
            },
            "marker": {
             "colorbar": {
              "outlinewidth": 0,
              "ticks": ""
             }
            },
            "type": "scatter3d"
           }
          ],
          "scattercarpet": [
           {
            "marker": {
             "colorbar": {
              "outlinewidth": 0,
              "ticks": ""
             }
            },
            "type": "scattercarpet"
           }
          ],
          "scattergeo": [
           {
            "marker": {
             "colorbar": {
              "outlinewidth": 0,
              "ticks": ""
             }
            },
            "type": "scattergeo"
           }
          ],
          "scattergl": [
           {
            "marker": {
             "colorbar": {
              "outlinewidth": 0,
              "ticks": ""
             }
            },
            "type": "scattergl"
           }
          ],
          "scattermapbox": [
           {
            "marker": {
             "colorbar": {
              "outlinewidth": 0,
              "ticks": ""
             }
            },
            "type": "scattermapbox"
           }
          ],
          "scatterpolar": [
           {
            "marker": {
             "colorbar": {
              "outlinewidth": 0,
              "ticks": ""
             }
            },
            "type": "scatterpolar"
           }
          ],
          "scatterpolargl": [
           {
            "marker": {
             "colorbar": {
              "outlinewidth": 0,
              "ticks": ""
             }
            },
            "type": "scatterpolargl"
           }
          ],
          "scatterternary": [
           {
            "marker": {
             "colorbar": {
              "outlinewidth": 0,
              "ticks": ""
             }
            },
            "type": "scatterternary"
           }
          ],
          "surface": [
           {
            "colorbar": {
             "outlinewidth": 0,
             "ticks": ""
            },
            "colorscale": [
             [
              0,
              "#0d0887"
             ],
             [
              0.1111111111111111,
              "#46039f"
             ],
             [
              0.2222222222222222,
              "#7201a8"
             ],
             [
              0.3333333333333333,
              "#9c179e"
             ],
             [
              0.4444444444444444,
              "#bd3786"
             ],
             [
              0.5555555555555556,
              "#d8576b"
             ],
             [
              0.6666666666666666,
              "#ed7953"
             ],
             [
              0.7777777777777778,
              "#fb9f3a"
             ],
             [
              0.8888888888888888,
              "#fdca26"
             ],
             [
              1,
              "#f0f921"
             ]
            ],
            "type": "surface"
           }
          ],
          "table": [
           {
            "cells": {
             "fill": {
              "color": "#EBF0F8"
             },
             "line": {
              "color": "white"
             }
            },
            "header": {
             "fill": {
              "color": "#C8D4E3"
             },
             "line": {
              "color": "white"
             }
            },
            "type": "table"
           }
          ]
         },
         "layout": {
          "annotationdefaults": {
           "arrowcolor": "#2a3f5f",
           "arrowhead": 0,
           "arrowwidth": 1
          },
          "autotypenumbers": "strict",
          "coloraxis": {
           "colorbar": {
            "outlinewidth": 0,
            "ticks": ""
           }
          },
          "colorscale": {
           "diverging": [
            [
             0,
             "#8e0152"
            ],
            [
             0.1,
             "#c51b7d"
            ],
            [
             0.2,
             "#de77ae"
            ],
            [
             0.3,
             "#f1b6da"
            ],
            [
             0.4,
             "#fde0ef"
            ],
            [
             0.5,
             "#f7f7f7"
            ],
            [
             0.6,
             "#e6f5d0"
            ],
            [
             0.7,
             "#b8e186"
            ],
            [
             0.8,
             "#7fbc41"
            ],
            [
             0.9,
             "#4d9221"
            ],
            [
             1,
             "#276419"
            ]
           ],
           "sequential": [
            [
             0,
             "#0d0887"
            ],
            [
             0.1111111111111111,
             "#46039f"
            ],
            [
             0.2222222222222222,
             "#7201a8"
            ],
            [
             0.3333333333333333,
             "#9c179e"
            ],
            [
             0.4444444444444444,
             "#bd3786"
            ],
            [
             0.5555555555555556,
             "#d8576b"
            ],
            [
             0.6666666666666666,
             "#ed7953"
            ],
            [
             0.7777777777777778,
             "#fb9f3a"
            ],
            [
             0.8888888888888888,
             "#fdca26"
            ],
            [
             1,
             "#f0f921"
            ]
           ],
           "sequentialminus": [
            [
             0,
             "#0d0887"
            ],
            [
             0.1111111111111111,
             "#46039f"
            ],
            [
             0.2222222222222222,
             "#7201a8"
            ],
            [
             0.3333333333333333,
             "#9c179e"
            ],
            [
             0.4444444444444444,
             "#bd3786"
            ],
            [
             0.5555555555555556,
             "#d8576b"
            ],
            [
             0.6666666666666666,
             "#ed7953"
            ],
            [
             0.7777777777777778,
             "#fb9f3a"
            ],
            [
             0.8888888888888888,
             "#fdca26"
            ],
            [
             1,
             "#f0f921"
            ]
           ]
          },
          "colorway": [
           "#636efa",
           "#EF553B",
           "#00cc96",
           "#ab63fa",
           "#FFA15A",
           "#19d3f3",
           "#FF6692",
           "#B6E880",
           "#FF97FF",
           "#FECB52"
          ],
          "font": {
           "color": "#2a3f5f"
          },
          "geo": {
           "bgcolor": "white",
           "lakecolor": "white",
           "landcolor": "#E5ECF6",
           "showlakes": true,
           "showland": true,
           "subunitcolor": "white"
          },
          "hoverlabel": {
           "align": "left"
          },
          "hovermode": "closest",
          "mapbox": {
           "style": "light"
          },
          "paper_bgcolor": "white",
          "plot_bgcolor": "#E5ECF6",
          "polar": {
           "angularaxis": {
            "gridcolor": "white",
            "linecolor": "white",
            "ticks": ""
           },
           "bgcolor": "#E5ECF6",
           "radialaxis": {
            "gridcolor": "white",
            "linecolor": "white",
            "ticks": ""
           }
          },
          "scene": {
           "xaxis": {
            "backgroundcolor": "#E5ECF6",
            "gridcolor": "white",
            "gridwidth": 2,
            "linecolor": "white",
            "showbackground": true,
            "ticks": "",
            "zerolinecolor": "white"
           },
           "yaxis": {
            "backgroundcolor": "#E5ECF6",
            "gridcolor": "white",
            "gridwidth": 2,
            "linecolor": "white",
            "showbackground": true,
            "ticks": "",
            "zerolinecolor": "white"
           },
           "zaxis": {
            "backgroundcolor": "#E5ECF6",
            "gridcolor": "white",
            "gridwidth": 2,
            "linecolor": "white",
            "showbackground": true,
            "ticks": "",
            "zerolinecolor": "white"
           }
          },
          "shapedefaults": {
           "line": {
            "color": "#2a3f5f"
           }
          },
          "ternary": {
           "aaxis": {
            "gridcolor": "white",
            "linecolor": "white",
            "ticks": ""
           },
           "baxis": {
            "gridcolor": "white",
            "linecolor": "white",
            "ticks": ""
           },
           "bgcolor": "#E5ECF6",
           "caxis": {
            "gridcolor": "white",
            "linecolor": "white",
            "ticks": ""
           }
          },
          "title": {
           "x": 0.05
          },
          "xaxis": {
           "automargin": true,
           "gridcolor": "white",
           "linecolor": "white",
           "ticks": "",
           "title": {
            "standoff": 15
           },
           "zerolinecolor": "white",
           "zerolinewidth": 2
          },
          "yaxis": {
           "automargin": true,
           "gridcolor": "white",
           "linecolor": "white",
           "ticks": "",
           "title": {
            "standoff": 15
           },
           "zerolinecolor": "white",
           "zerolinewidth": 2
          }
         }
        },
        "title": {
         "text": "Departure and Arrival Times over a Day"
        },
        "width": 1200,
        "xaxis": {
         "anchor": "y",
         "domain": [
          0,
          1
         ],
         "dtick": 1,
         "tickangle": 45,
         "title": {
          "text": "Time of Day"
         },
         "type": "category"
        },
        "yaxis": {
         "anchor": "x",
         "domain": [
          0,
          1
         ],
         "range": [
          0,
          471
         ],
         "title": {
          "text": "Count"
         }
        }
       }
      }
     },
     "metadata": {},
     "output_type": "display_data"
    }
   ],
   "source": [
    "# Convert seconds to datetime and resample times to 15-minute bins\n",
    "df_mz_trips['departure_time'] = pd.to_datetime(df_mz_trips['departure_time'], unit='s').dt.floor('30T').dt.time\n",
    "df_mz_trips['arrival_time'] = pd.to_datetime(df_mz_trips['arrival_time'], unit='s').dt.floor('30T').dt.time\n",
    "\n",
    "# Count occurrences in each 15-minute bin\n",
    "departure_counts = df_mz_trips.groupby('departure_time').size().reset_index(name='Count')\n",
    "departure_counts['Type'] = 'Departures'\n",
    "departure_counts = departure_counts.rename(columns={'departure_time': 'Time'})\n",
    "\n",
    "arrival_counts = df_mz_trips.groupby('arrival_time').size().reset_index(name='Count')\n",
    "arrival_counts['Type'] = 'Arrivals'\n",
    "arrival_counts = arrival_counts.rename(columns={'arrival_time': 'Time'})\n",
    "\n",
    "# Combine data\n",
    "time_counts = pd.concat([departure_counts, arrival_counts], axis=0)\n",
    "\n",
    "# Plot using Plotly Express\n",
    "fig = px.bar(time_counts, x='Time', y='Count', color='Type',\n",
    "             title='Departure and Arrival Times over a Day',\n",
    "             labels={'Count': 'Count', 'Time': 'Time of Day'},\n",
    "             barmode='group')\n",
    "\n",
    "# Customize x-axis ticks and scale y-axis\n",
    "fig.update_xaxes(type='category', tickangle=45, dtick=1)\n",
    "fig.update_yaxes(range=[0, time_counts['Count'].max()])\n",
    "\n",
    "# Show plot\n",
    "fig.update_layout(width=1200, height=600)\n",
    "fig.show()"
   ]
  },
  {
   "cell_type": "code",
   "execution_count": 28,
   "metadata": {},
   "outputs": [
    {
     "name": "stderr",
     "output_type": "stream",
     "text": [
      "/var/folders/98/gxtbd5491mqcr_24yrkq85zm0000gp/T/ipykernel_74753/1178638452.py:2: SettingWithCopyWarning:\n",
      "\n",
      "\n",
      "A value is trying to be set on a copy of a slice from a DataFrame.\n",
      "Try using .loc[row_indexer,col_indexer] = value instead\n",
      "\n",
      "See the caveats in the documentation: https://pandas.pydata.org/pandas-docs/stable/user_guide/indexing.html#returning-a-view-versus-a-copy\n",
      "\n"
     ]
    },
    {
     "data": {
      "application/vnd.plotly.v1+json": {
       "config": {
        "plotlyServerURL": "https://plot.ly"
       },
       "data": [
        {
         "alignmentgroup": "True",
         "hovertemplate": "Purpose=%{x}<br>Total Count=%{y}<extra></extra>",
         "legendgroup": "",
         "marker": {
          "color": "#636efa",
          "pattern": {
           "shape": ""
          }
         },
         "name": "",
         "offsetgroup": "",
         "orientation": "v",
         "showlegend": false,
         "textposition": "auto",
         "type": "bar",
         "x": [
          "HOME",
          "LEISURE",
          "WORK",
          "SHOP",
          "OTHER",
          "EDUCATION"
         ],
         "xaxis": "x",
         "y": [
          2826,
          1500,
          1177,
          986,
          550,
          384
         ],
         "yaxis": "y"
        }
       ],
       "layout": {
        "barmode": "relative",
        "height": 600,
        "legend": {
         "tracegroupgap": 0
        },
        "template": {
         "data": {
          "bar": [
           {
            "error_x": {
             "color": "#2a3f5f"
            },
            "error_y": {
             "color": "#2a3f5f"
            },
            "marker": {
             "line": {
              "color": "#E5ECF6",
              "width": 0.5
             },
             "pattern": {
              "fillmode": "overlay",
              "size": 10,
              "solidity": 0.2
             }
            },
            "type": "bar"
           }
          ],
          "barpolar": [
           {
            "marker": {
             "line": {
              "color": "#E5ECF6",
              "width": 0.5
             },
             "pattern": {
              "fillmode": "overlay",
              "size": 10,
              "solidity": 0.2
             }
            },
            "type": "barpolar"
           }
          ],
          "carpet": [
           {
            "aaxis": {
             "endlinecolor": "#2a3f5f",
             "gridcolor": "white",
             "linecolor": "white",
             "minorgridcolor": "white",
             "startlinecolor": "#2a3f5f"
            },
            "baxis": {
             "endlinecolor": "#2a3f5f",
             "gridcolor": "white",
             "linecolor": "white",
             "minorgridcolor": "white",
             "startlinecolor": "#2a3f5f"
            },
            "type": "carpet"
           }
          ],
          "choropleth": [
           {
            "colorbar": {
             "outlinewidth": 0,
             "ticks": ""
            },
            "type": "choropleth"
           }
          ],
          "contour": [
           {
            "colorbar": {
             "outlinewidth": 0,
             "ticks": ""
            },
            "colorscale": [
             [
              0,
              "#0d0887"
             ],
             [
              0.1111111111111111,
              "#46039f"
             ],
             [
              0.2222222222222222,
              "#7201a8"
             ],
             [
              0.3333333333333333,
              "#9c179e"
             ],
             [
              0.4444444444444444,
              "#bd3786"
             ],
             [
              0.5555555555555556,
              "#d8576b"
             ],
             [
              0.6666666666666666,
              "#ed7953"
             ],
             [
              0.7777777777777778,
              "#fb9f3a"
             ],
             [
              0.8888888888888888,
              "#fdca26"
             ],
             [
              1,
              "#f0f921"
             ]
            ],
            "type": "contour"
           }
          ],
          "contourcarpet": [
           {
            "colorbar": {
             "outlinewidth": 0,
             "ticks": ""
            },
            "type": "contourcarpet"
           }
          ],
          "heatmap": [
           {
            "colorbar": {
             "outlinewidth": 0,
             "ticks": ""
            },
            "colorscale": [
             [
              0,
              "#0d0887"
             ],
             [
              0.1111111111111111,
              "#46039f"
             ],
             [
              0.2222222222222222,
              "#7201a8"
             ],
             [
              0.3333333333333333,
              "#9c179e"
             ],
             [
              0.4444444444444444,
              "#bd3786"
             ],
             [
              0.5555555555555556,
              "#d8576b"
             ],
             [
              0.6666666666666666,
              "#ed7953"
             ],
             [
              0.7777777777777778,
              "#fb9f3a"
             ],
             [
              0.8888888888888888,
              "#fdca26"
             ],
             [
              1,
              "#f0f921"
             ]
            ],
            "type": "heatmap"
           }
          ],
          "heatmapgl": [
           {
            "colorbar": {
             "outlinewidth": 0,
             "ticks": ""
            },
            "colorscale": [
             [
              0,
              "#0d0887"
             ],
             [
              0.1111111111111111,
              "#46039f"
             ],
             [
              0.2222222222222222,
              "#7201a8"
             ],
             [
              0.3333333333333333,
              "#9c179e"
             ],
             [
              0.4444444444444444,
              "#bd3786"
             ],
             [
              0.5555555555555556,
              "#d8576b"
             ],
             [
              0.6666666666666666,
              "#ed7953"
             ],
             [
              0.7777777777777778,
              "#fb9f3a"
             ],
             [
              0.8888888888888888,
              "#fdca26"
             ],
             [
              1,
              "#f0f921"
             ]
            ],
            "type": "heatmapgl"
           }
          ],
          "histogram": [
           {
            "marker": {
             "pattern": {
              "fillmode": "overlay",
              "size": 10,
              "solidity": 0.2
             }
            },
            "type": "histogram"
           }
          ],
          "histogram2d": [
           {
            "colorbar": {
             "outlinewidth": 0,
             "ticks": ""
            },
            "colorscale": [
             [
              0,
              "#0d0887"
             ],
             [
              0.1111111111111111,
              "#46039f"
             ],
             [
              0.2222222222222222,
              "#7201a8"
             ],
             [
              0.3333333333333333,
              "#9c179e"
             ],
             [
              0.4444444444444444,
              "#bd3786"
             ],
             [
              0.5555555555555556,
              "#d8576b"
             ],
             [
              0.6666666666666666,
              "#ed7953"
             ],
             [
              0.7777777777777778,
              "#fb9f3a"
             ],
             [
              0.8888888888888888,
              "#fdca26"
             ],
             [
              1,
              "#f0f921"
             ]
            ],
            "type": "histogram2d"
           }
          ],
          "histogram2dcontour": [
           {
            "colorbar": {
             "outlinewidth": 0,
             "ticks": ""
            },
            "colorscale": [
             [
              0,
              "#0d0887"
             ],
             [
              0.1111111111111111,
              "#46039f"
             ],
             [
              0.2222222222222222,
              "#7201a8"
             ],
             [
              0.3333333333333333,
              "#9c179e"
             ],
             [
              0.4444444444444444,
              "#bd3786"
             ],
             [
              0.5555555555555556,
              "#d8576b"
             ],
             [
              0.6666666666666666,
              "#ed7953"
             ],
             [
              0.7777777777777778,
              "#fb9f3a"
             ],
             [
              0.8888888888888888,
              "#fdca26"
             ],
             [
              1,
              "#f0f921"
             ]
            ],
            "type": "histogram2dcontour"
           }
          ],
          "mesh3d": [
           {
            "colorbar": {
             "outlinewidth": 0,
             "ticks": ""
            },
            "type": "mesh3d"
           }
          ],
          "parcoords": [
           {
            "line": {
             "colorbar": {
              "outlinewidth": 0,
              "ticks": ""
             }
            },
            "type": "parcoords"
           }
          ],
          "pie": [
           {
            "automargin": true,
            "type": "pie"
           }
          ],
          "scatter": [
           {
            "fillpattern": {
             "fillmode": "overlay",
             "size": 10,
             "solidity": 0.2
            },
            "type": "scatter"
           }
          ],
          "scatter3d": [
           {
            "line": {
             "colorbar": {
              "outlinewidth": 0,
              "ticks": ""
             }
            },
            "marker": {
             "colorbar": {
              "outlinewidth": 0,
              "ticks": ""
             }
            },
            "type": "scatter3d"
           }
          ],
          "scattercarpet": [
           {
            "marker": {
             "colorbar": {
              "outlinewidth": 0,
              "ticks": ""
             }
            },
            "type": "scattercarpet"
           }
          ],
          "scattergeo": [
           {
            "marker": {
             "colorbar": {
              "outlinewidth": 0,
              "ticks": ""
             }
            },
            "type": "scattergeo"
           }
          ],
          "scattergl": [
           {
            "marker": {
             "colorbar": {
              "outlinewidth": 0,
              "ticks": ""
             }
            },
            "type": "scattergl"
           }
          ],
          "scattermapbox": [
           {
            "marker": {
             "colorbar": {
              "outlinewidth": 0,
              "ticks": ""
             }
            },
            "type": "scattermapbox"
           }
          ],
          "scatterpolar": [
           {
            "marker": {
             "colorbar": {
              "outlinewidth": 0,
              "ticks": ""
             }
            },
            "type": "scatterpolar"
           }
          ],
          "scatterpolargl": [
           {
            "marker": {
             "colorbar": {
              "outlinewidth": 0,
              "ticks": ""
             }
            },
            "type": "scatterpolargl"
           }
          ],
          "scatterternary": [
           {
            "marker": {
             "colorbar": {
              "outlinewidth": 0,
              "ticks": ""
             }
            },
            "type": "scatterternary"
           }
          ],
          "surface": [
           {
            "colorbar": {
             "outlinewidth": 0,
             "ticks": ""
            },
            "colorscale": [
             [
              0,
              "#0d0887"
             ],
             [
              0.1111111111111111,
              "#46039f"
             ],
             [
              0.2222222222222222,
              "#7201a8"
             ],
             [
              0.3333333333333333,
              "#9c179e"
             ],
             [
              0.4444444444444444,
              "#bd3786"
             ],
             [
              0.5555555555555556,
              "#d8576b"
             ],
             [
              0.6666666666666666,
              "#ed7953"
             ],
             [
              0.7777777777777778,
              "#fb9f3a"
             ],
             [
              0.8888888888888888,
              "#fdca26"
             ],
             [
              1,
              "#f0f921"
             ]
            ],
            "type": "surface"
           }
          ],
          "table": [
           {
            "cells": {
             "fill": {
              "color": "#EBF0F8"
             },
             "line": {
              "color": "white"
             }
            },
            "header": {
             "fill": {
              "color": "#C8D4E3"
             },
             "line": {
              "color": "white"
             }
            },
            "type": "table"
           }
          ]
         },
         "layout": {
          "annotationdefaults": {
           "arrowcolor": "#2a3f5f",
           "arrowhead": 0,
           "arrowwidth": 1
          },
          "autotypenumbers": "strict",
          "coloraxis": {
           "colorbar": {
            "outlinewidth": 0,
            "ticks": ""
           }
          },
          "colorscale": {
           "diverging": [
            [
             0,
             "#8e0152"
            ],
            [
             0.1,
             "#c51b7d"
            ],
            [
             0.2,
             "#de77ae"
            ],
            [
             0.3,
             "#f1b6da"
            ],
            [
             0.4,
             "#fde0ef"
            ],
            [
             0.5,
             "#f7f7f7"
            ],
            [
             0.6,
             "#e6f5d0"
            ],
            [
             0.7,
             "#b8e186"
            ],
            [
             0.8,
             "#7fbc41"
            ],
            [
             0.9,
             "#4d9221"
            ],
            [
             1,
             "#276419"
            ]
           ],
           "sequential": [
            [
             0,
             "#0d0887"
            ],
            [
             0.1111111111111111,
             "#46039f"
            ],
            [
             0.2222222222222222,
             "#7201a8"
            ],
            [
             0.3333333333333333,
             "#9c179e"
            ],
            [
             0.4444444444444444,
             "#bd3786"
            ],
            [
             0.5555555555555556,
             "#d8576b"
            ],
            [
             0.6666666666666666,
             "#ed7953"
            ],
            [
             0.7777777777777778,
             "#fb9f3a"
            ],
            [
             0.8888888888888888,
             "#fdca26"
            ],
            [
             1,
             "#f0f921"
            ]
           ],
           "sequentialminus": [
            [
             0,
             "#0d0887"
            ],
            [
             0.1111111111111111,
             "#46039f"
            ],
            [
             0.2222222222222222,
             "#7201a8"
            ],
            [
             0.3333333333333333,
             "#9c179e"
            ],
            [
             0.4444444444444444,
             "#bd3786"
            ],
            [
             0.5555555555555556,
             "#d8576b"
            ],
            [
             0.6666666666666666,
             "#ed7953"
            ],
            [
             0.7777777777777778,
             "#fb9f3a"
            ],
            [
             0.8888888888888888,
             "#fdca26"
            ],
            [
             1,
             "#f0f921"
            ]
           ]
          },
          "colorway": [
           "#636efa",
           "#EF553B",
           "#00cc96",
           "#ab63fa",
           "#FFA15A",
           "#19d3f3",
           "#FF6692",
           "#B6E880",
           "#FF97FF",
           "#FECB52"
          ],
          "font": {
           "color": "#2a3f5f"
          },
          "geo": {
           "bgcolor": "white",
           "lakecolor": "white",
           "landcolor": "#E5ECF6",
           "showlakes": true,
           "showland": true,
           "subunitcolor": "white"
          },
          "hoverlabel": {
           "align": "left"
          },
          "hovermode": "closest",
          "mapbox": {
           "style": "light"
          },
          "paper_bgcolor": "white",
          "plot_bgcolor": "#E5ECF6",
          "polar": {
           "angularaxis": {
            "gridcolor": "white",
            "linecolor": "white",
            "ticks": ""
           },
           "bgcolor": "#E5ECF6",
           "radialaxis": {
            "gridcolor": "white",
            "linecolor": "white",
            "ticks": ""
           }
          },
          "scene": {
           "xaxis": {
            "backgroundcolor": "#E5ECF6",
            "gridcolor": "white",
            "gridwidth": 2,
            "linecolor": "white",
            "showbackground": true,
            "ticks": "",
            "zerolinecolor": "white"
           },
           "yaxis": {
            "backgroundcolor": "#E5ECF6",
            "gridcolor": "white",
            "gridwidth": 2,
            "linecolor": "white",
            "showbackground": true,
            "ticks": "",
            "zerolinecolor": "white"
           },
           "zaxis": {
            "backgroundcolor": "#E5ECF6",
            "gridcolor": "white",
            "gridwidth": 2,
            "linecolor": "white",
            "showbackground": true,
            "ticks": "",
            "zerolinecolor": "white"
           }
          },
          "shapedefaults": {
           "line": {
            "color": "#2a3f5f"
           }
          },
          "ternary": {
           "aaxis": {
            "gridcolor": "white",
            "linecolor": "white",
            "ticks": ""
           },
           "baxis": {
            "gridcolor": "white",
            "linecolor": "white",
            "ticks": ""
           },
           "bgcolor": "#E5ECF6",
           "caxis": {
            "gridcolor": "white",
            "linecolor": "white",
            "ticks": ""
           }
          },
          "title": {
           "x": 0.05
          },
          "xaxis": {
           "automargin": true,
           "gridcolor": "white",
           "linecolor": "white",
           "ticks": "",
           "title": {
            "standoff": 15
           },
           "zerolinecolor": "white",
           "zerolinewidth": 2
          },
          "yaxis": {
           "automargin": true,
           "gridcolor": "white",
           "linecolor": "white",
           "ticks": "",
           "title": {
            "standoff": 15
           },
           "zerolinecolor": "white",
           "zerolinewidth": 2
          }
         }
        },
        "title": {
         "text": "Purpose Distribution - Total Counts"
        },
        "width": 600,
        "xaxis": {
         "anchor": "y",
         "domain": [
          0,
          1
         ],
         "title": {
          "text": "Purpose"
         }
        },
        "yaxis": {
         "anchor": "x",
         "domain": [
          0,
          1
         ],
         "title": {
          "text": "Total Count"
         }
        }
       }
      }
     },
     "metadata": {},
     "output_type": "display_data"
    },
    {
     "data": {
      "application/vnd.plotly.v1+json": {
       "config": {
        "plotlyServerURL": "https://plot.ly"
       },
       "data": [
        {
         "alignmentgroup": "True",
         "hovertemplate": "Purpose=%{x}<br>Percentage (%)=%{y}<extra></extra>",
         "legendgroup": "",
         "marker": {
          "color": "#636efa",
          "pattern": {
           "shape": ""
          }
         },
         "name": "",
         "offsetgroup": "",
         "orientation": "v",
         "showlegend": false,
         "textposition": "auto",
         "type": "bar",
         "x": [
          "HOME",
          "LEISURE",
          "WORK",
          "SHOP",
          "OTHER",
          "EDUCATION"
         ],
         "xaxis": "x",
         "y": [
          38.070860837936145,
          20.207463289775024,
          15.8561228613768,
          13.283039202478783,
          7.4094032062508415,
          5.1731106021824065
         ],
         "yaxis": "y"
        }
       ],
       "layout": {
        "barmode": "relative",
        "height": 600,
        "legend": {
         "tracegroupgap": 0
        },
        "template": {
         "data": {
          "bar": [
           {
            "error_x": {
             "color": "#2a3f5f"
            },
            "error_y": {
             "color": "#2a3f5f"
            },
            "marker": {
             "line": {
              "color": "#E5ECF6",
              "width": 0.5
             },
             "pattern": {
              "fillmode": "overlay",
              "size": 10,
              "solidity": 0.2
             }
            },
            "type": "bar"
           }
          ],
          "barpolar": [
           {
            "marker": {
             "line": {
              "color": "#E5ECF6",
              "width": 0.5
             },
             "pattern": {
              "fillmode": "overlay",
              "size": 10,
              "solidity": 0.2
             }
            },
            "type": "barpolar"
           }
          ],
          "carpet": [
           {
            "aaxis": {
             "endlinecolor": "#2a3f5f",
             "gridcolor": "white",
             "linecolor": "white",
             "minorgridcolor": "white",
             "startlinecolor": "#2a3f5f"
            },
            "baxis": {
             "endlinecolor": "#2a3f5f",
             "gridcolor": "white",
             "linecolor": "white",
             "minorgridcolor": "white",
             "startlinecolor": "#2a3f5f"
            },
            "type": "carpet"
           }
          ],
          "choropleth": [
           {
            "colorbar": {
             "outlinewidth": 0,
             "ticks": ""
            },
            "type": "choropleth"
           }
          ],
          "contour": [
           {
            "colorbar": {
             "outlinewidth": 0,
             "ticks": ""
            },
            "colorscale": [
             [
              0,
              "#0d0887"
             ],
             [
              0.1111111111111111,
              "#46039f"
             ],
             [
              0.2222222222222222,
              "#7201a8"
             ],
             [
              0.3333333333333333,
              "#9c179e"
             ],
             [
              0.4444444444444444,
              "#bd3786"
             ],
             [
              0.5555555555555556,
              "#d8576b"
             ],
             [
              0.6666666666666666,
              "#ed7953"
             ],
             [
              0.7777777777777778,
              "#fb9f3a"
             ],
             [
              0.8888888888888888,
              "#fdca26"
             ],
             [
              1,
              "#f0f921"
             ]
            ],
            "type": "contour"
           }
          ],
          "contourcarpet": [
           {
            "colorbar": {
             "outlinewidth": 0,
             "ticks": ""
            },
            "type": "contourcarpet"
           }
          ],
          "heatmap": [
           {
            "colorbar": {
             "outlinewidth": 0,
             "ticks": ""
            },
            "colorscale": [
             [
              0,
              "#0d0887"
             ],
             [
              0.1111111111111111,
              "#46039f"
             ],
             [
              0.2222222222222222,
              "#7201a8"
             ],
             [
              0.3333333333333333,
              "#9c179e"
             ],
             [
              0.4444444444444444,
              "#bd3786"
             ],
             [
              0.5555555555555556,
              "#d8576b"
             ],
             [
              0.6666666666666666,
              "#ed7953"
             ],
             [
              0.7777777777777778,
              "#fb9f3a"
             ],
             [
              0.8888888888888888,
              "#fdca26"
             ],
             [
              1,
              "#f0f921"
             ]
            ],
            "type": "heatmap"
           }
          ],
          "heatmapgl": [
           {
            "colorbar": {
             "outlinewidth": 0,
             "ticks": ""
            },
            "colorscale": [
             [
              0,
              "#0d0887"
             ],
             [
              0.1111111111111111,
              "#46039f"
             ],
             [
              0.2222222222222222,
              "#7201a8"
             ],
             [
              0.3333333333333333,
              "#9c179e"
             ],
             [
              0.4444444444444444,
              "#bd3786"
             ],
             [
              0.5555555555555556,
              "#d8576b"
             ],
             [
              0.6666666666666666,
              "#ed7953"
             ],
             [
              0.7777777777777778,
              "#fb9f3a"
             ],
             [
              0.8888888888888888,
              "#fdca26"
             ],
             [
              1,
              "#f0f921"
             ]
            ],
            "type": "heatmapgl"
           }
          ],
          "histogram": [
           {
            "marker": {
             "pattern": {
              "fillmode": "overlay",
              "size": 10,
              "solidity": 0.2
             }
            },
            "type": "histogram"
           }
          ],
          "histogram2d": [
           {
            "colorbar": {
             "outlinewidth": 0,
             "ticks": ""
            },
            "colorscale": [
             [
              0,
              "#0d0887"
             ],
             [
              0.1111111111111111,
              "#46039f"
             ],
             [
              0.2222222222222222,
              "#7201a8"
             ],
             [
              0.3333333333333333,
              "#9c179e"
             ],
             [
              0.4444444444444444,
              "#bd3786"
             ],
             [
              0.5555555555555556,
              "#d8576b"
             ],
             [
              0.6666666666666666,
              "#ed7953"
             ],
             [
              0.7777777777777778,
              "#fb9f3a"
             ],
             [
              0.8888888888888888,
              "#fdca26"
             ],
             [
              1,
              "#f0f921"
             ]
            ],
            "type": "histogram2d"
           }
          ],
          "histogram2dcontour": [
           {
            "colorbar": {
             "outlinewidth": 0,
             "ticks": ""
            },
            "colorscale": [
             [
              0,
              "#0d0887"
             ],
             [
              0.1111111111111111,
              "#46039f"
             ],
             [
              0.2222222222222222,
              "#7201a8"
             ],
             [
              0.3333333333333333,
              "#9c179e"
             ],
             [
              0.4444444444444444,
              "#bd3786"
             ],
             [
              0.5555555555555556,
              "#d8576b"
             ],
             [
              0.6666666666666666,
              "#ed7953"
             ],
             [
              0.7777777777777778,
              "#fb9f3a"
             ],
             [
              0.8888888888888888,
              "#fdca26"
             ],
             [
              1,
              "#f0f921"
             ]
            ],
            "type": "histogram2dcontour"
           }
          ],
          "mesh3d": [
           {
            "colorbar": {
             "outlinewidth": 0,
             "ticks": ""
            },
            "type": "mesh3d"
           }
          ],
          "parcoords": [
           {
            "line": {
             "colorbar": {
              "outlinewidth": 0,
              "ticks": ""
             }
            },
            "type": "parcoords"
           }
          ],
          "pie": [
           {
            "automargin": true,
            "type": "pie"
           }
          ],
          "scatter": [
           {
            "fillpattern": {
             "fillmode": "overlay",
             "size": 10,
             "solidity": 0.2
            },
            "type": "scatter"
           }
          ],
          "scatter3d": [
           {
            "line": {
             "colorbar": {
              "outlinewidth": 0,
              "ticks": ""
             }
            },
            "marker": {
             "colorbar": {
              "outlinewidth": 0,
              "ticks": ""
             }
            },
            "type": "scatter3d"
           }
          ],
          "scattercarpet": [
           {
            "marker": {
             "colorbar": {
              "outlinewidth": 0,
              "ticks": ""
             }
            },
            "type": "scattercarpet"
           }
          ],
          "scattergeo": [
           {
            "marker": {
             "colorbar": {
              "outlinewidth": 0,
              "ticks": ""
             }
            },
            "type": "scattergeo"
           }
          ],
          "scattergl": [
           {
            "marker": {
             "colorbar": {
              "outlinewidth": 0,
              "ticks": ""
             }
            },
            "type": "scattergl"
           }
          ],
          "scattermapbox": [
           {
            "marker": {
             "colorbar": {
              "outlinewidth": 0,
              "ticks": ""
             }
            },
            "type": "scattermapbox"
           }
          ],
          "scatterpolar": [
           {
            "marker": {
             "colorbar": {
              "outlinewidth": 0,
              "ticks": ""
             }
            },
            "type": "scatterpolar"
           }
          ],
          "scatterpolargl": [
           {
            "marker": {
             "colorbar": {
              "outlinewidth": 0,
              "ticks": ""
             }
            },
            "type": "scatterpolargl"
           }
          ],
          "scatterternary": [
           {
            "marker": {
             "colorbar": {
              "outlinewidth": 0,
              "ticks": ""
             }
            },
            "type": "scatterternary"
           }
          ],
          "surface": [
           {
            "colorbar": {
             "outlinewidth": 0,
             "ticks": ""
            },
            "colorscale": [
             [
              0,
              "#0d0887"
             ],
             [
              0.1111111111111111,
              "#46039f"
             ],
             [
              0.2222222222222222,
              "#7201a8"
             ],
             [
              0.3333333333333333,
              "#9c179e"
             ],
             [
              0.4444444444444444,
              "#bd3786"
             ],
             [
              0.5555555555555556,
              "#d8576b"
             ],
             [
              0.6666666666666666,
              "#ed7953"
             ],
             [
              0.7777777777777778,
              "#fb9f3a"
             ],
             [
              0.8888888888888888,
              "#fdca26"
             ],
             [
              1,
              "#f0f921"
             ]
            ],
            "type": "surface"
           }
          ],
          "table": [
           {
            "cells": {
             "fill": {
              "color": "#EBF0F8"
             },
             "line": {
              "color": "white"
             }
            },
            "header": {
             "fill": {
              "color": "#C8D4E3"
             },
             "line": {
              "color": "white"
             }
            },
            "type": "table"
           }
          ]
         },
         "layout": {
          "annotationdefaults": {
           "arrowcolor": "#2a3f5f",
           "arrowhead": 0,
           "arrowwidth": 1
          },
          "autotypenumbers": "strict",
          "coloraxis": {
           "colorbar": {
            "outlinewidth": 0,
            "ticks": ""
           }
          },
          "colorscale": {
           "diverging": [
            [
             0,
             "#8e0152"
            ],
            [
             0.1,
             "#c51b7d"
            ],
            [
             0.2,
             "#de77ae"
            ],
            [
             0.3,
             "#f1b6da"
            ],
            [
             0.4,
             "#fde0ef"
            ],
            [
             0.5,
             "#f7f7f7"
            ],
            [
             0.6,
             "#e6f5d0"
            ],
            [
             0.7,
             "#b8e186"
            ],
            [
             0.8,
             "#7fbc41"
            ],
            [
             0.9,
             "#4d9221"
            ],
            [
             1,
             "#276419"
            ]
           ],
           "sequential": [
            [
             0,
             "#0d0887"
            ],
            [
             0.1111111111111111,
             "#46039f"
            ],
            [
             0.2222222222222222,
             "#7201a8"
            ],
            [
             0.3333333333333333,
             "#9c179e"
            ],
            [
             0.4444444444444444,
             "#bd3786"
            ],
            [
             0.5555555555555556,
             "#d8576b"
            ],
            [
             0.6666666666666666,
             "#ed7953"
            ],
            [
             0.7777777777777778,
             "#fb9f3a"
            ],
            [
             0.8888888888888888,
             "#fdca26"
            ],
            [
             1,
             "#f0f921"
            ]
           ],
           "sequentialminus": [
            [
             0,
             "#0d0887"
            ],
            [
             0.1111111111111111,
             "#46039f"
            ],
            [
             0.2222222222222222,
             "#7201a8"
            ],
            [
             0.3333333333333333,
             "#9c179e"
            ],
            [
             0.4444444444444444,
             "#bd3786"
            ],
            [
             0.5555555555555556,
             "#d8576b"
            ],
            [
             0.6666666666666666,
             "#ed7953"
            ],
            [
             0.7777777777777778,
             "#fb9f3a"
            ],
            [
             0.8888888888888888,
             "#fdca26"
            ],
            [
             1,
             "#f0f921"
            ]
           ]
          },
          "colorway": [
           "#636efa",
           "#EF553B",
           "#00cc96",
           "#ab63fa",
           "#FFA15A",
           "#19d3f3",
           "#FF6692",
           "#B6E880",
           "#FF97FF",
           "#FECB52"
          ],
          "font": {
           "color": "#2a3f5f"
          },
          "geo": {
           "bgcolor": "white",
           "lakecolor": "white",
           "landcolor": "#E5ECF6",
           "showlakes": true,
           "showland": true,
           "subunitcolor": "white"
          },
          "hoverlabel": {
           "align": "left"
          },
          "hovermode": "closest",
          "mapbox": {
           "style": "light"
          },
          "paper_bgcolor": "white",
          "plot_bgcolor": "#E5ECF6",
          "polar": {
           "angularaxis": {
            "gridcolor": "white",
            "linecolor": "white",
            "ticks": ""
           },
           "bgcolor": "#E5ECF6",
           "radialaxis": {
            "gridcolor": "white",
            "linecolor": "white",
            "ticks": ""
           }
          },
          "scene": {
           "xaxis": {
            "backgroundcolor": "#E5ECF6",
            "gridcolor": "white",
            "gridwidth": 2,
            "linecolor": "white",
            "showbackground": true,
            "ticks": "",
            "zerolinecolor": "white"
           },
           "yaxis": {
            "backgroundcolor": "#E5ECF6",
            "gridcolor": "white",
            "gridwidth": 2,
            "linecolor": "white",
            "showbackground": true,
            "ticks": "",
            "zerolinecolor": "white"
           },
           "zaxis": {
            "backgroundcolor": "#E5ECF6",
            "gridcolor": "white",
            "gridwidth": 2,
            "linecolor": "white",
            "showbackground": true,
            "ticks": "",
            "zerolinecolor": "white"
           }
          },
          "shapedefaults": {
           "line": {
            "color": "#2a3f5f"
           }
          },
          "ternary": {
           "aaxis": {
            "gridcolor": "white",
            "linecolor": "white",
            "ticks": ""
           },
           "baxis": {
            "gridcolor": "white",
            "linecolor": "white",
            "ticks": ""
           },
           "bgcolor": "#E5ECF6",
           "caxis": {
            "gridcolor": "white",
            "linecolor": "white",
            "ticks": ""
           }
          },
          "title": {
           "x": 0.05
          },
          "xaxis": {
           "automargin": true,
           "gridcolor": "white",
           "linecolor": "white",
           "ticks": "",
           "title": {
            "standoff": 15
           },
           "zerolinecolor": "white",
           "zerolinewidth": 2
          },
          "yaxis": {
           "automargin": true,
           "gridcolor": "white",
           "linecolor": "white",
           "ticks": "",
           "title": {
            "standoff": 15
           },
           "zerolinecolor": "white",
           "zerolinewidth": 2
          }
         }
        },
        "title": {
         "text": "Purpose Distribution - Percentage"
        },
        "width": 600,
        "xaxis": {
         "anchor": "y",
         "domain": [
          0,
          1
         ],
         "title": {
          "text": "Purpose"
         }
        },
        "yaxis": {
         "anchor": "x",
         "domain": [
          0,
          1
         ],
         "title": {
          "text": "Percentage (%)"
         }
        }
       }
      }
     },
     "metadata": {},
     "output_type": "display_data"
    }
   ],
   "source": [
    "# Capitalize and remove underscores from purpose names\n",
    "df_mz_trips['purpose'] = df_mz_trips['purpose'].str.replace('_', ' ').str.upper()\n",
    "\n",
    "# Calculate total counts for each purpose\n",
    "purpose_counts = df_mz_trips['purpose'].value_counts().reset_index()\n",
    "purpose_counts.columns = ['Purpose', 'Count']\n",
    "\n",
    "# Plot total counts\n",
    "fig1 = px.bar(purpose_counts, x='Purpose', y='Count', title='Purpose Distribution - Total Counts',\n",
    "              labels={'Count': 'Total Count', 'Purpose': 'Purpose'})\n",
    "fig1.update_layout(width=600, height=600)\n",
    "fig1.show()\n",
    "\n",
    "# Calculate percentage distribution for each purpose\n",
    "purpose_counts['Percentage'] = (purpose_counts['Count'] / purpose_counts['Count'].sum()) * 100\n",
    "\n",
    "# Plot percentage distribution\n",
    "fig2 = px.bar(purpose_counts, x='Purpose', y='Percentage', title='Purpose Distribution - Percentage',\n",
    "              labels={'Percentage': 'Percentage (%)', 'Purpose': 'Purpose'})\n",
    "fig2.update_layout(width=600, height=600)\n",
    "fig2.show()"
   ]
  },
  {
   "cell_type": "code",
   "execution_count": 29,
   "metadata": {},
   "outputs": [
    {
     "name": "stdout",
     "output_type": "stream",
     "text": [
      "545\n"
     ]
    },
    {
     "data": {
      "text/html": [
       "<div>\n",
       "<style scoped>\n",
       "    .dataframe tbody tr th:only-of-type {\n",
       "        vertical-align: middle;\n",
       "    }\n",
       "\n",
       "    .dataframe tbody tr th {\n",
       "        vertical-align: top;\n",
       "    }\n",
       "\n",
       "    .dataframe thead th {\n",
       "        text-align: right;\n",
       "    }\n",
       "</style>\n",
       "<table border=\"1\" class=\"dataframe\">\n",
       "  <thead>\n",
       "    <tr style=\"text-align: right;\">\n",
       "      <th></th>\n",
       "      <th>person_id</th>\n",
       "      <th>activity_chain</th>\n",
       "    </tr>\n",
       "  </thead>\n",
       "  <tbody>\n",
       "    <tr>\n",
       "      <th>0</th>\n",
       "      <td>100116</td>\n",
       "      <td>h-o-s-o-h-h</td>\n",
       "    </tr>\n",
       "    <tr>\n",
       "      <th>1</th>\n",
       "      <td>100391</td>\n",
       "      <td>h-s-h-h</td>\n",
       "    </tr>\n",
       "    <tr>\n",
       "      <th>2</th>\n",
       "      <td>100593</td>\n",
       "      <td>h-l-l</td>\n",
       "    </tr>\n",
       "    <tr>\n",
       "      <th>3</th>\n",
       "      <td>101196</td>\n",
       "      <td>h-l</td>\n",
       "    </tr>\n",
       "    <tr>\n",
       "      <th>4</th>\n",
       "      <td>101326</td>\n",
       "      <td>h-w-o-o-h</td>\n",
       "    </tr>\n",
       "    <tr>\n",
       "      <th>...</th>\n",
       "      <td>...</td>\n",
       "      <td>...</td>\n",
       "    </tr>\n",
       "    <tr>\n",
       "      <th>2383</th>\n",
       "      <td>499290</td>\n",
       "      <td>h-l</td>\n",
       "    </tr>\n",
       "    <tr>\n",
       "      <th>2384</th>\n",
       "      <td>499399</td>\n",
       "      <td>h-l-h-l-h-l-h</td>\n",
       "    </tr>\n",
       "    <tr>\n",
       "      <th>2385</th>\n",
       "      <td>499853</td>\n",
       "      <td>h-l-l-h</td>\n",
       "    </tr>\n",
       "    <tr>\n",
       "      <th>2386</th>\n",
       "      <td>499917</td>\n",
       "      <td>h-w-h</td>\n",
       "    </tr>\n",
       "    <tr>\n",
       "      <th>2387</th>\n",
       "      <td>499996</td>\n",
       "      <td>h-l-h</td>\n",
       "    </tr>\n",
       "  </tbody>\n",
       "</table>\n",
       "<p>2388 rows × 2 columns</p>\n",
       "</div>"
      ],
      "text/plain": [
       "      person_id activity_chain\n",
       "0        100116    h-o-s-o-h-h\n",
       "1        100391        h-s-h-h\n",
       "2        100593          h-l-l\n",
       "3        101196            h-l\n",
       "4        101326      h-w-o-o-h\n",
       "...         ...            ...\n",
       "2383     499290            h-l\n",
       "2384     499399  h-l-h-l-h-l-h\n",
       "2385     499853        h-l-l-h\n",
       "2386     499917          h-w-h\n",
       "2387     499996          h-l-h\n",
       "\n",
       "[2388 rows x 2 columns]"
      ]
     },
     "execution_count": 29,
     "metadata": {},
     "output_type": "execute_result"
    }
   ],
   "source": [
    "print(df_activity_chains.activity_chain.nunique())\n",
    "df_activity_chains"
   ]
  },
  {
   "cell_type": "code",
   "execution_count": 30,
   "metadata": {},
   "outputs": [
    {
     "data": {
      "text/html": [
       "<div>\n",
       "<style scoped>\n",
       "    .dataframe tbody tr th:only-of-type {\n",
       "        vertical-align: middle;\n",
       "    }\n",
       "\n",
       "    .dataframe tbody tr th {\n",
       "        vertical-align: top;\n",
       "    }\n",
       "\n",
       "    .dataframe thead th {\n",
       "        text-align: right;\n",
       "    }\n",
       "</style>\n",
       "<table border=\"1\" class=\"dataframe\">\n",
       "  <thead>\n",
       "    <tr style=\"text-align: right;\">\n",
       "      <th></th>\n",
       "      <th>HHNR</th>\n",
       "      <th>WEGNR</th>\n",
       "      <th>purpose</th>\n",
       "    </tr>\n",
       "  </thead>\n",
       "  <tbody>\n",
       "    <tr>\n",
       "      <th>50</th>\n",
       "      <td>100116</td>\n",
       "      <td>1</td>\n",
       "      <td>OTHER</td>\n",
       "    </tr>\n",
       "    <tr>\n",
       "      <th>51</th>\n",
       "      <td>100116</td>\n",
       "      <td>2</td>\n",
       "      <td>SHOP</td>\n",
       "    </tr>\n",
       "    <tr>\n",
       "      <th>52</th>\n",
       "      <td>100116</td>\n",
       "      <td>3</td>\n",
       "      <td>OTHER</td>\n",
       "    </tr>\n",
       "    <tr>\n",
       "      <th>53</th>\n",
       "      <td>100116</td>\n",
       "      <td>4</td>\n",
       "      <td>HOME</td>\n",
       "    </tr>\n",
       "    <tr>\n",
       "      <th>56</th>\n",
       "      <td>100116</td>\n",
       "      <td>7</td>\n",
       "      <td>HOME</td>\n",
       "    </tr>\n",
       "    <tr>\n",
       "      <th>...</th>\n",
       "      <td>...</td>\n",
       "      <td>...</td>\n",
       "      <td>...</td>\n",
       "    </tr>\n",
       "    <tr>\n",
       "      <th>170516</th>\n",
       "      <td>499853</td>\n",
       "      <td>3</td>\n",
       "      <td>HOME</td>\n",
       "    </tr>\n",
       "    <tr>\n",
       "      <th>170519</th>\n",
       "      <td>499917</td>\n",
       "      <td>1</td>\n",
       "      <td>WORK</td>\n",
       "    </tr>\n",
       "    <tr>\n",
       "      <th>170520</th>\n",
       "      <td>499917</td>\n",
       "      <td>2</td>\n",
       "      <td>HOME</td>\n",
       "    </tr>\n",
       "    <tr>\n",
       "      <th>170538</th>\n",
       "      <td>499996</td>\n",
       "      <td>1</td>\n",
       "      <td>LEISURE</td>\n",
       "    </tr>\n",
       "    <tr>\n",
       "      <th>170539</th>\n",
       "      <td>499996</td>\n",
       "      <td>2</td>\n",
       "      <td>HOME</td>\n",
       "    </tr>\n",
       "  </tbody>\n",
       "</table>\n",
       "<p>7423 rows × 3 columns</p>\n",
       "</div>"
      ],
      "text/plain": [
       "          HHNR  WEGNR  purpose\n",
       "50      100116      1    OTHER\n",
       "51      100116      2     SHOP\n",
       "52      100116      3    OTHER\n",
       "53      100116      4     HOME\n",
       "56      100116      7     HOME\n",
       "...        ...    ...      ...\n",
       "170516  499853      3     HOME\n",
       "170519  499917      1     WORK\n",
       "170520  499917      2     HOME\n",
       "170538  499996      1  LEISURE\n",
       "170539  499996      2     HOME\n",
       "\n",
       "[7423 rows x 3 columns]"
      ]
     },
     "execution_count": 30,
     "metadata": {},
     "output_type": "execute_result"
    }
   ],
   "source": [
    "filtered_trips[['HHNR', 'WEGNR', 'purpose']]"
   ]
  },
  {
   "cell_type": "code",
   "execution_count": 31,
   "metadata": {},
   "outputs": [
    {
     "name": "stderr",
     "output_type": "stream",
     "text": [
      "/var/folders/98/gxtbd5491mqcr_24yrkq85zm0000gp/T/ipykernel_74753/151701503.py:1: UserWarning:\n",
      "\n",
      "Boolean Series key will be reindexed to match DataFrame index.\n",
      "\n"
     ]
    },
    {
     "data": {
      "text/html": [
       "<div>\n",
       "<style scoped>\n",
       "    .dataframe tbody tr th:only-of-type {\n",
       "        vertical-align: middle;\n",
       "    }\n",
       "\n",
       "    .dataframe tbody tr th {\n",
       "        vertical-align: top;\n",
       "    }\n",
       "\n",
       "    .dataframe thead th {\n",
       "        text-align: right;\n",
       "    }\n",
       "</style>\n",
       "<table border=\"1\" class=\"dataframe\">\n",
       "  <thead>\n",
       "    <tr style=\"text-align: right;\">\n",
       "      <th></th>\n",
       "      <th>HHNR</th>\n",
       "      <th>WEGNR</th>\n",
       "      <th>f51100</th>\n",
       "      <th>f51400</th>\n",
       "      <th>wzweck1</th>\n",
       "      <th>wzweck2</th>\n",
       "      <th>wmittel</th>\n",
       "      <th>S_X_CH1903</th>\n",
       "      <th>S_Y_CH1903</th>\n",
       "      <th>Z_X_CH1903</th>\n",
       "      <th>...</th>\n",
       "      <th>origin_y</th>\n",
       "      <th>home_x</th>\n",
       "      <th>home_y</th>\n",
       "      <th>crowfly_distance</th>\n",
       "      <th>previous_trip_id</th>\n",
       "      <th>activity_duration</th>\n",
       "      <th>parking_cost</th>\n",
       "      <th>network_distance</th>\n",
       "      <th>origin_point</th>\n",
       "      <th>destination_point</th>\n",
       "    </tr>\n",
       "  </thead>\n",
       "  <tbody>\n",
       "    <tr>\n",
       "      <th>520</th>\n",
       "      <td>101196</td>\n",
       "      <td>2</td>\n",
       "      <td>913</td>\n",
       "      <td>1004</td>\n",
       "      <td>8</td>\n",
       "      <td>1</td>\n",
       "      <td>5</td>\n",
       "      <td>682736</td>\n",
       "      <td>248230</td>\n",
       "      <td>681880</td>\n",
       "      <td>...</td>\n",
       "      <td>1.248230e+06</td>\n",
       "      <td>2.634763e+06</td>\n",
       "      <td>1.171194e+06</td>\n",
       "      <td>871.755547</td>\n",
       "      <td>1</td>\n",
       "      <td>19680.0</td>\n",
       "      <td>0.0</td>\n",
       "      <td>6130.0</td>\n",
       "      <td>POINT (2682736.899315401 1248229.838946302)</td>\n",
       "      <td>POINT (2681880.900319892 1248064.84363314)</td>\n",
       "    </tr>\n",
       "  </tbody>\n",
       "</table>\n",
       "<p>1 rows × 35 columns</p>\n",
       "</div>"
      ],
      "text/plain": [
       "       HHNR  WEGNR  f51100  f51400  wzweck1  wzweck2  wmittel  S_X_CH1903  \\\n",
       "520  101196      2     913    1004        8        1        5      682736   \n",
       "\n",
       "     S_Y_CH1903  Z_X_CH1903  ...      origin_y        home_x        home_y  \\\n",
       "520      248230      681880  ...  1.248230e+06  2.634763e+06  1.171194e+06   \n",
       "\n",
       "     crowfly_distance  previous_trip_id activity_duration parking_cost  \\\n",
       "520        871.755547                 1           19680.0          0.0   \n",
       "\n",
       "    network_distance                                 origin_point  \\\n",
       "520           6130.0  POINT (2682736.899315401 1248229.838946302)   \n",
       "\n",
       "                              destination_point  \n",
       "520  POINT (2681880.900319892 1248064.84363314)  \n",
       "\n",
       "[1 rows x 35 columns]"
      ]
     },
     "execution_count": 31,
     "metadata": {},
     "output_type": "execute_result"
    }
   ],
   "source": [
    "filtered_trips[trips.person_id == 101196]"
   ]
  },
  {
   "cell_type": "code",
   "execution_count": 32,
   "metadata": {},
   "outputs": [
    {
     "data": {
      "application/vnd.plotly.v1+json": {
       "config": {
        "plotlyServerURL": "https://plot.ly"
       },
       "data": [
        {
         "alignmentgroup": "True",
         "hovertemplate": "Activity Chain=%{x}<br>Total Count=%{y}<extra></extra>",
         "legendgroup": "",
         "marker": {
          "color": "#636efa",
          "pattern": {
           "shape": ""
          }
         },
         "name": "",
         "offsetgroup": "",
         "orientation": "v",
         "showlegend": false,
         "textposition": "auto",
         "type": "bar",
         "x": [
          "h-l-h",
          "h-w-h",
          "h-h",
          "h-s-h",
          "h-l",
          "h-l-w",
          "h-s",
          "h-o-h",
          "h-w",
          "h-s-w",
          "h-w-s-h",
          "h-e-h",
          "h-s-h-l-h",
          "h-e-h-e-h",
          "h-w-l-h",
          "h-l-s-h",
          "h-l-l-h",
          "h-w-h-l-h",
          "h-w-l-w-h",
          "h-o",
          "h-h-h",
          "h-l-h-l-h",
          "h-s-h-h",
          "h-o-s-h",
          "h-h-l-h",
          "h-w-s-w-h",
          "h-w-h-s-h",
          "h-w-h-w-h",
          "h-e-h-e-h-l-h",
          "h-l-l",
          "h-w-w",
          "h-e-h-l-h",
          "h-s-l-h",
          "h-l-h-s-h",
          "h-o-l-h",
          "h-s-h-o-h",
          "h-l-h-h",
          "h-w-h-h",
          "h-e-s-e-h",
          "h-l-w-l",
          "h-h-s-h",
          "h-e",
          "h-w-w-h",
          "h-w-h-o-h",
          "h-s-e",
          "h-s-h-w-h",
          "h-w-o-h",
          "h-l-s",
          "h-w-l-w-s-h",
          "h-s-o-h",
          "h-o-h-l-h",
          "h-l-o",
          "h-o-h-s-h",
          "h-o-w",
          "h-s-h-l-h-l-h",
          "h-l-l-l-h",
          "h-l-e",
          "h-w-s-h-l-h",
          "h-s-h-s-h",
          "h-w-l",
          "h-w-l-s-h",
          "h-o-w-h",
          "h-o-l",
          "h-l-o-h",
          "h-w-s-w-l-h",
          "h-l-s-h-h",
          "h-h-h-h",
          "h-o-h-o-h",
          "h-l-w-s",
          "h-e-l-e-l-h",
          "h-l-h-l-h-l-h",
          "h-w-l-w-h-l-h",
          "h-l-w-h",
          "h-o-s-l-h",
          "h-w-w-w-h",
          "h-w-l-l-h",
          "h-s-o",
          "h-e-s-h",
          "h-l-s-l-h",
          "h-o-s-h-l-h",
          "h-l-h-l-l-h",
          "h-w-h-s-h-l-h",
          "h-e-h-s-h",
          "h-o-l-o-h",
          "h-o-o-h",
          "h-o-h-h",
          "h-e-s-e-h-l-h",
          "h-w-o-w-h",
          "h-l-s-h-l-h",
          "h-e-h-e-h-s-h",
          "h-h-s-h-h",
          "h-e-h-e-h-h",
          "h-l-s-w",
          "h-w-l-w",
          "h-s-h-l-l-h",
          "h-s-w-h",
          "h-w-h-e-h",
          "h-l-l-l",
          "h-w-o",
          "h-e-l-h",
          "h-e-h-h",
          "h-s-l",
          "h-s-o-h-l-h",
          "h-h-o-h",
          "h-s-h-s-l-h",
          "h-w-e-h",
          "h-w-w-w-w-h",
          "h-l-l-s-s-h",
          "h-w-w-h-s-h",
          "h-w-s-l-h",
          "h-l-o-s-h",
          "h-s-h-o-l-h",
          "h-l-h-o-h",
          "h-s-w-w",
          "h-w-w-l-w",
          "h-o-l-l-h",
          "h-o-l-s-h",
          "h-l-l-l-l-h-l-h",
          "h-w-o-l-h",
          "h-w-h-w-s-h",
          "h-o-o-h-l-h",
          "h-l-h-h-h",
          "h-w-h-o-l-h",
          "h-s-h-o-h-h",
          "h-o-s-h-o-h",
          "h-s-h-o-s-h",
          "h-w-s",
          "h-h-o-h-h",
          "h-e-h-e-h-e-h",
          "h-o-s-w-l",
          "h-w-s-w",
          "h-l-h-s",
          "h-s-s-l-h",
          "h-o-w-o-s-h",
          "h-l-h-e-h",
          "h-e-l-e-h",
          "h-o-s-s-h",
          "h-h-h-l-o-h",
          "h-o-s-h-w-h",
          "h-e-h-l-h-l-h",
          "h-l-w-l-l",
          "h-s-w-l",
          "h-e-h-o-h",
          "h-s-h-o-h-s-h",
          "h-w-s-w-l-l-h",
          "h-s-s-h",
          "h-h-w-h",
          "h-s-h-l-s-h",
          "h-l-h-h-l-h",
          "h-w-s-s-h",
          "h-w-h-s-h-h",
          "h-s-h-o-l-o-h",
          "h-h-l-h-h",
          "h-w-h-w-h-h",
          "h-h-o-s-h",
          "h-w-l-h-l-h",
          "h-s-h-h-l-h",
          "h-l-w-s-w",
          "h-w-s-w-l",
          "h-e-h-e-h-o-h",
          "h-l-s-h-o-h",
          "h-l-w-s-h-l-h",
          "h-l-s-h-l-w-l-l-h",
          "h-w-w-o-w-l-w-l",
          "h-e-l-w-e-l-h",
          "h-w-s-w-h-o-s-h",
          "h-w-w-l-w-h",
          "h-w-s-w-s-h-l-h",
          "h-w-l-l-l-h",
          "h-h-o-h-l-h",
          "h-o-e-s-h-o-h",
          "h-e-l-h-s-h",
          "h-w-e",
          "h-s-h-s-h-l-h",
          "h-o-h-w-h",
          "h-w-w-h-h-s-l-l-h",
          "h-h-o-h-o-h",
          "h-s-w-s-w",
          "h-w-o-s-h",
          "h-h-s-h-o-l-h",
          "h-l-o-l-h",
          "h-o-h-l-l-h",
          "h-o-w-w-w-w-w-w-h-o-h",
          "h-e-o-l-h",
          "h-o-s-o-h-h",
          "h-e-e-h-e-h-l-h",
          "h-w-w-w-w-l-w-w",
          "h-w-w-w-w-w-h-s-h",
          "h-s-h-l-l-l-l-l-h",
          "h-o-s-h-l-h-l-h",
          "h-w-l-w-l-h-l-h",
          "h-w-l-w-h-s-h",
          "h-s-s-l",
          "h-l-w-w-w-s",
          "h-w-w-w-o-s-h-w-l-h",
          "h-l-l-s-l-s-h",
          "h-l-e-e",
          "h-w-h-l-h-o-h",
          "h-e-o-h-l-h",
          "h-l-s-h-s-h",
          "h-w-l-o-w-h",
          "h-w-l-w-s-w-h",
          "h-l-l-l-s",
          "h-s-o-h-o-l-h",
          "h-l-h-s-l-l-h-h",
          "h-w-l-w-l-h",
          "h-l-h-l-h-o-s-l-h",
          "h-s-e-l-s-l",
          "h-s-h-h-s-h",
          "h-e-l-s-h",
          "h-o-w-h-w-o-h",
          "h-w-s-h-o-s-o-h",
          "h-s-h-l-h-s-h-l-h",
          "h-h-s-h-l-h-l-h-h",
          "h-o-l-s-l-h",
          "h-w-s-w-h-l-h",
          "h-e-s-e-h-s-h",
          "h-l-h-o-l-s-l-h",
          "h-e-h-e-h-o-s-h",
          "h-s-w-s-w-h-l-h",
          "h-s-h-s-h-h-l-h",
          "h-s-h-o-l-s-h",
          "h-o-w-l-w-o-h",
          "h-l-l-l-l-h",
          "h-w-h-o-s-h",
          "h-e-o-s",
          "h-o-h-s-l-h",
          "h-e-h-o-h-l-h",
          "h-w-s-w-h-h",
          "h-w-s-w-h-s-h",
          "h-s-l-s-w-h",
          "h-w-o-s-h-l-l-l-h",
          "h-w-s-l-w-o-l-h",
          "h-e-s-e-h-l-l-l-h",
          "h-l-w-e",
          "h-w-o-l-h-s-l-h",
          "h-o-s-h-o-h-o-h-h",
          "h-l-l-s-o-h",
          "h-w-h-s-w-h",
          "h-l-w-o-s-h",
          "h-s-h-e-l-h",
          "h-o-o-o-h",
          "h-o-o-w-h-w-o-h",
          "h-e-h-e-e-h-l-h",
          "h-l-w-w",
          "h-w-s-w-o-h",
          "h-s-l-l-l-h-l-h",
          "h-h-o-h-h-l-h",
          "h-l-h-w-s-w-o-h-o-h-o-h-s-h-l-h",
          "h-l-s-o-h-l-h",
          "h-w-w-w-h-w-s-w-h",
          "h-o-w-s-l-h",
          "h-o-w-o-w-h",
          "h-l-w-w-l-h",
          "h-l-h-h-h-h",
          "h-w-h-s-s-h",
          "h-s-l-s-h-h",
          "h-s-s",
          "h-s-h-h-l-h-l-o-h",
          "h-w-w-w-h-l-l-h",
          "h-l-o-l-o-l-l-l-h",
          "h-w-l-s-w-h",
          "h-w-h-o-h-w-h",
          "h-l-h-w-h",
          "h-s-l-h-o-s-o-l-h",
          "h-w-l-w-o-h",
          "h-w-o-h-s-h-w-h",
          "h-e-h-l-h-s-h",
          "h-w-w-w-h-w-l-s-h",
          "h-l-w-l-s-l-l",
          "h-e-e-e-l-h",
          "h-e-s-h-l-l-h",
          "h-l-l-l-l",
          "h-w-l-h-h",
          "h-o-l-h-h",
          "h-o-s-w",
          "h-o-h-s-h-e-l-h",
          "h-o-s-h-o-h-o-h",
          "h-s-h-w-h-h-o-s-s-w-h",
          "h-o-w-l-w-l-h",
          "h-o-s-h-o-h-l-l-h",
          "h-w-o-h-o-h",
          "h-e-s-l-e-h-l-h",
          "h-o-h-w-h-o-l-h",
          "h-o-h-o-s-h-l-h",
          "h-w-h-w-h-l-h",
          "h-l-w-l-h",
          "h-w-s-w-o-h-l-h",
          "h-s-h-s-w-h",
          "h-s-w-s-h-l-h",
          "h-l-s-l",
          "h-o-e",
          "h-l-l-l-h-l-l-h",
          "h-e-l-e-o-h",
          "h-w-w-h-w-h",
          "h-l-h-o-s-h",
          "h-h-s-h-l-h",
          "h-e-e-s-e-h",
          "h-e-e-h-s-h-l-h",
          "h-o-o-s-h-l-h",
          "h-e-h-l-o-h",
          "h-e-s-e",
          "h-e-h-h-h-l-h",
          "h-e-l-l-l-h",
          "h-h-o-s-h-o-h-h-s-l-h",
          "h-w-s-w-h-s-l-h",
          "h-w-s-h-o-h-e-h",
          "h-e-l-e-l-l-h",
          "h-h-h-h-h",
          "h-w-w-w-w-w-w",
          "h-w-l-w-w-w-h-l-h-l-h",
          "h-e-s-l-e-h",
          "h-o-s-h-s-o-s-h",
          "h-h-s-h-h-l-h-h-l-h",
          "h-e-s-e-h-h-l-l-h",
          "h-w-h-o-w-h-o-l-h",
          "h-o-h-l-s-h-o-h-l-h",
          "h-o-e-h-l-h",
          "h-o-o-l",
          "h-o-s-h-s-o-h",
          "h-o-w-l",
          "h-h-l-l-h",
          "h-w-h-s-l-o-h",
          "h-o-w-h-o-s-o-h",
          "h-l-w-h-l-h-h-s-h",
          "h-e-s-h-l-s-h",
          "h-w-s-w-l-s-h",
          "h-s-l-l-h-h-h",
          "h-w-w-l-w-w",
          "h-w-h-s-h-o-h",
          "h-o-l-l-o-h",
          "h-s-s-h-s-h",
          "h-w-s-h-o-h",
          "h-w-w-w-w",
          "h-o-h-o-s-h-o-h",
          "h-o-s-w-l-l-w-o-h",
          "h-l-l-l-o-o-h",
          "h-o-s",
          "h-o-w-l-w-w-h",
          "h-w-w-w-e-h",
          "h-e-o-h",
          "h-s-l-h-l-h",
          "h-o-s-s-s-h",
          "h-l-o-l-o-h-l-h",
          "h-h-o-l-o-h",
          "h-s-w-s-w-s-h",
          "h-w-w-w",
          "h-w-w-w-w-w-h-h-h",
          "h-w-h-w-s-h-w-h",
          "h-w-e-w-h",
          "h-w-l-w-e-h",
          "h-e-l-e-h-s-h",
          "h-w-l-h-s-h-l-h",
          "h-s-h-o-h-l-h",
          "h-o-w-l-w-h-o-h",
          "h-s-l-h-e-h",
          "h-e-h-s-h-l-h-l-h",
          "h-o-h-l-h-l-l-s-h",
          "h-s-h-l-s-s-h",
          "h-w-w-l-w-w-h-h",
          "h-o-o",
          "h-l-h-o-h-w-h",
          "h-e-h-h-h",
          "h-o-l-o-h-s-h",
          "h-h-w-h-h-w-o-l-h",
          "h-e-l",
          "h-e-e-e-e-h-l-h-s-h-l-h",
          "h-o-s-e-s",
          "h-e-l-h-l-h",
          "h-e-h-e-h-l-o-h",
          "h-s-h-h-h",
          "h-o-e-h-e-h-l-h",
          "h-w-l-s-w",
          "h-l-l-h-s-h-l-h",
          "h-o-o-s-h-w-h",
          "h-e-h-e-s-h-l-h",
          "h-o-s-h-h-h",
          "h-o-l-s-h-o-h-o-h",
          "h-o-w-o-w",
          "h-l-l-s-h",
          "h-l-h-s-h-l-h",
          "h-e-h-e-h-l-l-h",
          "h-o-w-w-s-w-h-l-l-l-h",
          "h-o-w-s-h",
          "h-l-l-o-h",
          "h-l-o-h-s-h",
          "h-w-l-w-w-s-h-h",
          "h-l-e-h",
          "h-o-l-l",
          "h-e-e",
          "h-l-w-l-w-h-s-h",
          "h-h-o-s-h-l-h",
          "h-e-h-e-h-e-l-h",
          "h-s-w-s-h",
          "h-l-s-o",
          "h-w-l-h-s-h",
          "h-l-s-w-h",
          "h-e-h-o",
          "h-o-o-e-o-h-l-h",
          "h-s-l-l",
          "h-e-h-o-e-h-l-h",
          "h-w-l-w-o-l-h",
          "h-o-h-o-h-l-h",
          "h-o-h-o-o-h-o-h",
          "h-w-w-s-w",
          "h-w-e-s-s-h",
          "h-h-l-l-h-h",
          "h-e-h-s-l-h",
          "h-w-h-w-h-l-l-h",
          "h-s-h-l-h-o-h-l-h",
          "h-w-s-w-l-h-l-h",
          "h-e-h-e-o-e-h",
          "h-w-w-s-w-h",
          "h-e-l-l-w-h-l-l-h",
          "h-h-h-l-l-h",
          "h-w-s-w-h-o-h",
          "h-o-w-l-h",
          "h-w-l-w-w-e-l-h",
          "h-w-o-o-h",
          "h-w-w-w-l-w-h-s-h",
          "h-s-l-w-l",
          "h-w-l-s-h-w-h",
          "h-w-h-w-h-e-h",
          "h-o-l-e-h",
          "h-w-l-w-l-w-s-h-s-h-l-h",
          "h-h-h-l-h-h",
          "h-e-h-s-o-h-s-h-o-h",
          "h-h-l-o-h",
          "h-w-l-o-l-h",
          "h-w-l-o-l-w-s-h",
          "h-s-o-h-h-o-h",
          "h-w-h-s-o-h",
          "h-s-s-s-h",
          "h-o-s-h-h",
          "h-w-w-w-s-h",
          "h-l-o-s",
          "h-o-l-o-o-h-o-h-o-s-o-h-h",
          "h-l-e-l-e-h-l-h",
          "h-l-h-l-s-h",
          "h-l-s-l-s-h",
          "h-w-h-w-h-o-h",
          "h-s-h-h-e-o-h",
          "h-l-h-o-h-o-l-h",
          "h-o-o-l-o-l-o",
          "h-s-h-w-l-h",
          "h-s-l-w-l-l-l",
          "h-h-s-h-s-h-l-h-h",
          "h-o-s-h-o-h-l-h-l-h",
          "h-h-w-h-w-l-h-o-h-o-h-h-h",
          "h-s-l-l-l",
          "h-l-l-h-h",
          "h-e-h-e-o-h",
          "h-h-s-l-h-h",
          "h-s-h-w-h-w-h",
          "h-h-s-h-h-h",
          "h-e-s-s-l-e-o-h-s-l-h",
          "h-o-w-o-h",
          "h-w-o-s-h-w-h-o-h",
          "h-e-s-e-s-e-h",
          "h-l-h-w-l-o-h",
          "h-s-w-l-w",
          "h-w-o-h-l-h-l-h",
          "h-s-h-e-h",
          "h-o-s-w-h",
          "h-s-s-h-l-h",
          "h-w-w-s-h",
          "h-o-s-w-l-s-h",
          "h-w-l-w-l-l-h",
          "h-w-h-s-h-h-o-h-o-h-o-h",
          "h-o-s-o-s-l",
          "h-l-h-o-l-h-l-s-h",
          "h-l-e-l",
          "h-s-h-s-h-s-h",
          "h-l-h-o-l-l-h",
          "h-w-h-l-h-s-h-h",
          "h-w-l-o-w-o-h",
          "h-s-w-w-h",
          "h-w-l-w-h-h",
          "h-s-s-w-h-l-h",
          "h-l-s-s-h",
          "h-o-s-l-l-h",
          "h-h-o-w-h-w-h",
          "h-e-h-o-l-e-h",
          "h-s-h-l-l-h-l-h-h-s-h",
          "h-w-w-h-l-h",
          "h-o-w-h-o-o-l-h",
          "h-e-s-h-l-h",
          "h-w-s-w-e-w-h",
          "h-l-s-h-w-h",
          "h-w-w-h-w-l-h-s-h",
          "h-w-o-s-l-h",
          "h-l-l-w",
          "h-o-w-s-w-o-h",
          "h-l-l-o",
          "h-w-l-w-h-s-h-l-h",
          "h-w-l-w-h-s-o-h",
          "h-w-l-w-o-s-h-o-h",
          "h-o-s-o-h",
          "h-w-h-l-s-o-h",
          "h-l-h-l-s-h-s-h",
          "h-l-w-s-e",
          "h-w-h-o-s-h-w-h",
          "h-l-h-w-s-h-e-h",
          "h-l-h-o-l-h",
          "h-w-s-l-w-l-h",
          "h-s-h-o-h-o-h-o-h-h",
          "h-s-h-l",
          "h-w-l-h-s-h-h",
          "h-s-e-s-h-h",
          "h-l-s-h-l-h-l-h",
          "h-h-l-h-s-h",
          "h-s-w-s",
          "h-l-h-l-h-l",
          "h-o-h-l-o-h",
          "h-w-h-e-h-w-s-h",
          "h-w-s-h-h",
          "h-l-s-h-o-l-h-l-l-h",
          "h-o-s-h-h-l-h",
          "h-o-l-w",
          "h-l-w-h-l-l-h",
          "h-e-s-e-s-l-e-h",
          "h-h-o",
          "h-s-h-l-l-o-l-l-h",
          "h-s-w-h-l-h",
          "h-s-e-l-l-h",
          "h-e-h-e-s-h",
          "h-w-h-w-h-l-o-h",
          "h-l-w-w-w",
          "h-w-l-w-o",
          "h-s-o-h-l-h-h",
          "h-o-h-s-h-l-h",
          "h-s-h-o-h-o-h",
          "h-w-w-h-w-w-h-l-h",
          "h-o-h-h-h",
          "h-w-h-h-s-h-l-l-h",
          "h-w-h-s-e-h",
          "h-s-h-h-h-h",
          "h-s-h-w-h-o-h-l-h",
          "h-w-s-w-w",
          "h-l-s-h-o-s-h",
          "h-w-h-w-s-h-o-s-l-h",
          "h-o-w-l-w",
          "h-w-o-h-h",
          "h-h-s-l-h",
          "h-s-w-h-l-h-h"
         ],
         "xaxis": "x",
         "y": [
          184,
          169,
          143,
          133,
          102,
          72,
          53,
          45,
          41,
          37,
          37,
          36,
          31,
          29,
          28,
          28,
          28,
          24,
          22,
          21,
          19,
          19,
          18,
          18,
          18,
          17,
          17,
          17,
          17,
          17,
          16,
          16,
          14,
          14,
          14,
          12,
          11,
          11,
          10,
          10,
          10,
          10,
          9,
          9,
          8,
          8,
          8,
          8,
          8,
          7,
          7,
          7,
          7,
          7,
          6,
          6,
          6,
          6,
          6,
          6,
          6,
          5,
          5,
          5,
          5,
          5,
          5,
          5,
          5,
          5,
          5,
          4,
          4,
          4,
          4,
          4,
          4,
          4,
          4,
          4,
          4,
          4,
          4,
          4,
          4,
          4,
          3,
          3,
          3,
          3,
          3,
          3,
          3,
          3,
          3,
          3,
          3,
          3,
          3,
          3,
          3,
          3,
          3,
          3,
          3,
          3,
          3,
          2,
          2,
          2,
          2,
          2,
          2,
          2,
          2,
          2,
          2,
          2,
          2,
          2,
          2,
          2,
          2,
          2,
          2,
          2,
          2,
          2,
          2,
          2,
          2,
          2,
          2,
          2,
          2,
          2,
          2,
          2,
          2,
          2,
          2,
          2,
          2,
          2,
          2,
          2,
          2,
          2,
          2,
          2,
          2,
          2,
          2,
          2,
          2,
          2,
          2,
          2,
          2,
          2,
          2,
          1,
          1,
          1,
          1,
          1,
          1,
          1,
          1,
          1,
          1,
          1,
          1,
          1,
          1,
          1,
          1,
          1,
          1,
          1,
          1,
          1,
          1,
          1,
          1,
          1,
          1,
          1,
          1,
          1,
          1,
          1,
          1,
          1,
          1,
          1,
          1,
          1,
          1,
          1,
          1,
          1,
          1,
          1,
          1,
          1,
          1,
          1,
          1,
          1,
          1,
          1,
          1,
          1,
          1,
          1,
          1,
          1,
          1,
          1,
          1,
          1,
          1,
          1,
          1,
          1,
          1,
          1,
          1,
          1,
          1,
          1,
          1,
          1,
          1,
          1,
          1,
          1,
          1,
          1,
          1,
          1,
          1,
          1,
          1,
          1,
          1,
          1,
          1,
          1,
          1,
          1,
          1,
          1,
          1,
          1,
          1,
          1,
          1,
          1,
          1,
          1,
          1,
          1,
          1,
          1,
          1,
          1,
          1,
          1,
          1,
          1,
          1,
          1,
          1,
          1,
          1,
          1,
          1,
          1,
          1,
          1,
          1,
          1,
          1,
          1,
          1,
          1,
          1,
          1,
          1,
          1,
          1,
          1,
          1,
          1,
          1,
          1,
          1,
          1,
          1,
          1,
          1,
          1,
          1,
          1,
          1,
          1,
          1,
          1,
          1,
          1,
          1,
          1,
          1,
          1,
          1,
          1,
          1,
          1,
          1,
          1,
          1,
          1,
          1,
          1,
          1,
          1,
          1,
          1,
          1,
          1,
          1,
          1,
          1,
          1,
          1,
          1,
          1,
          1,
          1,
          1,
          1,
          1,
          1,
          1,
          1,
          1,
          1,
          1,
          1,
          1,
          1,
          1,
          1,
          1,
          1,
          1,
          1,
          1,
          1,
          1,
          1,
          1,
          1,
          1,
          1,
          1,
          1,
          1,
          1,
          1,
          1,
          1,
          1,
          1,
          1,
          1,
          1,
          1,
          1,
          1,
          1,
          1,
          1,
          1,
          1,
          1,
          1,
          1,
          1,
          1,
          1,
          1,
          1,
          1,
          1,
          1,
          1,
          1,
          1,
          1,
          1,
          1,
          1,
          1,
          1,
          1,
          1,
          1,
          1,
          1,
          1,
          1,
          1,
          1,
          1,
          1,
          1,
          1,
          1,
          1,
          1,
          1,
          1,
          1,
          1,
          1,
          1,
          1,
          1,
          1,
          1,
          1,
          1,
          1,
          1,
          1,
          1,
          1,
          1,
          1,
          1,
          1,
          1,
          1,
          1,
          1,
          1,
          1,
          1,
          1,
          1,
          1,
          1,
          1,
          1,
          1,
          1,
          1,
          1,
          1,
          1,
          1,
          1,
          1,
          1,
          1,
          1,
          1,
          1,
          1,
          1,
          1,
          1,
          1,
          1,
          1,
          1,
          1,
          1,
          1,
          1,
          1,
          1,
          1,
          1,
          1,
          1,
          1,
          1,
          1,
          1,
          1,
          1,
          1,
          1,
          1,
          1,
          1,
          1,
          1,
          1,
          1,
          1,
          1,
          1,
          1,
          1,
          1,
          1,
          1,
          1,
          1,
          1,
          1,
          1,
          1,
          1,
          1,
          1,
          1,
          1,
          1,
          1,
          1,
          1,
          1,
          1,
          1,
          1,
          1,
          1,
          1,
          1,
          1,
          1,
          1,
          1,
          1,
          1,
          1,
          1,
          1,
          1
         ],
         "yaxis": "y"
        }
       ],
       "layout": {
        "barmode": "relative",
        "height": 800,
        "legend": {
         "tracegroupgap": 0
        },
        "template": {
         "data": {
          "bar": [
           {
            "error_x": {
             "color": "#2a3f5f"
            },
            "error_y": {
             "color": "#2a3f5f"
            },
            "marker": {
             "line": {
              "color": "#E5ECF6",
              "width": 0.5
             },
             "pattern": {
              "fillmode": "overlay",
              "size": 10,
              "solidity": 0.2
             }
            },
            "type": "bar"
           }
          ],
          "barpolar": [
           {
            "marker": {
             "line": {
              "color": "#E5ECF6",
              "width": 0.5
             },
             "pattern": {
              "fillmode": "overlay",
              "size": 10,
              "solidity": 0.2
             }
            },
            "type": "barpolar"
           }
          ],
          "carpet": [
           {
            "aaxis": {
             "endlinecolor": "#2a3f5f",
             "gridcolor": "white",
             "linecolor": "white",
             "minorgridcolor": "white",
             "startlinecolor": "#2a3f5f"
            },
            "baxis": {
             "endlinecolor": "#2a3f5f",
             "gridcolor": "white",
             "linecolor": "white",
             "minorgridcolor": "white",
             "startlinecolor": "#2a3f5f"
            },
            "type": "carpet"
           }
          ],
          "choropleth": [
           {
            "colorbar": {
             "outlinewidth": 0,
             "ticks": ""
            },
            "type": "choropleth"
           }
          ],
          "contour": [
           {
            "colorbar": {
             "outlinewidth": 0,
             "ticks": ""
            },
            "colorscale": [
             [
              0,
              "#0d0887"
             ],
             [
              0.1111111111111111,
              "#46039f"
             ],
             [
              0.2222222222222222,
              "#7201a8"
             ],
             [
              0.3333333333333333,
              "#9c179e"
             ],
             [
              0.4444444444444444,
              "#bd3786"
             ],
             [
              0.5555555555555556,
              "#d8576b"
             ],
             [
              0.6666666666666666,
              "#ed7953"
             ],
             [
              0.7777777777777778,
              "#fb9f3a"
             ],
             [
              0.8888888888888888,
              "#fdca26"
             ],
             [
              1,
              "#f0f921"
             ]
            ],
            "type": "contour"
           }
          ],
          "contourcarpet": [
           {
            "colorbar": {
             "outlinewidth": 0,
             "ticks": ""
            },
            "type": "contourcarpet"
           }
          ],
          "heatmap": [
           {
            "colorbar": {
             "outlinewidth": 0,
             "ticks": ""
            },
            "colorscale": [
             [
              0,
              "#0d0887"
             ],
             [
              0.1111111111111111,
              "#46039f"
             ],
             [
              0.2222222222222222,
              "#7201a8"
             ],
             [
              0.3333333333333333,
              "#9c179e"
             ],
             [
              0.4444444444444444,
              "#bd3786"
             ],
             [
              0.5555555555555556,
              "#d8576b"
             ],
             [
              0.6666666666666666,
              "#ed7953"
             ],
             [
              0.7777777777777778,
              "#fb9f3a"
             ],
             [
              0.8888888888888888,
              "#fdca26"
             ],
             [
              1,
              "#f0f921"
             ]
            ],
            "type": "heatmap"
           }
          ],
          "heatmapgl": [
           {
            "colorbar": {
             "outlinewidth": 0,
             "ticks": ""
            },
            "colorscale": [
             [
              0,
              "#0d0887"
             ],
             [
              0.1111111111111111,
              "#46039f"
             ],
             [
              0.2222222222222222,
              "#7201a8"
             ],
             [
              0.3333333333333333,
              "#9c179e"
             ],
             [
              0.4444444444444444,
              "#bd3786"
             ],
             [
              0.5555555555555556,
              "#d8576b"
             ],
             [
              0.6666666666666666,
              "#ed7953"
             ],
             [
              0.7777777777777778,
              "#fb9f3a"
             ],
             [
              0.8888888888888888,
              "#fdca26"
             ],
             [
              1,
              "#f0f921"
             ]
            ],
            "type": "heatmapgl"
           }
          ],
          "histogram": [
           {
            "marker": {
             "pattern": {
              "fillmode": "overlay",
              "size": 10,
              "solidity": 0.2
             }
            },
            "type": "histogram"
           }
          ],
          "histogram2d": [
           {
            "colorbar": {
             "outlinewidth": 0,
             "ticks": ""
            },
            "colorscale": [
             [
              0,
              "#0d0887"
             ],
             [
              0.1111111111111111,
              "#46039f"
             ],
             [
              0.2222222222222222,
              "#7201a8"
             ],
             [
              0.3333333333333333,
              "#9c179e"
             ],
             [
              0.4444444444444444,
              "#bd3786"
             ],
             [
              0.5555555555555556,
              "#d8576b"
             ],
             [
              0.6666666666666666,
              "#ed7953"
             ],
             [
              0.7777777777777778,
              "#fb9f3a"
             ],
             [
              0.8888888888888888,
              "#fdca26"
             ],
             [
              1,
              "#f0f921"
             ]
            ],
            "type": "histogram2d"
           }
          ],
          "histogram2dcontour": [
           {
            "colorbar": {
             "outlinewidth": 0,
             "ticks": ""
            },
            "colorscale": [
             [
              0,
              "#0d0887"
             ],
             [
              0.1111111111111111,
              "#46039f"
             ],
             [
              0.2222222222222222,
              "#7201a8"
             ],
             [
              0.3333333333333333,
              "#9c179e"
             ],
             [
              0.4444444444444444,
              "#bd3786"
             ],
             [
              0.5555555555555556,
              "#d8576b"
             ],
             [
              0.6666666666666666,
              "#ed7953"
             ],
             [
              0.7777777777777778,
              "#fb9f3a"
             ],
             [
              0.8888888888888888,
              "#fdca26"
             ],
             [
              1,
              "#f0f921"
             ]
            ],
            "type": "histogram2dcontour"
           }
          ],
          "mesh3d": [
           {
            "colorbar": {
             "outlinewidth": 0,
             "ticks": ""
            },
            "type": "mesh3d"
           }
          ],
          "parcoords": [
           {
            "line": {
             "colorbar": {
              "outlinewidth": 0,
              "ticks": ""
             }
            },
            "type": "parcoords"
           }
          ],
          "pie": [
           {
            "automargin": true,
            "type": "pie"
           }
          ],
          "scatter": [
           {
            "fillpattern": {
             "fillmode": "overlay",
             "size": 10,
             "solidity": 0.2
            },
            "type": "scatter"
           }
          ],
          "scatter3d": [
           {
            "line": {
             "colorbar": {
              "outlinewidth": 0,
              "ticks": ""
             }
            },
            "marker": {
             "colorbar": {
              "outlinewidth": 0,
              "ticks": ""
             }
            },
            "type": "scatter3d"
           }
          ],
          "scattercarpet": [
           {
            "marker": {
             "colorbar": {
              "outlinewidth": 0,
              "ticks": ""
             }
            },
            "type": "scattercarpet"
           }
          ],
          "scattergeo": [
           {
            "marker": {
             "colorbar": {
              "outlinewidth": 0,
              "ticks": ""
             }
            },
            "type": "scattergeo"
           }
          ],
          "scattergl": [
           {
            "marker": {
             "colorbar": {
              "outlinewidth": 0,
              "ticks": ""
             }
            },
            "type": "scattergl"
           }
          ],
          "scattermapbox": [
           {
            "marker": {
             "colorbar": {
              "outlinewidth": 0,
              "ticks": ""
             }
            },
            "type": "scattermapbox"
           }
          ],
          "scatterpolar": [
           {
            "marker": {
             "colorbar": {
              "outlinewidth": 0,
              "ticks": ""
             }
            },
            "type": "scatterpolar"
           }
          ],
          "scatterpolargl": [
           {
            "marker": {
             "colorbar": {
              "outlinewidth": 0,
              "ticks": ""
             }
            },
            "type": "scatterpolargl"
           }
          ],
          "scatterternary": [
           {
            "marker": {
             "colorbar": {
              "outlinewidth": 0,
              "ticks": ""
             }
            },
            "type": "scatterternary"
           }
          ],
          "surface": [
           {
            "colorbar": {
             "outlinewidth": 0,
             "ticks": ""
            },
            "colorscale": [
             [
              0,
              "#0d0887"
             ],
             [
              0.1111111111111111,
              "#46039f"
             ],
             [
              0.2222222222222222,
              "#7201a8"
             ],
             [
              0.3333333333333333,
              "#9c179e"
             ],
             [
              0.4444444444444444,
              "#bd3786"
             ],
             [
              0.5555555555555556,
              "#d8576b"
             ],
             [
              0.6666666666666666,
              "#ed7953"
             ],
             [
              0.7777777777777778,
              "#fb9f3a"
             ],
             [
              0.8888888888888888,
              "#fdca26"
             ],
             [
              1,
              "#f0f921"
             ]
            ],
            "type": "surface"
           }
          ],
          "table": [
           {
            "cells": {
             "fill": {
              "color": "#EBF0F8"
             },
             "line": {
              "color": "white"
             }
            },
            "header": {
             "fill": {
              "color": "#C8D4E3"
             },
             "line": {
              "color": "white"
             }
            },
            "type": "table"
           }
          ]
         },
         "layout": {
          "annotationdefaults": {
           "arrowcolor": "#2a3f5f",
           "arrowhead": 0,
           "arrowwidth": 1
          },
          "autotypenumbers": "strict",
          "coloraxis": {
           "colorbar": {
            "outlinewidth": 0,
            "ticks": ""
           }
          },
          "colorscale": {
           "diverging": [
            [
             0,
             "#8e0152"
            ],
            [
             0.1,
             "#c51b7d"
            ],
            [
             0.2,
             "#de77ae"
            ],
            [
             0.3,
             "#f1b6da"
            ],
            [
             0.4,
             "#fde0ef"
            ],
            [
             0.5,
             "#f7f7f7"
            ],
            [
             0.6,
             "#e6f5d0"
            ],
            [
             0.7,
             "#b8e186"
            ],
            [
             0.8,
             "#7fbc41"
            ],
            [
             0.9,
             "#4d9221"
            ],
            [
             1,
             "#276419"
            ]
           ],
           "sequential": [
            [
             0,
             "#0d0887"
            ],
            [
             0.1111111111111111,
             "#46039f"
            ],
            [
             0.2222222222222222,
             "#7201a8"
            ],
            [
             0.3333333333333333,
             "#9c179e"
            ],
            [
             0.4444444444444444,
             "#bd3786"
            ],
            [
             0.5555555555555556,
             "#d8576b"
            ],
            [
             0.6666666666666666,
             "#ed7953"
            ],
            [
             0.7777777777777778,
             "#fb9f3a"
            ],
            [
             0.8888888888888888,
             "#fdca26"
            ],
            [
             1,
             "#f0f921"
            ]
           ],
           "sequentialminus": [
            [
             0,
             "#0d0887"
            ],
            [
             0.1111111111111111,
             "#46039f"
            ],
            [
             0.2222222222222222,
             "#7201a8"
            ],
            [
             0.3333333333333333,
             "#9c179e"
            ],
            [
             0.4444444444444444,
             "#bd3786"
            ],
            [
             0.5555555555555556,
             "#d8576b"
            ],
            [
             0.6666666666666666,
             "#ed7953"
            ],
            [
             0.7777777777777778,
             "#fb9f3a"
            ],
            [
             0.8888888888888888,
             "#fdca26"
            ],
            [
             1,
             "#f0f921"
            ]
           ]
          },
          "colorway": [
           "#636efa",
           "#EF553B",
           "#00cc96",
           "#ab63fa",
           "#FFA15A",
           "#19d3f3",
           "#FF6692",
           "#B6E880",
           "#FF97FF",
           "#FECB52"
          ],
          "font": {
           "color": "#2a3f5f"
          },
          "geo": {
           "bgcolor": "white",
           "lakecolor": "white",
           "landcolor": "#E5ECF6",
           "showlakes": true,
           "showland": true,
           "subunitcolor": "white"
          },
          "hoverlabel": {
           "align": "left"
          },
          "hovermode": "closest",
          "mapbox": {
           "style": "light"
          },
          "paper_bgcolor": "white",
          "plot_bgcolor": "#E5ECF6",
          "polar": {
           "angularaxis": {
            "gridcolor": "white",
            "linecolor": "white",
            "ticks": ""
           },
           "bgcolor": "#E5ECF6",
           "radialaxis": {
            "gridcolor": "white",
            "linecolor": "white",
            "ticks": ""
           }
          },
          "scene": {
           "xaxis": {
            "backgroundcolor": "#E5ECF6",
            "gridcolor": "white",
            "gridwidth": 2,
            "linecolor": "white",
            "showbackground": true,
            "ticks": "",
            "zerolinecolor": "white"
           },
           "yaxis": {
            "backgroundcolor": "#E5ECF6",
            "gridcolor": "white",
            "gridwidth": 2,
            "linecolor": "white",
            "showbackground": true,
            "ticks": "",
            "zerolinecolor": "white"
           },
           "zaxis": {
            "backgroundcolor": "#E5ECF6",
            "gridcolor": "white",
            "gridwidth": 2,
            "linecolor": "white",
            "showbackground": true,
            "ticks": "",
            "zerolinecolor": "white"
           }
          },
          "shapedefaults": {
           "line": {
            "color": "#2a3f5f"
           }
          },
          "ternary": {
           "aaxis": {
            "gridcolor": "white",
            "linecolor": "white",
            "ticks": ""
           },
           "baxis": {
            "gridcolor": "white",
            "linecolor": "white",
            "ticks": ""
           },
           "bgcolor": "#E5ECF6",
           "caxis": {
            "gridcolor": "white",
            "linecolor": "white",
            "ticks": ""
           }
          },
          "title": {
           "x": 0.05
          },
          "xaxis": {
           "automargin": true,
           "gridcolor": "white",
           "linecolor": "white",
           "ticks": "",
           "title": {
            "standoff": 15
           },
           "zerolinecolor": "white",
           "zerolinewidth": 2
          },
          "yaxis": {
           "automargin": true,
           "gridcolor": "white",
           "linecolor": "white",
           "ticks": "",
           "title": {
            "standoff": 15
           },
           "zerolinecolor": "white",
           "zerolinewidth": 2
          }
         }
        },
        "title": {
         "text": "Activity Chain Distribution - Total Counts"
        },
        "width": 1600,
        "xaxis": {
         "anchor": "y",
         "domain": [
          0,
          1
         ],
         "title": {
          "text": "Activity Chain"
         }
        },
        "yaxis": {
         "anchor": "x",
         "domain": [
          0,
          1
         ],
         "title": {
          "text": "Total Count"
         }
        }
       }
      }
     },
     "metadata": {},
     "output_type": "display_data"
    }
   ],
   "source": [
    "# Calculate total counts for each activity chain\n",
    "chain_counts = df_activity_chains['activity_chain'].value_counts().reset_index()\n",
    "chain_counts.columns = ['Activity Chain', 'Count']\n",
    "\n",
    "# Plot total counts\n",
    "fig = px.bar(chain_counts, x='Activity Chain', y='Count', title='Activity Chain Distribution - Total Counts',\n",
    "             labels={'Count': 'Total Count', 'Activity Chain': 'Activity Chain'})\n",
    "fig.update_layout(width=1600, height=800)\n",
    "fig.show()"
   ]
  }
 ],
 "metadata": {
  "kernelspec": {
   "display_name": "abmt",
   "language": "python",
   "name": "python3"
  },
  "language_info": {
   "codemirror_mode": {
    "name": "ipython",
    "version": 3
   },
   "file_extension": ".py",
   "mimetype": "text/x-python",
   "name": "python",
   "nbconvert_exporter": "python",
   "pygments_lexer": "ipython3",
   "version": "3.8.18"
  }
 },
 "nbformat": 4,
 "nbformat_minor": 2
}
