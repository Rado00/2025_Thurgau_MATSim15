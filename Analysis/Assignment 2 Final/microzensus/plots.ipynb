{
 "cells": [
  {
   "cell_type": "markdown",
   "metadata": {},
   "source": [
    "## Week 5"
   ]
  },
  {
   "cell_type": "markdown",
   "metadata": {},
   "source": [
    "### Setup"
   ]
  },
  {
   "cell_type": "markdown",
   "metadata": {},
   "source": [
    "#### Import Libraries"
   ]
  },
  {
   "cell_type": "code",
   "execution_count": null,
   "metadata": {},
   "outputs": [],
   "source": [
    "import matsim\n",
    "import os\n",
    "import contextily as ctx\n",
    "import geopandas as gpd\n",
    "import matplotlib.pyplot as plt\n",
    "from plotly.graph_objs import Scattermapbox, Layout, Figure\n",
    "import plotly.express as px\n",
    "import plotly.graph_objects as go\n",
    "import pandas as pd\n",
    "import pyproj\n",
    "\n",
    "from collections import defaultdict"
   ]
  },
  {
   "cell_type": "code",
   "execution_count": null,
   "metadata": {},
   "outputs": [],
   "source": [
    "data_folder = '/cluster/home/salathem/Programming/data'\n",
    "scenario_path = data_folder + '/scenarios/Zurich/10pct'"
   ]
  },
  {
   "cell_type": "markdown",
   "metadata": {},
   "source": [
    "### Network"
   ]
  },
  {
   "cell_type": "code",
   "execution_count": null,
   "metadata": {},
   "outputs": [],
   "source": [
    "# This reads in the network in a structure that contains two tables, one for links and one for nodes.\n",
    "network = matsim.read_network(os.path.join(scenario_path, \"zurich_network.xml.gz\"))\n",
    "\n",
    "# this creates a geographic dataframe\n",
    "network_geo = network.as_geo('epsg:2056')\n",
    "network_geo"
   ]
  },
  {
   "cell_type": "markdown",
   "metadata": {},
   "source": [
    "### Population"
   ]
  },
  {
   "cell_type": "code",
   "execution_count": null,
   "metadata": {},
   "outputs": [],
   "source": [
    "plans = matsim.plan_reader(os.path.join(scenario_path, \"zurich_population_10pct.xml.gz\"))\n",
    "first_person, first_plan = next(plans)"
   ]
  },
  {
   "cell_type": "code",
   "execution_count": null,
   "metadata": {},
   "outputs": [],
   "source": [
    "# example of how to create a dataframe with activities\n",
    "plans = matsim.plan_reader(os.path.join(scenario_path, \"zurich_population_10pct.xml.gz\"))\n",
    "records = []\n",
    "for person, plan in plans:\n",
    "    person_id = person.attrib['id']\n",
    "    for plan_element in plan:\n",
    "        if plan_element.tag == 'activity':\n",
    "            records.append({\n",
    "                'id': person_id,\n",
    "                'x': float(plan_element.attrib['x']),\n",
    "                'y': float(plan_element.attrib['y']),\n",
    "                'type': plan_element.attrib['type']\n",
    "            })\n",
    "activities = pd.DataFrame.from_records(records)\n",
    "activities"
   ]
  },
  {
   "cell_type": "code",
   "execution_count": null,
   "metadata": {},
   "outputs": [],
   "source": [
    "activities"
   ]
  },
  {
   "cell_type": "code",
   "execution_count": null,
   "metadata": {},
   "outputs": [],
   "source": [
    "# Set up the coordinate transformation.\n",
    "project = pyproj.Transformer.from_crs(\n",
    "    \"EPSG:2056\",  # Source coordinate system (Swiss reference system)\n",
    "    \"EPSG:4326\",  # Target coordinate system (global latitude/longitude)\n",
    "    always_xy=True # The input coordinates are in the form (x, y)\n",
    ")\n",
    "\n",
    "# Transform the coordinates and add them to the dataframe.\n",
    "activities['longitude'], activities['latitude'] = zip(*activities.apply(lambda row: project.transform(row['x'], row['y']), axis=1))\n",
    "\n",
    "# Now, we'll use Plotly to create a scatter plot on a map.\n",
    "mapbox_access_token = \"your_mapbox_access_token\"  # You need a Mapbox access token for the map.\n",
    "\n",
    "# Create the map figure, using latitude and longitude for positioning.\n",
    "fig = px.scatter_mapbox(\n",
    "    activities,\n",
    "    lat='latitude',\n",
    "    lon='longitude',\n",
    "    color='type',  # Assigning color based on the 'type' column.\n",
    "    hover_name='id',  # Data to be displayed on hover.\n",
    "    size_max=15,\n",
    "    zoom=10  # Initial zoom level\n",
    ")\n",
    "\n",
    "fig.update_layout(\n",
    "    mapbox_style=\"open-street-map\",  # Set the map style to \"open-street-map\".\n",
    "    mapbox_accesstoken=mapbox_access_token,  # Input your personal Mapbox access token.\n",
    "    margin={\"r\": 0, \"t\": 0, \"l\": 0, \"b\": 0}  # Margins of the map\n",
    ")\n",
    "\n",
    "fig.show()"
   ]
  },
  {
   "cell_type": "markdown",
   "metadata": {},
   "source": [
    "### Events"
   ]
  },
  {
   "cell_type": "code",
   "execution_count": null,
   "metadata": {},
   "outputs": [],
   "source": []
  }
 ],
 "metadata": {
  "kernelspec": {
   "display_name": "base",
   "language": "python",
   "name": "python3"
  },
  "language_info": {
   "codemirror_mode": {
    "name": "ipython",
    "version": 3
   },
   "file_extension": ".py",
   "mimetype": "text/x-python",
   "name": "python",
   "nbconvert_exporter": "python",
   "pygments_lexer": "ipython3",
   "version": "3.10.13"
  }
 },
 "nbformat": 4,
 "nbformat_minor": 2
}
